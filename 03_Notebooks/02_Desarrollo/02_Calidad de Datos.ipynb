{
 "cells": [
  {
   "cell_type": "markdown",
   "id": "d31dea65",
   "metadata": {},
   "source": [
    "# CALIDAD DE DATOS"
   ]
  },
  {
   "cell_type": "markdown",
   "id": "swiss-fault",
   "metadata": {},
   "source": [
    "## IMPORTAR PAQUETES"
   ]
  },
  {
   "cell_type": "code",
   "execution_count": 5,
   "id": "adjacent-toddler",
   "metadata": {},
   "outputs": [],
   "source": [
    "import numpy as np\n",
    "import pandas as pd\n",
    "from janitor import clean_names\n",
    "import matplotlib.pyplot as plt\n",
    "\n",
    "#Automcompletar rápido\n",
    "%config IPCompleter.greedy=True\n",
    "\n",
    "#Desactivar notación científica\n",
    "pd.options.display.float_format = '{:,.2f}'.format"
   ]
  },
  {
   "cell_type": "markdown",
   "id": "graduate-compensation",
   "metadata": {},
   "source": [
    "## IMPORTAR LOS DATOS"
   ]
  },
  {
   "cell_type": "code",
   "execution_count": 6,
   "id": "28c63848",
   "metadata": {},
   "outputs": [],
   "source": [
    "ruta_proyecto = r'C:\\Users\\mcent\\OneDrive\\Escritorio\\PROYECTOS ML\\SCORING_DE_RIESGOS'"
   ]
  },
  {
   "cell_type": "code",
   "execution_count": 7,
   "id": "5d9dc5ea",
   "metadata": {},
   "outputs": [],
   "source": [
    "nombre_fichero_datos = 'trabajo.csv'"
   ]
  },
  {
   "cell_type": "markdown",
   "id": "ae75bf0b",
   "metadata": {},
   "source": [
    "Cargar los datos."
   ]
  },
  {
   "cell_type": "code",
   "execution_count": 8,
   "id": "24ff453b",
   "metadata": {
    "scrolled": false
   },
   "outputs": [
    {
     "data": {
      "text/html": [
       "<div>\n",
       "<style scoped>\n",
       "    .dataframe tbody tr th:only-of-type {\n",
       "        vertical-align: middle;\n",
       "    }\n",
       "\n",
       "    .dataframe tbody tr th {\n",
       "        vertical-align: top;\n",
       "    }\n",
       "\n",
       "    .dataframe thead th {\n",
       "        text-align: right;\n",
       "    }\n",
       "</style>\n",
       "<table border=\"1\" class=\"dataframe\">\n",
       "  <thead>\n",
       "    <tr style=\"text-align: right;\">\n",
       "      <th></th>\n",
       "      <th>empleo</th>\n",
       "      <th>antigüedad_empleo</th>\n",
       "      <th>ingresos</th>\n",
       "      <th>ingresos_verificados</th>\n",
       "      <th>rating</th>\n",
       "      <th>dti</th>\n",
       "      <th>vivienda</th>\n",
       "      <th>num_hipotecas</th>\n",
       "      <th>num_lineas_credito</th>\n",
       "      <th>porc_tarjetas_75p</th>\n",
       "      <th>...</th>\n",
       "      <th>id_prestamo</th>\n",
       "      <th>descripcion</th>\n",
       "      <th>finalidad</th>\n",
       "      <th>principal</th>\n",
       "      <th>tipo_interes</th>\n",
       "      <th>num_cuotas</th>\n",
       "      <th>imp_cuota</th>\n",
       "      <th>imp_amortizado</th>\n",
       "      <th>estado</th>\n",
       "      <th>imp_recuperado</th>\n",
       "    </tr>\n",
       "    <tr>\n",
       "      <th>id_cliente</th>\n",
       "      <th></th>\n",
       "      <th></th>\n",
       "      <th></th>\n",
       "      <th></th>\n",
       "      <th></th>\n",
       "      <th></th>\n",
       "      <th></th>\n",
       "      <th></th>\n",
       "      <th></th>\n",
       "      <th></th>\n",
       "      <th></th>\n",
       "      <th></th>\n",
       "      <th></th>\n",
       "      <th></th>\n",
       "      <th></th>\n",
       "      <th></th>\n",
       "      <th></th>\n",
       "      <th></th>\n",
       "      <th></th>\n",
       "      <th></th>\n",
       "      <th></th>\n",
       "    </tr>\n",
       "  </thead>\n",
       "  <tbody>\n",
       "    <tr>\n",
       "      <th>137387967</th>\n",
       "      <td>Hvac technician</td>\n",
       "      <td>3 years</td>\n",
       "      <td>54,000.00</td>\n",
       "      <td>Source Verified</td>\n",
       "      <td>A</td>\n",
       "      <td>19.31</td>\n",
       "      <td>MORTGAGE</td>\n",
       "      <td>2.00</td>\n",
       "      <td>10.00</td>\n",
       "      <td>33.30</td>\n",
       "      <td>...</td>\n",
       "      <td>NaN</td>\n",
       "      <td>NaN</td>\n",
       "      <td>debt_consolidation</td>\n",
       "      <td>15,000.00</td>\n",
       "      <td>7.21</td>\n",
       "      <td>36 months</td>\n",
       "      <td>464.60</td>\n",
       "      <td>2,669.06</td>\n",
       "      <td>Current</td>\n",
       "      <td>0.00</td>\n",
       "    </tr>\n",
       "    <tr>\n",
       "      <th>4798121</th>\n",
       "      <td>Target Promotions and Marketing,Inc</td>\n",
       "      <td>10+ years</td>\n",
       "      <td>65,000.00</td>\n",
       "      <td>Not Verified</td>\n",
       "      <td>D</td>\n",
       "      <td>25.40</td>\n",
       "      <td>RENT</td>\n",
       "      <td>1.00</td>\n",
       "      <td>15.00</td>\n",
       "      <td>85.70</td>\n",
       "      <td>...</td>\n",
       "      <td>NaN</td>\n",
       "      <td>NaN</td>\n",
       "      <td>debt_consolidation</td>\n",
       "      <td>10,000.00</td>\n",
       "      <td>17.77</td>\n",
       "      <td>36 months</td>\n",
       "      <td>360.38</td>\n",
       "      <td>6,362.96</td>\n",
       "      <td>Charged Off</td>\n",
       "      <td>0.00</td>\n",
       "    </tr>\n",
       "    <tr>\n",
       "      <th>87998444</th>\n",
       "      <td>executive director</td>\n",
       "      <td>9 years</td>\n",
       "      <td>188,000.00</td>\n",
       "      <td>Source Verified</td>\n",
       "      <td>B</td>\n",
       "      <td>11.69</td>\n",
       "      <td>MORTGAGE</td>\n",
       "      <td>3.00</td>\n",
       "      <td>15.00</td>\n",
       "      <td>0.00</td>\n",
       "      <td>...</td>\n",
       "      <td>NaN</td>\n",
       "      <td>NaN</td>\n",
       "      <td>credit_card</td>\n",
       "      <td>27,000.00</td>\n",
       "      <td>8.99</td>\n",
       "      <td>60 months</td>\n",
       "      <td>560.35</td>\n",
       "      <td>12,443.00</td>\n",
       "      <td>Current</td>\n",
       "      <td>0.00</td>\n",
       "    </tr>\n",
       "    <tr>\n",
       "      <th>132883631</th>\n",
       "      <td>Subsea Technician</td>\n",
       "      <td>7 years</td>\n",
       "      <td>125,000.00</td>\n",
       "      <td>Source Verified</td>\n",
       "      <td>B</td>\n",
       "      <td>9.00</td>\n",
       "      <td>MORTGAGE</td>\n",
       "      <td>1.00</td>\n",
       "      <td>6.00</td>\n",
       "      <td>33.30</td>\n",
       "      <td>...</td>\n",
       "      <td>NaN</td>\n",
       "      <td>NaN</td>\n",
       "      <td>debt_consolidation</td>\n",
       "      <td>22,000.00</td>\n",
       "      <td>10.90</td>\n",
       "      <td>36 months</td>\n",
       "      <td>719.22</td>\n",
       "      <td>22,000.00</td>\n",
       "      <td>Fully Paid</td>\n",
       "      <td>0.00</td>\n",
       "    </tr>\n",
       "    <tr>\n",
       "      <th>77861711</th>\n",
       "      <td>Correctional officer</td>\n",
       "      <td>10+ years</td>\n",
       "      <td>50,000.00</td>\n",
       "      <td>Verified</td>\n",
       "      <td>C</td>\n",
       "      <td>29.31</td>\n",
       "      <td>MORTGAGE</td>\n",
       "      <td>1.00</td>\n",
       "      <td>8.00</td>\n",
       "      <td>0.00</td>\n",
       "      <td>...</td>\n",
       "      <td>NaN</td>\n",
       "      <td>NaN</td>\n",
       "      <td>debt_consolidation</td>\n",
       "      <td>14,400.00</td>\n",
       "      <td>15.31</td>\n",
       "      <td>36 months</td>\n",
       "      <td>501.37</td>\n",
       "      <td>2,310.49</td>\n",
       "      <td>Charged Off</td>\n",
       "      <td>6,430.36</td>\n",
       "    </tr>\n",
       "    <tr>\n",
       "      <th>...</th>\n",
       "      <td>...</td>\n",
       "      <td>...</td>\n",
       "      <td>...</td>\n",
       "      <td>...</td>\n",
       "      <td>...</td>\n",
       "      <td>...</td>\n",
       "      <td>...</td>\n",
       "      <td>...</td>\n",
       "      <td>...</td>\n",
       "      <td>...</td>\n",
       "      <td>...</td>\n",
       "      <td>...</td>\n",
       "      <td>...</td>\n",
       "      <td>...</td>\n",
       "      <td>...</td>\n",
       "      <td>...</td>\n",
       "      <td>...</td>\n",
       "      <td>...</td>\n",
       "      <td>...</td>\n",
       "      <td>...</td>\n",
       "      <td>...</td>\n",
       "    </tr>\n",
       "    <tr>\n",
       "      <th>129396054</th>\n",
       "      <td>Field Manager</td>\n",
       "      <td>10+ years</td>\n",
       "      <td>55,000.00</td>\n",
       "      <td>Source Verified</td>\n",
       "      <td>D</td>\n",
       "      <td>15.36</td>\n",
       "      <td>OWN</td>\n",
       "      <td>1.00</td>\n",
       "      <td>7.00</td>\n",
       "      <td>75.00</td>\n",
       "      <td>...</td>\n",
       "      <td>NaN</td>\n",
       "      <td>NaN</td>\n",
       "      <td>debt_consolidation</td>\n",
       "      <td>14,400.00</td>\n",
       "      <td>17.47</td>\n",
       "      <td>60 months</td>\n",
       "      <td>361.53</td>\n",
       "      <td>1,975.94</td>\n",
       "      <td>Current</td>\n",
       "      <td>0.00</td>\n",
       "    </tr>\n",
       "    <tr>\n",
       "      <th>119242742</th>\n",
       "      <td>NaN</td>\n",
       "      <td>NaN</td>\n",
       "      <td>20,000.00</td>\n",
       "      <td>Source Verified</td>\n",
       "      <td>C</td>\n",
       "      <td>8.02</td>\n",
       "      <td>RENT</td>\n",
       "      <td>0.00</td>\n",
       "      <td>5.00</td>\n",
       "      <td>66.70</td>\n",
       "      <td>...</td>\n",
       "      <td>NaN</td>\n",
       "      <td>NaN</td>\n",
       "      <td>debt_consolidation</td>\n",
       "      <td>2,500.00</td>\n",
       "      <td>12.62</td>\n",
       "      <td>36 months</td>\n",
       "      <td>83.78</td>\n",
       "      <td>996.06</td>\n",
       "      <td>Late (31-120 days)</td>\n",
       "      <td>0.00</td>\n",
       "    </tr>\n",
       "    <tr>\n",
       "      <th>51876926</th>\n",
       "      <td>Office Manager</td>\n",
       "      <td>10+ years</td>\n",
       "      <td>42,000.00</td>\n",
       "      <td>Not Verified</td>\n",
       "      <td>C</td>\n",
       "      <td>20.85</td>\n",
       "      <td>MORTGAGE</td>\n",
       "      <td>6.00</td>\n",
       "      <td>9.00</td>\n",
       "      <td>100.00</td>\n",
       "      <td>...</td>\n",
       "      <td>NaN</td>\n",
       "      <td>NaN</td>\n",
       "      <td>debt_consolidation</td>\n",
       "      <td>8,000.00</td>\n",
       "      <td>12.29</td>\n",
       "      <td>36 months</td>\n",
       "      <td>266.83</td>\n",
       "      <td>8,000.00</td>\n",
       "      <td>Fully Paid</td>\n",
       "      <td>0.00</td>\n",
       "    </tr>\n",
       "    <tr>\n",
       "      <th>53664762</th>\n",
       "      <td>Attorney</td>\n",
       "      <td>8 years</td>\n",
       "      <td>168,000.00</td>\n",
       "      <td>Source Verified</td>\n",
       "      <td>E</td>\n",
       "      <td>4.69</td>\n",
       "      <td>RENT</td>\n",
       "      <td>0.00</td>\n",
       "      <td>8.00</td>\n",
       "      <td>0.00</td>\n",
       "      <td>...</td>\n",
       "      <td>NaN</td>\n",
       "      <td>NaN</td>\n",
       "      <td>small_business</td>\n",
       "      <td>30,050.00</td>\n",
       "      <td>18.25</td>\n",
       "      <td>60 months</td>\n",
       "      <td>767.17</td>\n",
       "      <td>2,964.44</td>\n",
       "      <td>Charged Off</td>\n",
       "      <td>2,750.88</td>\n",
       "    </tr>\n",
       "    <tr>\n",
       "      <th>94394801</th>\n",
       "      <td>NaN</td>\n",
       "      <td>NaN</td>\n",
       "      <td>80,000.00</td>\n",
       "      <td>Not Verified</td>\n",
       "      <td>C</td>\n",
       "      <td>31.49</td>\n",
       "      <td>MORTGAGE</td>\n",
       "      <td>1.00</td>\n",
       "      <td>9.00</td>\n",
       "      <td>50.00</td>\n",
       "      <td>...</td>\n",
       "      <td>NaN</td>\n",
       "      <td>NaN</td>\n",
       "      <td>debt_consolidation</td>\n",
       "      <td>10,000.00</td>\n",
       "      <td>13.99</td>\n",
       "      <td>36 months</td>\n",
       "      <td>341.73</td>\n",
       "      <td>7,096.40</td>\n",
       "      <td>Current</td>\n",
       "      <td>0.00</td>\n",
       "    </tr>\n",
       "  </tbody>\n",
       "</table>\n",
       "<p>140000 rows × 24 columns</p>\n",
       "</div>"
      ],
      "text/plain": [
       "                                         empleo antigüedad_empleo   ingresos  \\\n",
       "id_cliente                                                                     \n",
       "137387967                      Hvac technician            3 years  54,000.00   \n",
       "4798121     Target Promotions and Marketing,Inc         10+ years  65,000.00   \n",
       "87998444                     executive director           9 years 188,000.00   \n",
       "132883631                     Subsea Technician           7 years 125,000.00   \n",
       "77861711                   Correctional officer         10+ years  50,000.00   \n",
       "...                                         ...               ...        ...   \n",
       "129396054                         Field Manager         10+ years  55,000.00   \n",
       "119242742                                   NaN               NaN  20,000.00   \n",
       "51876926                         Office Manager         10+ years  42,000.00   \n",
       "53664762                               Attorney           8 years 168,000.00   \n",
       "94394801                                    NaN               NaN  80,000.00   \n",
       "\n",
       "           ingresos_verificados rating   dti  vivienda  num_hipotecas  \\\n",
       "id_cliente                                                              \n",
       "137387967       Source Verified      A 19.31  MORTGAGE           2.00   \n",
       "4798121            Not Verified      D 25.40      RENT           1.00   \n",
       "87998444        Source Verified      B 11.69  MORTGAGE           3.00   \n",
       "132883631       Source Verified      B  9.00  MORTGAGE           1.00   \n",
       "77861711               Verified      C 29.31  MORTGAGE           1.00   \n",
       "...                         ...    ...   ...       ...            ...   \n",
       "129396054       Source Verified      D 15.36       OWN           1.00   \n",
       "119242742       Source Verified      C  8.02      RENT           0.00   \n",
       "51876926           Not Verified      C 20.85  MORTGAGE           6.00   \n",
       "53664762        Source Verified      E  4.69      RENT           0.00   \n",
       "94394801           Not Verified      C 31.49  MORTGAGE           1.00   \n",
       "\n",
       "            num_lineas_credito  porc_tarjetas_75p  ...  id_prestamo  \\\n",
       "id_cliente                                         ...                \n",
       "137387967                10.00              33.30  ...          NaN   \n",
       "4798121                  15.00              85.70  ...          NaN   \n",
       "87998444                 15.00               0.00  ...          NaN   \n",
       "132883631                 6.00              33.30  ...          NaN   \n",
       "77861711                  8.00               0.00  ...          NaN   \n",
       "...                        ...                ...  ...          ...   \n",
       "129396054                 7.00              75.00  ...          NaN   \n",
       "119242742                 5.00              66.70  ...          NaN   \n",
       "51876926                  9.00             100.00  ...          NaN   \n",
       "53664762                  8.00               0.00  ...          NaN   \n",
       "94394801                  9.00              50.00  ...          NaN   \n",
       "\n",
       "            descripcion           finalidad  principal  tipo_interes  \\\n",
       "id_cliente                                                             \n",
       "137387967           NaN  debt_consolidation  15,000.00          7.21   \n",
       "4798121             NaN  debt_consolidation  10,000.00         17.77   \n",
       "87998444            NaN         credit_card  27,000.00          8.99   \n",
       "132883631           NaN  debt_consolidation  22,000.00         10.90   \n",
       "77861711            NaN  debt_consolidation  14,400.00         15.31   \n",
       "...                 ...                 ...        ...           ...   \n",
       "129396054           NaN  debt_consolidation  14,400.00         17.47   \n",
       "119242742           NaN  debt_consolidation   2,500.00         12.62   \n",
       "51876926            NaN  debt_consolidation   8,000.00         12.29   \n",
       "53664762            NaN      small_business  30,050.00         18.25   \n",
       "94394801            NaN  debt_consolidation  10,000.00         13.99   \n",
       "\n",
       "            num_cuotas imp_cuota  imp_amortizado              estado  \\\n",
       "id_cliente                                                             \n",
       "137387967    36 months    464.60        2,669.06             Current   \n",
       "4798121      36 months    360.38        6,362.96         Charged Off   \n",
       "87998444     60 months    560.35       12,443.00             Current   \n",
       "132883631    36 months    719.22       22,000.00          Fully Paid   \n",
       "77861711     36 months    501.37        2,310.49         Charged Off   \n",
       "...                ...       ...             ...                 ...   \n",
       "129396054    60 months    361.53        1,975.94             Current   \n",
       "119242742    36 months     83.78          996.06  Late (31-120 days)   \n",
       "51876926     36 months    266.83        8,000.00          Fully Paid   \n",
       "53664762     60 months    767.17        2,964.44         Charged Off   \n",
       "94394801     36 months    341.73        7,096.40             Current   \n",
       "\n",
       "           imp_recuperado  \n",
       "id_cliente                 \n",
       "137387967            0.00  \n",
       "4798121              0.00  \n",
       "87998444             0.00  \n",
       "132883631            0.00  \n",
       "77861711         6,430.36  \n",
       "...                   ...  \n",
       "129396054            0.00  \n",
       "119242742            0.00  \n",
       "51876926             0.00  \n",
       "53664762         2,750.88  \n",
       "94394801             0.00  \n",
       "\n",
       "[140000 rows x 24 columns]"
      ]
     },
     "execution_count": 8,
     "metadata": {},
     "output_type": "execute_result"
    }
   ],
   "source": [
    "ruta_completa = ruta_proyecto + '/02_Datos/03_Trabajo/' + nombre_fichero_datos\n",
    "\n",
    "df = pd.read_csv(ruta_completa,index_col=0)\n",
    "df"
   ]
  },
  {
   "cell_type": "markdown",
   "id": "9790d322",
   "metadata": {},
   "source": [
    "## CORRECCIÓN DE NOMBRES DE VARIABLES"
   ]
  },
  {
   "cell_type": "markdown",
   "id": "f1fa5201",
   "metadata": {},
   "source": [
    "### Corrección automática"
   ]
  },
  {
   "cell_type": "code",
   "execution_count": 9,
   "id": "02607b69",
   "metadata": {},
   "outputs": [
    {
     "data": {
      "text/html": [
       "<div>\n",
       "<style scoped>\n",
       "    .dataframe tbody tr th:only-of-type {\n",
       "        vertical-align: middle;\n",
       "    }\n",
       "\n",
       "    .dataframe tbody tr th {\n",
       "        vertical-align: top;\n",
       "    }\n",
       "\n",
       "    .dataframe thead th {\n",
       "        text-align: right;\n",
       "    }\n",
       "</style>\n",
       "<table border=\"1\" class=\"dataframe\">\n",
       "  <thead>\n",
       "    <tr style=\"text-align: right;\">\n",
       "      <th></th>\n",
       "      <th>empleo</th>\n",
       "      <th>antiguedad_empleo</th>\n",
       "      <th>ingresos</th>\n",
       "      <th>ingresos_verificados</th>\n",
       "      <th>rating</th>\n",
       "      <th>dti</th>\n",
       "      <th>vivienda</th>\n",
       "      <th>num_hipotecas</th>\n",
       "      <th>num_lineas_credito</th>\n",
       "      <th>porc_tarjetas_75p</th>\n",
       "      <th>...</th>\n",
       "      <th>id_prestamo</th>\n",
       "      <th>descripcion</th>\n",
       "      <th>finalidad</th>\n",
       "      <th>principal</th>\n",
       "      <th>tipo_interes</th>\n",
       "      <th>num_cuotas</th>\n",
       "      <th>imp_cuota</th>\n",
       "      <th>imp_amortizado</th>\n",
       "      <th>estado</th>\n",
       "      <th>imp_recuperado</th>\n",
       "    </tr>\n",
       "    <tr>\n",
       "      <th>id_cliente</th>\n",
       "      <th></th>\n",
       "      <th></th>\n",
       "      <th></th>\n",
       "      <th></th>\n",
       "      <th></th>\n",
       "      <th></th>\n",
       "      <th></th>\n",
       "      <th></th>\n",
       "      <th></th>\n",
       "      <th></th>\n",
       "      <th></th>\n",
       "      <th></th>\n",
       "      <th></th>\n",
       "      <th></th>\n",
       "      <th></th>\n",
       "      <th></th>\n",
       "      <th></th>\n",
       "      <th></th>\n",
       "      <th></th>\n",
       "      <th></th>\n",
       "      <th></th>\n",
       "    </tr>\n",
       "  </thead>\n",
       "  <tbody>\n",
       "    <tr>\n",
       "      <th>137387967</th>\n",
       "      <td>Hvac technician</td>\n",
       "      <td>3 years</td>\n",
       "      <td>54,000.00</td>\n",
       "      <td>Source Verified</td>\n",
       "      <td>A</td>\n",
       "      <td>19.31</td>\n",
       "      <td>MORTGAGE</td>\n",
       "      <td>2.00</td>\n",
       "      <td>10.00</td>\n",
       "      <td>33.30</td>\n",
       "      <td>...</td>\n",
       "      <td>NaN</td>\n",
       "      <td>NaN</td>\n",
       "      <td>debt_consolidation</td>\n",
       "      <td>15,000.00</td>\n",
       "      <td>7.21</td>\n",
       "      <td>36 months</td>\n",
       "      <td>464.60</td>\n",
       "      <td>2,669.06</td>\n",
       "      <td>Current</td>\n",
       "      <td>0.00</td>\n",
       "    </tr>\n",
       "    <tr>\n",
       "      <th>4798121</th>\n",
       "      <td>Target Promotions and Marketing,Inc</td>\n",
       "      <td>10+ years</td>\n",
       "      <td>65,000.00</td>\n",
       "      <td>Not Verified</td>\n",
       "      <td>D</td>\n",
       "      <td>25.40</td>\n",
       "      <td>RENT</td>\n",
       "      <td>1.00</td>\n",
       "      <td>15.00</td>\n",
       "      <td>85.70</td>\n",
       "      <td>...</td>\n",
       "      <td>NaN</td>\n",
       "      <td>NaN</td>\n",
       "      <td>debt_consolidation</td>\n",
       "      <td>10,000.00</td>\n",
       "      <td>17.77</td>\n",
       "      <td>36 months</td>\n",
       "      <td>360.38</td>\n",
       "      <td>6,362.96</td>\n",
       "      <td>Charged Off</td>\n",
       "      <td>0.00</td>\n",
       "    </tr>\n",
       "    <tr>\n",
       "      <th>87998444</th>\n",
       "      <td>executive director</td>\n",
       "      <td>9 years</td>\n",
       "      <td>188,000.00</td>\n",
       "      <td>Source Verified</td>\n",
       "      <td>B</td>\n",
       "      <td>11.69</td>\n",
       "      <td>MORTGAGE</td>\n",
       "      <td>3.00</td>\n",
       "      <td>15.00</td>\n",
       "      <td>0.00</td>\n",
       "      <td>...</td>\n",
       "      <td>NaN</td>\n",
       "      <td>NaN</td>\n",
       "      <td>credit_card</td>\n",
       "      <td>27,000.00</td>\n",
       "      <td>8.99</td>\n",
       "      <td>60 months</td>\n",
       "      <td>560.35</td>\n",
       "      <td>12,443.00</td>\n",
       "      <td>Current</td>\n",
       "      <td>0.00</td>\n",
       "    </tr>\n",
       "    <tr>\n",
       "      <th>132883631</th>\n",
       "      <td>Subsea Technician</td>\n",
       "      <td>7 years</td>\n",
       "      <td>125,000.00</td>\n",
       "      <td>Source Verified</td>\n",
       "      <td>B</td>\n",
       "      <td>9.00</td>\n",
       "      <td>MORTGAGE</td>\n",
       "      <td>1.00</td>\n",
       "      <td>6.00</td>\n",
       "      <td>33.30</td>\n",
       "      <td>...</td>\n",
       "      <td>NaN</td>\n",
       "      <td>NaN</td>\n",
       "      <td>debt_consolidation</td>\n",
       "      <td>22,000.00</td>\n",
       "      <td>10.90</td>\n",
       "      <td>36 months</td>\n",
       "      <td>719.22</td>\n",
       "      <td>22,000.00</td>\n",
       "      <td>Fully Paid</td>\n",
       "      <td>0.00</td>\n",
       "    </tr>\n",
       "    <tr>\n",
       "      <th>77861711</th>\n",
       "      <td>Correctional officer</td>\n",
       "      <td>10+ years</td>\n",
       "      <td>50,000.00</td>\n",
       "      <td>Verified</td>\n",
       "      <td>C</td>\n",
       "      <td>29.31</td>\n",
       "      <td>MORTGAGE</td>\n",
       "      <td>1.00</td>\n",
       "      <td>8.00</td>\n",
       "      <td>0.00</td>\n",
       "      <td>...</td>\n",
       "      <td>NaN</td>\n",
       "      <td>NaN</td>\n",
       "      <td>debt_consolidation</td>\n",
       "      <td>14,400.00</td>\n",
       "      <td>15.31</td>\n",
       "      <td>36 months</td>\n",
       "      <td>501.37</td>\n",
       "      <td>2,310.49</td>\n",
       "      <td>Charged Off</td>\n",
       "      <td>6,430.36</td>\n",
       "    </tr>\n",
       "    <tr>\n",
       "      <th>...</th>\n",
       "      <td>...</td>\n",
       "      <td>...</td>\n",
       "      <td>...</td>\n",
       "      <td>...</td>\n",
       "      <td>...</td>\n",
       "      <td>...</td>\n",
       "      <td>...</td>\n",
       "      <td>...</td>\n",
       "      <td>...</td>\n",
       "      <td>...</td>\n",
       "      <td>...</td>\n",
       "      <td>...</td>\n",
       "      <td>...</td>\n",
       "      <td>...</td>\n",
       "      <td>...</td>\n",
       "      <td>...</td>\n",
       "      <td>...</td>\n",
       "      <td>...</td>\n",
       "      <td>...</td>\n",
       "      <td>...</td>\n",
       "      <td>...</td>\n",
       "    </tr>\n",
       "    <tr>\n",
       "      <th>129396054</th>\n",
       "      <td>Field Manager</td>\n",
       "      <td>10+ years</td>\n",
       "      <td>55,000.00</td>\n",
       "      <td>Source Verified</td>\n",
       "      <td>D</td>\n",
       "      <td>15.36</td>\n",
       "      <td>OWN</td>\n",
       "      <td>1.00</td>\n",
       "      <td>7.00</td>\n",
       "      <td>75.00</td>\n",
       "      <td>...</td>\n",
       "      <td>NaN</td>\n",
       "      <td>NaN</td>\n",
       "      <td>debt_consolidation</td>\n",
       "      <td>14,400.00</td>\n",
       "      <td>17.47</td>\n",
       "      <td>60 months</td>\n",
       "      <td>361.53</td>\n",
       "      <td>1,975.94</td>\n",
       "      <td>Current</td>\n",
       "      <td>0.00</td>\n",
       "    </tr>\n",
       "    <tr>\n",
       "      <th>119242742</th>\n",
       "      <td>NaN</td>\n",
       "      <td>NaN</td>\n",
       "      <td>20,000.00</td>\n",
       "      <td>Source Verified</td>\n",
       "      <td>C</td>\n",
       "      <td>8.02</td>\n",
       "      <td>RENT</td>\n",
       "      <td>0.00</td>\n",
       "      <td>5.00</td>\n",
       "      <td>66.70</td>\n",
       "      <td>...</td>\n",
       "      <td>NaN</td>\n",
       "      <td>NaN</td>\n",
       "      <td>debt_consolidation</td>\n",
       "      <td>2,500.00</td>\n",
       "      <td>12.62</td>\n",
       "      <td>36 months</td>\n",
       "      <td>83.78</td>\n",
       "      <td>996.06</td>\n",
       "      <td>Late (31-120 days)</td>\n",
       "      <td>0.00</td>\n",
       "    </tr>\n",
       "    <tr>\n",
       "      <th>51876926</th>\n",
       "      <td>Office Manager</td>\n",
       "      <td>10+ years</td>\n",
       "      <td>42,000.00</td>\n",
       "      <td>Not Verified</td>\n",
       "      <td>C</td>\n",
       "      <td>20.85</td>\n",
       "      <td>MORTGAGE</td>\n",
       "      <td>6.00</td>\n",
       "      <td>9.00</td>\n",
       "      <td>100.00</td>\n",
       "      <td>...</td>\n",
       "      <td>NaN</td>\n",
       "      <td>NaN</td>\n",
       "      <td>debt_consolidation</td>\n",
       "      <td>8,000.00</td>\n",
       "      <td>12.29</td>\n",
       "      <td>36 months</td>\n",
       "      <td>266.83</td>\n",
       "      <td>8,000.00</td>\n",
       "      <td>Fully Paid</td>\n",
       "      <td>0.00</td>\n",
       "    </tr>\n",
       "    <tr>\n",
       "      <th>53664762</th>\n",
       "      <td>Attorney</td>\n",
       "      <td>8 years</td>\n",
       "      <td>168,000.00</td>\n",
       "      <td>Source Verified</td>\n",
       "      <td>E</td>\n",
       "      <td>4.69</td>\n",
       "      <td>RENT</td>\n",
       "      <td>0.00</td>\n",
       "      <td>8.00</td>\n",
       "      <td>0.00</td>\n",
       "      <td>...</td>\n",
       "      <td>NaN</td>\n",
       "      <td>NaN</td>\n",
       "      <td>small_business</td>\n",
       "      <td>30,050.00</td>\n",
       "      <td>18.25</td>\n",
       "      <td>60 months</td>\n",
       "      <td>767.17</td>\n",
       "      <td>2,964.44</td>\n",
       "      <td>Charged Off</td>\n",
       "      <td>2,750.88</td>\n",
       "    </tr>\n",
       "    <tr>\n",
       "      <th>94394801</th>\n",
       "      <td>NaN</td>\n",
       "      <td>NaN</td>\n",
       "      <td>80,000.00</td>\n",
       "      <td>Not Verified</td>\n",
       "      <td>C</td>\n",
       "      <td>31.49</td>\n",
       "      <td>MORTGAGE</td>\n",
       "      <td>1.00</td>\n",
       "      <td>9.00</td>\n",
       "      <td>50.00</td>\n",
       "      <td>...</td>\n",
       "      <td>NaN</td>\n",
       "      <td>NaN</td>\n",
       "      <td>debt_consolidation</td>\n",
       "      <td>10,000.00</td>\n",
       "      <td>13.99</td>\n",
       "      <td>36 months</td>\n",
       "      <td>341.73</td>\n",
       "      <td>7,096.40</td>\n",
       "      <td>Current</td>\n",
       "      <td>0.00</td>\n",
       "    </tr>\n",
       "  </tbody>\n",
       "</table>\n",
       "<p>140000 rows × 24 columns</p>\n",
       "</div>"
      ],
      "text/plain": [
       "                                         empleo antiguedad_empleo   ingresos  \\\n",
       "id_cliente                                                                     \n",
       "137387967                      Hvac technician            3 years  54,000.00   \n",
       "4798121     Target Promotions and Marketing,Inc         10+ years  65,000.00   \n",
       "87998444                     executive director           9 years 188,000.00   \n",
       "132883631                     Subsea Technician           7 years 125,000.00   \n",
       "77861711                   Correctional officer         10+ years  50,000.00   \n",
       "...                                         ...               ...        ...   \n",
       "129396054                         Field Manager         10+ years  55,000.00   \n",
       "119242742                                   NaN               NaN  20,000.00   \n",
       "51876926                         Office Manager         10+ years  42,000.00   \n",
       "53664762                               Attorney           8 years 168,000.00   \n",
       "94394801                                    NaN               NaN  80,000.00   \n",
       "\n",
       "           ingresos_verificados rating   dti  vivienda  num_hipotecas  \\\n",
       "id_cliente                                                              \n",
       "137387967       Source Verified      A 19.31  MORTGAGE           2.00   \n",
       "4798121            Not Verified      D 25.40      RENT           1.00   \n",
       "87998444        Source Verified      B 11.69  MORTGAGE           3.00   \n",
       "132883631       Source Verified      B  9.00  MORTGAGE           1.00   \n",
       "77861711               Verified      C 29.31  MORTGAGE           1.00   \n",
       "...                         ...    ...   ...       ...            ...   \n",
       "129396054       Source Verified      D 15.36       OWN           1.00   \n",
       "119242742       Source Verified      C  8.02      RENT           0.00   \n",
       "51876926           Not Verified      C 20.85  MORTGAGE           6.00   \n",
       "53664762        Source Verified      E  4.69      RENT           0.00   \n",
       "94394801           Not Verified      C 31.49  MORTGAGE           1.00   \n",
       "\n",
       "            num_lineas_credito  porc_tarjetas_75p  ...  id_prestamo  \\\n",
       "id_cliente                                         ...                \n",
       "137387967                10.00              33.30  ...          NaN   \n",
       "4798121                  15.00              85.70  ...          NaN   \n",
       "87998444                 15.00               0.00  ...          NaN   \n",
       "132883631                 6.00              33.30  ...          NaN   \n",
       "77861711                  8.00               0.00  ...          NaN   \n",
       "...                        ...                ...  ...          ...   \n",
       "129396054                 7.00              75.00  ...          NaN   \n",
       "119242742                 5.00              66.70  ...          NaN   \n",
       "51876926                  9.00             100.00  ...          NaN   \n",
       "53664762                  8.00               0.00  ...          NaN   \n",
       "94394801                  9.00              50.00  ...          NaN   \n",
       "\n",
       "            descripcion           finalidad  principal  tipo_interes  \\\n",
       "id_cliente                                                             \n",
       "137387967           NaN  debt_consolidation  15,000.00          7.21   \n",
       "4798121             NaN  debt_consolidation  10,000.00         17.77   \n",
       "87998444            NaN         credit_card  27,000.00          8.99   \n",
       "132883631           NaN  debt_consolidation  22,000.00         10.90   \n",
       "77861711            NaN  debt_consolidation  14,400.00         15.31   \n",
       "...                 ...                 ...        ...           ...   \n",
       "129396054           NaN  debt_consolidation  14,400.00         17.47   \n",
       "119242742           NaN  debt_consolidation   2,500.00         12.62   \n",
       "51876926            NaN  debt_consolidation   8,000.00         12.29   \n",
       "53664762            NaN      small_business  30,050.00         18.25   \n",
       "94394801            NaN  debt_consolidation  10,000.00         13.99   \n",
       "\n",
       "            num_cuotas imp_cuota  imp_amortizado              estado  \\\n",
       "id_cliente                                                             \n",
       "137387967    36 months    464.60        2,669.06             Current   \n",
       "4798121      36 months    360.38        6,362.96         Charged Off   \n",
       "87998444     60 months    560.35       12,443.00             Current   \n",
       "132883631    36 months    719.22       22,000.00          Fully Paid   \n",
       "77861711     36 months    501.37        2,310.49         Charged Off   \n",
       "...                ...       ...             ...                 ...   \n",
       "129396054    60 months    361.53        1,975.94             Current   \n",
       "119242742    36 months     83.78          996.06  Late (31-120 days)   \n",
       "51876926     36 months    266.83        8,000.00          Fully Paid   \n",
       "53664762     60 months    767.17        2,964.44         Charged Off   \n",
       "94394801     36 months    341.73        7,096.40             Current   \n",
       "\n",
       "           imp_recuperado  \n",
       "id_cliente                 \n",
       "137387967            0.00  \n",
       "4798121              0.00  \n",
       "87998444             0.00  \n",
       "132883631            0.00  \n",
       "77861711         6,430.36  \n",
       "...                   ...  \n",
       "129396054            0.00  \n",
       "119242742            0.00  \n",
       "51876926             0.00  \n",
       "53664762         2,750.88  \n",
       "94394801             0.00  \n",
       "\n",
       "[140000 rows x 24 columns]"
      ]
     },
     "execution_count": 9,
     "metadata": {},
     "output_type": "execute_result"
    }
   ],
   "source": [
    "df = clean_names(df)\n",
    "df"
   ]
  },
  {
   "cell_type": "markdown",
   "id": "d2d5443c",
   "metadata": {},
   "source": [
    "## VISIÓN GENERAL"
   ]
  },
  {
   "cell_type": "code",
   "execution_count": 10,
   "id": "976c8ac6",
   "metadata": {},
   "outputs": [
    {
     "name": "stdout",
     "output_type": "stream",
     "text": [
      "<class 'pandas.core.frame.DataFrame'>\n",
      "Int64Index: 140000 entries, 137387967 to 94394801\n",
      "Data columns (total 24 columns):\n",
      " #   Column                       Non-Null Count   Dtype  \n",
      "---  ------                       --------------   -----  \n",
      " 0   empleo                       129649 non-null  object \n",
      " 1   antiguedad_empleo            130889 non-null  object \n",
      " 2   ingresos                     140000 non-null  float64\n",
      " 3   ingresos_verificados         140000 non-null  object \n",
      " 4   rating                       140000 non-null  object \n",
      " 5   dti                          139899 non-null  float64\n",
      " 6   vivienda                     140000 non-null  object \n",
      " 7   num_hipotecas                136920 non-null  float64\n",
      " 8   num_lineas_credito           139997 non-null  float64\n",
      " 9   porc_tarjetas_75p            135388 non-null  float64\n",
      " 10  porc_uso_revolving           139898 non-null  float64\n",
      " 11  num_cancelaciones_12meses    139992 non-null  float64\n",
      " 12  num_derogatorios             139997 non-null  float64\n",
      " 13  num_meses_desde_ult_retraso  68327 non-null   float64\n",
      " 14  id_prestamo                  0 non-null       float64\n",
      " 15  descripcion                  7777 non-null    object \n",
      " 16  finalidad                    140000 non-null  object \n",
      " 17  principal                    140000 non-null  float64\n",
      " 18  tipo_interes                 140000 non-null  float64\n",
      " 19  num_cuotas                   140000 non-null  object \n",
      " 20  imp_cuota                    140000 non-null  float64\n",
      " 21  imp_amortizado               140000 non-null  float64\n",
      " 22  estado                       140000 non-null  object \n",
      " 23  imp_recuperado               140000 non-null  float64\n",
      "dtypes: float64(15), object(9)\n",
      "memory usage: 26.7+ MB\n"
     ]
    }
   ],
   "source": [
    "df.info()"
   ]
  },
  {
   "cell_type": "markdown",
   "id": "158ee1d7",
   "metadata": {},
   "source": [
    "## TIPOS DE DATOS"
   ]
  },
  {
   "cell_type": "markdown",
   "id": "88162727",
   "metadata": {},
   "source": [
    "### Identificación"
   ]
  },
  {
   "cell_type": "code",
   "execution_count": 131,
   "id": "197a99c2",
   "metadata": {},
   "outputs": [
    {
     "data": {
      "text/plain": [
       "empleo                          object\n",
       "antiguedad_empleo               object\n",
       "ingresos                       float64\n",
       "ingresos_verificados            object\n",
       "rating                          object\n",
       "dti                            float64\n",
       "vivienda                        object\n",
       "num_hipotecas                  float64\n",
       "num_lineas_credito             float64\n",
       "porc_tarjetas_75p              float64\n",
       "porc_uso_revolving             float64\n",
       "num_cancelaciones_12meses      float64\n",
       "num_derogatorios               float64\n",
       "num_meses_desde_ult_retraso    float64\n",
       "id_prestamo                    float64\n",
       "descripcion                     object\n",
       "finalidad                       object\n",
       "principal                      float64\n",
       "tipo_interes                   float64\n",
       "num_cuotas                      object\n",
       "imp_cuota                      float64\n",
       "imp_amortizado                 float64\n",
       "estado                          object\n",
       "imp_recuperado                 float64\n",
       "dtype: object"
      ]
     },
     "execution_count": 131,
     "metadata": {},
     "output_type": "execute_result"
    }
   ],
   "source": [
    "df.dtypes"
   ]
  },
  {
   "cell_type": "markdown",
   "id": "54f495a6",
   "metadata": {},
   "source": [
    "### Corrección"
   ]
  },
  {
   "cell_type": "code",
   "execution_count": 132,
   "id": "828b9893",
   "metadata": {
    "scrolled": true
   },
   "outputs": [
    {
     "data": {
      "text/plain": [
       "empleo                          object\n",
       "antiguedad_empleo               object\n",
       "ingresos                       float64\n",
       "ingresos_verificados            object\n",
       "rating                          object\n",
       "dti                            float64\n",
       "vivienda                        object\n",
       "num_hipotecas                    Int64\n",
       "num_lineas_credito               Int64\n",
       "porc_tarjetas_75p              float64\n",
       "porc_uso_revolving             float64\n",
       "num_cancelaciones_12meses        Int64\n",
       "num_derogatorios                 Int64\n",
       "num_meses_desde_ult_retraso      Int64\n",
       "id_prestamo                    float64\n",
       "descripcion                     object\n",
       "finalidad                       object\n",
       "principal                      float64\n",
       "tipo_interes                   float64\n",
       "num_cuotas                      object\n",
       "imp_cuota                      float64\n",
       "imp_amortizado                 float64\n",
       "estado                          object\n",
       "imp_recuperado                 float64\n",
       "dtype: object"
      ]
     },
     "execution_count": 132,
     "metadata": {},
     "output_type": "execute_result"
    }
   ],
   "source": [
    "df = df.astype({'num_hipotecas':'Int64','num_lineas_credito':'Int64','num_cancelaciones_12meses':'Int64',\n",
    "                'num_derogatorios':'Int64','num_meses_desde_ult_retraso':'Int64'})\n",
    "\n",
    "df.dtypes"
   ]
  },
  {
   "cell_type": "markdown",
   "id": "cc8d4a22",
   "metadata": {},
   "source": [
    "## VALORES ÚNICOS"
   ]
  },
  {
   "cell_type": "markdown",
   "id": "f21f0e36",
   "metadata": {},
   "source": [
    "### Identificación"
   ]
  },
  {
   "cell_type": "code",
   "execution_count": 133,
   "id": "6e53e444",
   "metadata": {},
   "outputs": [
    {
     "data": {
      "text/plain": [
       "id_prestamo                        0\n",
       "num_cuotas                         2\n",
       "ingresos_verificados               3\n",
       "num_cancelaciones_12meses          6\n",
       "vivienda                           6\n",
       "rating                             7\n",
       "estado                             9\n",
       "antiguedad_empleo                 11\n",
       "finalidad                         14\n",
       "num_derogatorios                  18\n",
       "num_hipotecas                     26\n",
       "num_lineas_credito                63\n",
       "num_meses_desde_ult_retraso      131\n",
       "porc_tarjetas_75p                172\n",
       "tipo_interes                     588\n",
       "porc_uso_revolving              1098\n",
       "principal                       1463\n",
       "dti                             5286\n",
       "descripcion                     7749\n",
       "imp_recuperado                 10670\n",
       "ingresos                       11779\n",
       "imp_cuota                      33613\n",
       "empleo                         54595\n",
       "imp_amortizado                 57685\n",
       "dtype: int64"
      ]
     },
     "execution_count": 133,
     "metadata": {},
     "output_type": "execute_result"
    }
   ],
   "source": [
    "df.nunique().sort_values()"
   ]
  },
  {
   "cell_type": "markdown",
   "id": "b1d1a668",
   "metadata": {},
   "source": [
    "### Corrección"
   ]
  },
  {
   "cell_type": "code",
   "execution_count": 134,
   "id": "62f7d14e",
   "metadata": {},
   "outputs": [],
   "source": [
    "df.drop(columns = 'id_prestamo', inplace = True)"
   ]
  },
  {
   "cell_type": "markdown",
   "id": "e25cfc89",
   "metadata": {},
   "source": [
    "## DUPLICADOS"
   ]
  },
  {
   "cell_type": "markdown",
   "id": "8a079ed3",
   "metadata": {},
   "source": [
    "### Identificación"
   ]
  },
  {
   "cell_type": "code",
   "execution_count": 135,
   "id": "f5b23bfc",
   "metadata": {
    "scrolled": true
   },
   "outputs": [
    {
     "data": {
      "text/plain": [
       "0"
      ]
     },
     "execution_count": 135,
     "metadata": {},
     "output_type": "execute_result"
    }
   ],
   "source": [
    "df.duplicated().sum()"
   ]
  },
  {
   "cell_type": "markdown",
   "id": "632ec2cd",
   "metadata": {},
   "source": [
    "## SEPARAR NUMÉRICAS Y CATEGÓRICAS"
   ]
  },
  {
   "cell_type": "markdown",
   "id": "573a61ac",
   "metadata": {},
   "source": [
    "### Categóricas"
   ]
  },
  {
   "cell_type": "code",
   "execution_count": 136,
   "id": "47a7eece",
   "metadata": {},
   "outputs": [],
   "source": [
    "cat = df.select_dtypes(exclude = 'number').copy()"
   ]
  },
  {
   "cell_type": "markdown",
   "id": "41756893",
   "metadata": {},
   "source": [
    "### Numéricas"
   ]
  },
  {
   "cell_type": "code",
   "execution_count": 137,
   "id": "59140e9a",
   "metadata": {},
   "outputs": [],
   "source": [
    "num = df.select_dtypes(include='number').copy()"
   ]
  },
  {
   "cell_type": "markdown",
   "id": "5e7d8e7e",
   "metadata": {},
   "source": [
    "## GESTIÓN DE CATEGÓRICAS"
   ]
  },
  {
   "cell_type": "markdown",
   "id": "5b5808b7",
   "metadata": {},
   "source": [
    "### Nulos"
   ]
  },
  {
   "cell_type": "markdown",
   "id": "5c08ca55",
   "metadata": {},
   "source": [
    "#### Identificación"
   ]
  },
  {
   "cell_type": "code",
   "execution_count": 138,
   "id": "da49ae63",
   "metadata": {
    "scrolled": true
   },
   "outputs": [
    {
     "data": {
      "text/plain": [
       "descripcion             132223\n",
       "empleo                   10351\n",
       "antiguedad_empleo         9111\n",
       "ingresos_verificados         0\n",
       "rating                       0\n",
       "vivienda                     0\n",
       "finalidad                    0\n",
       "num_cuotas                   0\n",
       "estado                       0\n",
       "dtype: int64"
      ]
     },
     "execution_count": 138,
     "metadata": {},
     "output_type": "execute_result"
    }
   ],
   "source": [
    "cat.isna().sum().sort_values(ascending = False)"
   ]
  },
  {
   "cell_type": "code",
   "execution_count": 139,
   "id": "b9fc46d0",
   "metadata": {},
   "outputs": [
    {
     "data": {
      "text/plain": [
       "Teacher             2461\n",
       "Manager             2157\n",
       "Owner               1367\n",
       "Registered Nurse     980\n",
       "RN                   918\n",
       "Driver               893\n",
       "Supervisor           879\n",
       "Sales                797\n",
       "Project Manager      686\n",
       "Office Manager       621\n",
       "Name: empleo, dtype: int64"
      ]
     },
     "execution_count": 139,
     "metadata": {},
     "output_type": "execute_result"
    }
   ],
   "source": [
    "cat.empleo.value_counts().head(10)"
   ]
  },
  {
   "cell_type": "code",
   "execution_count": 140,
   "id": "7d0e615f",
   "metadata": {
    "scrolled": false
   },
   "outputs": [
    {
     "data": {
      "text/plain": [
       "10+ years    46126\n",
       "2 years      12549\n",
       "< 1 year     11785\n",
       "3 years      11264\n",
       "1 year        9248\n",
       "5 years       8738\n",
       "4 years       8481\n",
       "6 years       6326\n",
       "8 years       5768\n",
       "7 years       5712\n",
       "9 years       4892\n",
       "Name: antiguedad_empleo, dtype: int64"
      ]
     },
     "execution_count": 140,
     "metadata": {},
     "output_type": "execute_result"
    }
   ],
   "source": [
    "cat.antiguedad_empleo.value_counts()"
   ]
  },
  {
   "cell_type": "markdown",
   "id": "6802d575",
   "metadata": {},
   "source": [
    "#### Corrección"
   ]
  },
  {
   "cell_type": "markdown",
   "id": "cdd2db55",
   "metadata": {},
   "source": [
    "##### Eliminar Registros"
   ]
  },
  {
   "cell_type": "markdown",
   "id": "d50e87a0",
   "metadata": {},
   "source": [
    "*Cuidado: Si se eliminan registros hay que eliminarlos tanto de cat como de num*"
   ]
  },
  {
   "cell_type": "code",
   "execution_count": 141,
   "id": "17bc011d",
   "metadata": {},
   "outputs": [],
   "source": [
    "a_eliminar_empleo = cat.loc[cat.empleo.isna()].index"
   ]
  },
  {
   "cell_type": "code",
   "execution_count": 142,
   "id": "f1170371",
   "metadata": {},
   "outputs": [],
   "source": [
    "cat.drop(index= a_eliminar_empleo, inplace= True)"
   ]
  },
  {
   "cell_type": "code",
   "execution_count": 143,
   "id": "a4f2f3d3",
   "metadata": {},
   "outputs": [],
   "source": [
    "num.drop(index= a_eliminar_empleo, inplace = True)"
   ]
  },
  {
   "cell_type": "markdown",
   "id": "ebeb52a6",
   "metadata": {},
   "source": [
    "##### Imputar por un valor"
   ]
  },
  {
   "cell_type": "markdown",
   "id": "2cba1c3c",
   "metadata": {},
   "source": [
    "###### Variables a imputar"
   ]
  },
  {
   "cell_type": "code",
   "execution_count": 144,
   "id": "4050ef9f",
   "metadata": {},
   "outputs": [],
   "source": [
    "var_imputar_valor = ['descripcion']"
   ]
  },
  {
   "cell_type": "markdown",
   "id": "fa866ac6",
   "metadata": {},
   "source": [
    "###### Valor por el que imputar"
   ]
  },
  {
   "cell_type": "code",
   "execution_count": 145,
   "id": "10abb34a",
   "metadata": {},
   "outputs": [],
   "source": [
    "valor = 'Sin informacion'"
   ]
  },
  {
   "cell_type": "markdown",
   "id": "78d10252",
   "metadata": {},
   "source": [
    "###### Imputar"
   ]
  },
  {
   "cell_type": "code",
   "execution_count": 146,
   "id": "f16e8491",
   "metadata": {},
   "outputs": [],
   "source": [
    "cat[var_imputar_valor] = cat[var_imputar_valor].fillna(valor)"
   ]
  },
  {
   "cell_type": "markdown",
   "id": "c111e44d",
   "metadata": {},
   "source": [
    "##### Imputar por la moda"
   ]
  },
  {
   "cell_type": "markdown",
   "id": "4c1a9c46",
   "metadata": {},
   "source": [
    "###### Variables a imputar"
   ]
  },
  {
   "cell_type": "code",
   "execution_count": 147,
   "id": "cf4cee3d",
   "metadata": {},
   "outputs": [],
   "source": [
    "var_imputar_moda = ['antiguedad_empleo']"
   ]
  },
  {
   "cell_type": "markdown",
   "id": "e3a31c7d",
   "metadata": {},
   "source": [
    "###### Funcion para imputar con la moda"
   ]
  },
  {
   "cell_type": "code",
   "execution_count": 148,
   "id": "6d7c902b",
   "metadata": {},
   "outputs": [],
   "source": [
    "def imputar_moda(variable):\n",
    "    return(variable.fillna(variable.mode()[0]))"
   ]
  },
  {
   "cell_type": "markdown",
   "id": "b2c3ceba",
   "metadata": {},
   "source": [
    "###### Imputar con la moda"
   ]
  },
  {
   "cell_type": "code",
   "execution_count": 149,
   "id": "5f5184ef",
   "metadata": {},
   "outputs": [],
   "source": [
    "cat[var_imputar_moda] = cat[var_imputar_moda].apply(imputar_moda)"
   ]
  },
  {
   "cell_type": "markdown",
   "id": "db3a72a6",
   "metadata": {},
   "source": [
    "## GESTIÓN DE NUMÉRICAS"
   ]
  },
  {
   "cell_type": "code",
   "execution_count": 150,
   "id": "f1c2e14e",
   "metadata": {},
   "outputs": [
    {
     "data": {
      "text/html": [
       "<div>\n",
       "<style scoped>\n",
       "    .dataframe tbody tr th:only-of-type {\n",
       "        vertical-align: middle;\n",
       "    }\n",
       "\n",
       "    .dataframe tbody tr th {\n",
       "        vertical-align: top;\n",
       "    }\n",
       "\n",
       "    .dataframe thead th {\n",
       "        text-align: right;\n",
       "    }\n",
       "</style>\n",
       "<table border=\"1\" class=\"dataframe\">\n",
       "  <thead>\n",
       "    <tr style=\"text-align: right;\">\n",
       "      <th></th>\n",
       "      <th>count</th>\n",
       "      <th>mean</th>\n",
       "      <th>std</th>\n",
       "      <th>min</th>\n",
       "      <th>25%</th>\n",
       "      <th>50%</th>\n",
       "      <th>75%</th>\n",
       "      <th>max</th>\n",
       "    </tr>\n",
       "  </thead>\n",
       "  <tbody>\n",
       "    <tr>\n",
       "      <th>ingresos</th>\n",
       "      <td>129,649.00</td>\n",
       "      <td>79,961.56</td>\n",
       "      <td>81,704.83</td>\n",
       "      <td>0.00</td>\n",
       "      <td>48,000.00</td>\n",
       "      <td>67,000.00</td>\n",
       "      <td>95,000.00</td>\n",
       "      <td>10,999,200.00</td>\n",
       "    </tr>\n",
       "    <tr>\n",
       "      <th>dti</th>\n",
       "      <td>129,642.00</td>\n",
       "      <td>18.56</td>\n",
       "      <td>11.90</td>\n",
       "      <td>-1.00</td>\n",
       "      <td>11.91</td>\n",
       "      <td>17.68</td>\n",
       "      <td>24.28</td>\n",
       "      <td>999.00</td>\n",
       "    </tr>\n",
       "    <tr>\n",
       "      <th>num_hipotecas</th>\n",
       "      <td>126,747.00</td>\n",
       "      <td>1.56</td>\n",
       "      <td>1.91</td>\n",
       "      <td>0.00</td>\n",
       "      <td>0.00</td>\n",
       "      <td>1.00</td>\n",
       "      <td>3.00</td>\n",
       "      <td>27.00</td>\n",
       "    </tr>\n",
       "    <tr>\n",
       "      <th>num_lineas_credito</th>\n",
       "      <td>129,647.00</td>\n",
       "      <td>11.74</td>\n",
       "      <td>5.67</td>\n",
       "      <td>0.00</td>\n",
       "      <td>8.00</td>\n",
       "      <td>11.00</td>\n",
       "      <td>15.00</td>\n",
       "      <td>84.00</td>\n",
       "    </tr>\n",
       "    <tr>\n",
       "      <th>porc_tarjetas_75p</th>\n",
       "      <td>125,368.00</td>\n",
       "      <td>42.75</td>\n",
       "      <td>36.13</td>\n",
       "      <td>0.00</td>\n",
       "      <td>0.00</td>\n",
       "      <td>40.00</td>\n",
       "      <td>71.40</td>\n",
       "      <td>100.00</td>\n",
       "    </tr>\n",
       "    <tr>\n",
       "      <th>porc_uso_revolving</th>\n",
       "      <td>129,558.00</td>\n",
       "      <td>50.71</td>\n",
       "      <td>24.62</td>\n",
       "      <td>0.00</td>\n",
       "      <td>32.10</td>\n",
       "      <td>50.80</td>\n",
       "      <td>69.70</td>\n",
       "      <td>366.60</td>\n",
       "    </tr>\n",
       "    <tr>\n",
       "      <th>num_cancelaciones_12meses</th>\n",
       "      <td>129,642.00</td>\n",
       "      <td>0.01</td>\n",
       "      <td>0.10</td>\n",
       "      <td>0.00</td>\n",
       "      <td>0.00</td>\n",
       "      <td>0.00</td>\n",
       "      <td>0.00</td>\n",
       "      <td>5.00</td>\n",
       "    </tr>\n",
       "    <tr>\n",
       "      <th>num_derogatorios</th>\n",
       "      <td>129,647.00</td>\n",
       "      <td>0.19</td>\n",
       "      <td>0.57</td>\n",
       "      <td>0.00</td>\n",
       "      <td>0.00</td>\n",
       "      <td>0.00</td>\n",
       "      <td>0.00</td>\n",
       "      <td>46.00</td>\n",
       "    </tr>\n",
       "    <tr>\n",
       "      <th>num_meses_desde_ult_retraso</th>\n",
       "      <td>63,597.00</td>\n",
       "      <td>34.23</td>\n",
       "      <td>21.80</td>\n",
       "      <td>0.00</td>\n",
       "      <td>16.00</td>\n",
       "      <td>31.00</td>\n",
       "      <td>49.00</td>\n",
       "      <td>145.00</td>\n",
       "    </tr>\n",
       "    <tr>\n",
       "      <th>principal</th>\n",
       "      <td>129,649.00</td>\n",
       "      <td>15,244.94</td>\n",
       "      <td>9,211.62</td>\n",
       "      <td>500.00</td>\n",
       "      <td>8,000.00</td>\n",
       "      <td>13,000.00</td>\n",
       "      <td>20,000.00</td>\n",
       "      <td>40,000.00</td>\n",
       "    </tr>\n",
       "    <tr>\n",
       "      <th>tipo_interes</th>\n",
       "      <td>129,649.00</td>\n",
       "      <td>13.09</td>\n",
       "      <td>4.83</td>\n",
       "      <td>5.31</td>\n",
       "      <td>9.49</td>\n",
       "      <td>12.62</td>\n",
       "      <td>15.99</td>\n",
       "      <td>30.99</td>\n",
       "    </tr>\n",
       "    <tr>\n",
       "      <th>imp_cuota</th>\n",
       "      <td>129,649.00</td>\n",
       "      <td>451.36</td>\n",
       "      <td>268.14</td>\n",
       "      <td>7.61</td>\n",
       "      <td>256.23</td>\n",
       "      <td>384.06</td>\n",
       "      <td>600.36</td>\n",
       "      <td>1,607.80</td>\n",
       "    </tr>\n",
       "    <tr>\n",
       "      <th>imp_amortizado</th>\n",
       "      <td>129,649.00</td>\n",
       "      <td>9,738.57</td>\n",
       "      <td>8,383.78</td>\n",
       "      <td>0.00</td>\n",
       "      <td>3,170.45</td>\n",
       "      <td>7,201.65</td>\n",
       "      <td>14,013.20</td>\n",
       "      <td>40,000.00</td>\n",
       "    </tr>\n",
       "    <tr>\n",
       "      <th>imp_recuperado</th>\n",
       "      <td>129,649.00</td>\n",
       "      <td>148.17</td>\n",
       "      <td>769.66</td>\n",
       "      <td>0.00</td>\n",
       "      <td>0.00</td>\n",
       "      <td>0.00</td>\n",
       "      <td>0.00</td>\n",
       "      <td>33,666.34</td>\n",
       "    </tr>\n",
       "  </tbody>\n",
       "</table>\n",
       "</div>"
      ],
      "text/plain": [
       "                                 count      mean       std    min       25%  \\\n",
       "ingresos                    129,649.00 79,961.56 81,704.83   0.00 48,000.00   \n",
       "dti                         129,642.00     18.56     11.90  -1.00     11.91   \n",
       "num_hipotecas               126,747.00      1.56      1.91   0.00      0.00   \n",
       "num_lineas_credito          129,647.00     11.74      5.67   0.00      8.00   \n",
       "porc_tarjetas_75p           125,368.00     42.75     36.13   0.00      0.00   \n",
       "porc_uso_revolving          129,558.00     50.71     24.62   0.00     32.10   \n",
       "num_cancelaciones_12meses   129,642.00      0.01      0.10   0.00      0.00   \n",
       "num_derogatorios            129,647.00      0.19      0.57   0.00      0.00   \n",
       "num_meses_desde_ult_retraso  63,597.00     34.23     21.80   0.00     16.00   \n",
       "principal                   129,649.00 15,244.94  9,211.62 500.00  8,000.00   \n",
       "tipo_interes                129,649.00     13.09      4.83   5.31      9.49   \n",
       "imp_cuota                   129,649.00    451.36    268.14   7.61    256.23   \n",
       "imp_amortizado              129,649.00  9,738.57  8,383.78   0.00  3,170.45   \n",
       "imp_recuperado              129,649.00    148.17    769.66   0.00      0.00   \n",
       "\n",
       "                                  50%       75%           max  \n",
       "ingresos                    67,000.00 95,000.00 10,999,200.00  \n",
       "dti                             17.68     24.28        999.00  \n",
       "num_hipotecas                    1.00      3.00         27.00  \n",
       "num_lineas_credito              11.00     15.00         84.00  \n",
       "porc_tarjetas_75p               40.00     71.40        100.00  \n",
       "porc_uso_revolving              50.80     69.70        366.60  \n",
       "num_cancelaciones_12meses        0.00      0.00          5.00  \n",
       "num_derogatorios                 0.00      0.00         46.00  \n",
       "num_meses_desde_ult_retraso     31.00     49.00        145.00  \n",
       "principal                   13,000.00 20,000.00     40,000.00  \n",
       "tipo_interes                    12.62     15.99         30.99  \n",
       "imp_cuota                      384.06    600.36      1,607.80  \n",
       "imp_amortizado               7,201.65 14,013.20     40,000.00  \n",
       "imp_recuperado                   0.00      0.00     33,666.34  "
      ]
     },
     "execution_count": 150,
     "metadata": {},
     "output_type": "execute_result"
    }
   ],
   "source": [
    "num.describe().T"
   ]
  },
  {
   "cell_type": "markdown",
   "id": "d65bd06a",
   "metadata": {},
   "source": [
    "### Nulos"
   ]
  },
  {
   "cell_type": "markdown",
   "id": "e5ee8416",
   "metadata": {},
   "source": [
    "#### Identificación"
   ]
  },
  {
   "cell_type": "code",
   "execution_count": 151,
   "id": "c9f054a3",
   "metadata": {
    "scrolled": true
   },
   "outputs": [
    {
     "data": {
      "text/plain": [
       "num_meses_desde_ult_retraso    66052\n",
       "porc_tarjetas_75p               4281\n",
       "num_hipotecas                   2902\n",
       "porc_uso_revolving                91\n",
       "dti                                7\n",
       "num_cancelaciones_12meses          7\n",
       "num_lineas_credito                 2\n",
       "num_derogatorios                   2\n",
       "ingresos                           0\n",
       "principal                          0\n",
       "tipo_interes                       0\n",
       "imp_cuota                          0\n",
       "imp_amortizado                     0\n",
       "imp_recuperado                     0\n",
       "dtype: int64"
      ]
     },
     "execution_count": 151,
     "metadata": {},
     "output_type": "execute_result"
    }
   ],
   "source": [
    "num.isna().sum().sort_values(ascending = False)"
   ]
  },
  {
   "cell_type": "code",
   "execution_count": 152,
   "id": "2cc7590d",
   "metadata": {},
   "outputs": [
    {
     "data": {
      "text/html": [
       "<div>\n",
       "<style scoped>\n",
       "    .dataframe tbody tr th:only-of-type {\n",
       "        vertical-align: middle;\n",
       "    }\n",
       "\n",
       "    .dataframe tbody tr th {\n",
       "        vertical-align: top;\n",
       "    }\n",
       "\n",
       "    .dataframe thead th {\n",
       "        text-align: right;\n",
       "    }\n",
       "</style>\n",
       "<table border=\"1\" class=\"dataframe\">\n",
       "  <thead>\n",
       "    <tr style=\"text-align: right;\">\n",
       "      <th></th>\n",
       "      <th>ingresos</th>\n",
       "      <th>dti</th>\n",
       "      <th>num_hipotecas</th>\n",
       "      <th>num_lineas_credito</th>\n",
       "      <th>porc_tarjetas_75p</th>\n",
       "      <th>porc_uso_revolving</th>\n",
       "      <th>num_cancelaciones_12meses</th>\n",
       "      <th>num_derogatorios</th>\n",
       "      <th>num_meses_desde_ult_retraso</th>\n",
       "      <th>principal</th>\n",
       "      <th>tipo_interes</th>\n",
       "      <th>imp_cuota</th>\n",
       "      <th>imp_amortizado</th>\n",
       "      <th>imp_recuperado</th>\n",
       "    </tr>\n",
       "    <tr>\n",
       "      <th>id_cliente</th>\n",
       "      <th></th>\n",
       "      <th></th>\n",
       "      <th></th>\n",
       "      <th></th>\n",
       "      <th></th>\n",
       "      <th></th>\n",
       "      <th></th>\n",
       "      <th></th>\n",
       "      <th></th>\n",
       "      <th></th>\n",
       "      <th></th>\n",
       "      <th></th>\n",
       "      <th></th>\n",
       "      <th></th>\n",
       "    </tr>\n",
       "  </thead>\n",
       "  <tbody>\n",
       "    <tr>\n",
       "      <th>4798121</th>\n",
       "      <td>65,000.00</td>\n",
       "      <td>25.40</td>\n",
       "      <td>1</td>\n",
       "      <td>15</td>\n",
       "      <td>85.70</td>\n",
       "      <td>86.20</td>\n",
       "      <td>0</td>\n",
       "      <td>0</td>\n",
       "      <td>&lt;NA&gt;</td>\n",
       "      <td>10,000.00</td>\n",
       "      <td>17.77</td>\n",
       "      <td>360.38</td>\n",
       "      <td>6,362.96</td>\n",
       "      <td>0.00</td>\n",
       "    </tr>\n",
       "    <tr>\n",
       "      <th>87998444</th>\n",
       "      <td>188,000.00</td>\n",
       "      <td>11.69</td>\n",
       "      <td>3</td>\n",
       "      <td>15</td>\n",
       "      <td>0.00</td>\n",
       "      <td>3.30</td>\n",
       "      <td>0</td>\n",
       "      <td>0</td>\n",
       "      <td>&lt;NA&gt;</td>\n",
       "      <td>27,000.00</td>\n",
       "      <td>8.99</td>\n",
       "      <td>560.35</td>\n",
       "      <td>12,443.00</td>\n",
       "      <td>0.00</td>\n",
       "    </tr>\n",
       "    <tr>\n",
       "      <th>143175635</th>\n",
       "      <td>73,000.00</td>\n",
       "      <td>5.52</td>\n",
       "      <td>0</td>\n",
       "      <td>6</td>\n",
       "      <td>0.00</td>\n",
       "      <td>14.90</td>\n",
       "      <td>0</td>\n",
       "      <td>0</td>\n",
       "      <td>&lt;NA&gt;</td>\n",
       "      <td>7,200.00</td>\n",
       "      <td>7.21</td>\n",
       "      <td>223.01</td>\n",
       "      <td>725.51</td>\n",
       "      <td>0.00</td>\n",
       "    </tr>\n",
       "    <tr>\n",
       "      <th>143095574</th>\n",
       "      <td>54,953.00</td>\n",
       "      <td>18.78</td>\n",
       "      <td>4</td>\n",
       "      <td>8</td>\n",
       "      <td>25.00</td>\n",
       "      <td>56.50</td>\n",
       "      <td>0</td>\n",
       "      <td>0</td>\n",
       "      <td>&lt;NA&gt;</td>\n",
       "      <td>2,750.00</td>\n",
       "      <td>11.06</td>\n",
       "      <td>90.11</td>\n",
       "      <td>262.66</td>\n",
       "      <td>0.00</td>\n",
       "    </tr>\n",
       "    <tr>\n",
       "      <th>38629631</th>\n",
       "      <td>65,000.00</td>\n",
       "      <td>24.32</td>\n",
       "      <td>0</td>\n",
       "      <td>11</td>\n",
       "      <td>33.30</td>\n",
       "      <td>48.20</td>\n",
       "      <td>0</td>\n",
       "      <td>0</td>\n",
       "      <td>&lt;NA&gt;</td>\n",
       "      <td>20,000.00</td>\n",
       "      <td>14.99</td>\n",
       "      <td>693.21</td>\n",
       "      <td>20,000.00</td>\n",
       "      <td>0.00</td>\n",
       "    </tr>\n",
       "    <tr>\n",
       "      <th>...</th>\n",
       "      <td>...</td>\n",
       "      <td>...</td>\n",
       "      <td>...</td>\n",
       "      <td>...</td>\n",
       "      <td>...</td>\n",
       "      <td>...</td>\n",
       "      <td>...</td>\n",
       "      <td>...</td>\n",
       "      <td>...</td>\n",
       "      <td>...</td>\n",
       "      <td>...</td>\n",
       "      <td>...</td>\n",
       "      <td>...</td>\n",
       "      <td>...</td>\n",
       "    </tr>\n",
       "    <tr>\n",
       "      <th>124141978</th>\n",
       "      <td>62,000.00</td>\n",
       "      <td>34.55</td>\n",
       "      <td>1</td>\n",
       "      <td>11</td>\n",
       "      <td>100.00</td>\n",
       "      <td>69.00</td>\n",
       "      <td>0</td>\n",
       "      <td>0</td>\n",
       "      <td>&lt;NA&gt;</td>\n",
       "      <td>20,000.00</td>\n",
       "      <td>15.05</td>\n",
       "      <td>693.80</td>\n",
       "      <td>7,260.76</td>\n",
       "      <td>0.00</td>\n",
       "    </tr>\n",
       "    <tr>\n",
       "      <th>51896222</th>\n",
       "      <td>40,000.00</td>\n",
       "      <td>23.31</td>\n",
       "      <td>0</td>\n",
       "      <td>7</td>\n",
       "      <td>75.00</td>\n",
       "      <td>88.00</td>\n",
       "      <td>0</td>\n",
       "      <td>0</td>\n",
       "      <td>&lt;NA&gt;</td>\n",
       "      <td>15,000.00</td>\n",
       "      <td>11.53</td>\n",
       "      <td>494.86</td>\n",
       "      <td>15,000.00</td>\n",
       "      <td>0.00</td>\n",
       "    </tr>\n",
       "    <tr>\n",
       "      <th>73222117</th>\n",
       "      <td>85,000.00</td>\n",
       "      <td>33.05</td>\n",
       "      <td>1</td>\n",
       "      <td>25</td>\n",
       "      <td>90.00</td>\n",
       "      <td>76.00</td>\n",
       "      <td>1</td>\n",
       "      <td>0</td>\n",
       "      <td>&lt;NA&gt;</td>\n",
       "      <td>3,000.00</td>\n",
       "      <td>9.75</td>\n",
       "      <td>96.45</td>\n",
       "      <td>3,000.00</td>\n",
       "      <td>0.00</td>\n",
       "    </tr>\n",
       "    <tr>\n",
       "      <th>129396054</th>\n",
       "      <td>55,000.00</td>\n",
       "      <td>15.36</td>\n",
       "      <td>1</td>\n",
       "      <td>7</td>\n",
       "      <td>75.00</td>\n",
       "      <td>81.70</td>\n",
       "      <td>0</td>\n",
       "      <td>0</td>\n",
       "      <td>&lt;NA&gt;</td>\n",
       "      <td>14,400.00</td>\n",
       "      <td>17.47</td>\n",
       "      <td>361.53</td>\n",
       "      <td>1,975.94</td>\n",
       "      <td>0.00</td>\n",
       "    </tr>\n",
       "    <tr>\n",
       "      <th>53664762</th>\n",
       "      <td>168,000.00</td>\n",
       "      <td>4.69</td>\n",
       "      <td>0</td>\n",
       "      <td>8</td>\n",
       "      <td>0.00</td>\n",
       "      <td>52.40</td>\n",
       "      <td>0</td>\n",
       "      <td>2</td>\n",
       "      <td>&lt;NA&gt;</td>\n",
       "      <td>30,050.00</td>\n",
       "      <td>18.25</td>\n",
       "      <td>767.17</td>\n",
       "      <td>2,964.44</td>\n",
       "      <td>2,750.88</td>\n",
       "    </tr>\n",
       "  </tbody>\n",
       "</table>\n",
       "<p>66052 rows × 14 columns</p>\n",
       "</div>"
      ],
      "text/plain": [
       "             ingresos   dti  num_hipotecas  num_lineas_credito  \\\n",
       "id_cliente                                                       \n",
       "4798121     65,000.00 25.40              1                  15   \n",
       "87998444   188,000.00 11.69              3                  15   \n",
       "143175635   73,000.00  5.52              0                   6   \n",
       "143095574   54,953.00 18.78              4                   8   \n",
       "38629631    65,000.00 24.32              0                  11   \n",
       "...               ...   ...            ...                 ...   \n",
       "124141978   62,000.00 34.55              1                  11   \n",
       "51896222    40,000.00 23.31              0                   7   \n",
       "73222117    85,000.00 33.05              1                  25   \n",
       "129396054   55,000.00 15.36              1                   7   \n",
       "53664762   168,000.00  4.69              0                   8   \n",
       "\n",
       "            porc_tarjetas_75p  porc_uso_revolving  num_cancelaciones_12meses  \\\n",
       "id_cliente                                                                     \n",
       "4798121                 85.70               86.20                          0   \n",
       "87998444                 0.00                3.30                          0   \n",
       "143175635                0.00               14.90                          0   \n",
       "143095574               25.00               56.50                          0   \n",
       "38629631                33.30               48.20                          0   \n",
       "...                       ...                 ...                        ...   \n",
       "124141978              100.00               69.00                          0   \n",
       "51896222                75.00               88.00                          0   \n",
       "73222117                90.00               76.00                          1   \n",
       "129396054               75.00               81.70                          0   \n",
       "53664762                 0.00               52.40                          0   \n",
       "\n",
       "            num_derogatorios  num_meses_desde_ult_retraso  principal  \\\n",
       "id_cliente                                                             \n",
       "4798121                    0                         <NA>  10,000.00   \n",
       "87998444                   0                         <NA>  27,000.00   \n",
       "143175635                  0                         <NA>   7,200.00   \n",
       "143095574                  0                         <NA>   2,750.00   \n",
       "38629631                   0                         <NA>  20,000.00   \n",
       "...                      ...                          ...        ...   \n",
       "124141978                  0                         <NA>  20,000.00   \n",
       "51896222                   0                         <NA>  15,000.00   \n",
       "73222117                   0                         <NA>   3,000.00   \n",
       "129396054                  0                         <NA>  14,400.00   \n",
       "53664762                   2                         <NA>  30,050.00   \n",
       "\n",
       "            tipo_interes  imp_cuota  imp_amortizado  imp_recuperado  \n",
       "id_cliente                                                           \n",
       "4798121            17.77     360.38        6,362.96            0.00  \n",
       "87998444            8.99     560.35       12,443.00            0.00  \n",
       "143175635           7.21     223.01          725.51            0.00  \n",
       "143095574          11.06      90.11          262.66            0.00  \n",
       "38629631           14.99     693.21       20,000.00            0.00  \n",
       "...                  ...        ...             ...             ...  \n",
       "124141978          15.05     693.80        7,260.76            0.00  \n",
       "51896222           11.53     494.86       15,000.00            0.00  \n",
       "73222117            9.75      96.45        3,000.00            0.00  \n",
       "129396054          17.47     361.53        1,975.94            0.00  \n",
       "53664762           18.25     767.17        2,964.44        2,750.88  \n",
       "\n",
       "[66052 rows x 14 columns]"
      ]
     },
     "execution_count": 152,
     "metadata": {},
     "output_type": "execute_result"
    }
   ],
   "source": [
    "num.loc[num.num_meses_desde_ult_retraso.isna()]"
   ]
  },
  {
   "cell_type": "code",
   "execution_count": 153,
   "id": "73c6cf54",
   "metadata": {},
   "outputs": [
    {
     "data": {
      "image/png": "[encoded data removed]",
      "text/plain": [
       "<Figure size 1200x600 with 1 Axes>"
      ]
     },
     "metadata": {},
     "output_type": "display_data"
    }
   ],
   "source": [
    "num.num_meses_desde_ult_retraso.value_counts().sort_index().plot.bar(figsize = (12,6));"
   ]
  },
  {
   "cell_type": "markdown",
   "id": "58b37935",
   "metadata": {},
   "source": [
    "Hay ceros pero parecen pocos.\n",
    "Como en muchos clientes donde los meses de retraso es nulo, se ha amortizado el 100% del crédito, suponemos que los nulos implican 0 meses de retraso."
   ]
  },
  {
   "cell_type": "markdown",
   "id": "3dd649c7",
   "metadata": {},
   "source": [
    "**porc_tarjetas_75p**"
   ]
  },
  {
   "cell_type": "code",
   "execution_count": 154,
   "id": "c1a4af38",
   "metadata": {
    "scrolled": false
   },
   "outputs": [
    {
     "data": {
      "image/png": "[encoded data removed]",
      "text/plain": [
       "<Figure size 800x400 with 1 Axes>"
      ]
     },
     "metadata": {},
     "output_type": "display_data"
    }
   ],
   "source": [
    "num.porc_tarjetas_75p.value_counts().sort_index().plot.bar(figsize = (8,4));"
   ]
  },
  {
   "cell_type": "markdown",
   "id": "a9d1e9e6",
   "metadata": {},
   "source": [
    "Imputaremos por 0, vemos que es el valor mayoritario."
   ]
  },
  {
   "cell_type": "markdown",
   "id": "d9a09772",
   "metadata": {},
   "source": [
    "**num_hipotecas**"
   ]
  },
  {
   "cell_type": "code",
   "execution_count": 155,
   "id": "3f30ccd2",
   "metadata": {
    "scrolled": false
   },
   "outputs": [
    {
     "data": {
      "image/png": "[encoded data removed]",
      "text/plain": [
       "<Figure size 800x600 with 1 Axes>"
      ]
     },
     "metadata": {},
     "output_type": "display_data"
    }
   ],
   "source": [
    "num.num_hipotecas.value_counts().sort_index().plot.bar(figsize = (8,6));"
   ]
  },
  {
   "cell_type": "markdown",
   "id": "c8fb44bd",
   "metadata": {},
   "source": [
    "En este caso, decidimos imputar por 0"
   ]
  },
  {
   "cell_type": "markdown",
   "id": "e07d637e",
   "metadata": {},
   "source": [
    "Para el resto de nulos, al ser pocos decidimos eliminar registros."
   ]
  },
  {
   "cell_type": "markdown",
   "id": "1b7cb2c4",
   "metadata": {},
   "source": [
    "#### Corrección"
   ]
  },
  {
   "cell_type": "markdown",
   "id": "aab11eff",
   "metadata": {},
   "source": [
    "##### Eliminar registros"
   ]
  },
  {
   "cell_type": "markdown",
   "id": "fa00a59d",
   "metadata": {},
   "source": [
    "*Cuidado: Si se eliminan registros hay que eliminarlos tanto de cat como de num*\n",
    "\n",
    "**Creamos función para eliminar registros numéricos**"
   ]
  },
  {
   "cell_type": "code",
   "execution_count": 156,
   "id": "5be8bad4",
   "metadata": {
    "scrolled": true
   },
   "outputs": [],
   "source": [
    "a_eliminar = ['num_derogatorios','num_lineas_credito','num_cancelaciones_12meses','dti','porc_uso_revolving']"
   ]
  },
  {
   "cell_type": "code",
   "execution_count": 157,
   "id": "ed50dbc1",
   "metadata": {},
   "outputs": [],
   "source": [
    "def eliminar_registros(num, a_eliminar):\n",
    "    for variable in a_eliminar:\n",
    "        indices = num.loc[num[variable].isna()].index\n",
    "        num.drop(indices, inplace= True)\n",
    "        cat.drop(indices, inplace = True)"
   ]
  },
  {
   "cell_type": "code",
   "execution_count": 158,
   "id": "023d4c45",
   "metadata": {},
   "outputs": [],
   "source": [
    "eliminar_registros(num, a_eliminar)"
   ]
  },
  {
   "cell_type": "markdown",
   "id": "214264cb",
   "metadata": {},
   "source": [
    "##### Imputar por valor"
   ]
  },
  {
   "cell_type": "markdown",
   "id": "1f927674",
   "metadata": {},
   "source": [
    "###### Variables a imputar"
   ]
  },
  {
   "cell_type": "code",
   "execution_count": 159,
   "id": "17c30954",
   "metadata": {},
   "outputs": [],
   "source": [
    "num.fillna(0, inplace= True)"
   ]
  },
  {
   "cell_type": "markdown",
   "id": "09123059",
   "metadata": {},
   "source": [
    "Imputamos por 0 las variables restantes."
   ]
  },
  {
   "cell_type": "markdown",
   "id": "82cb56e8",
   "metadata": {},
   "source": [
    "### Atípicos"
   ]
  },
  {
   "cell_type": "markdown",
   "id": "760baf8c",
   "metadata": {},
   "source": [
    "#### Por desviación típica"
   ]
  },
  {
   "cell_type": "markdown",
   "id": "4b508149",
   "metadata": {},
   "source": [
    "##### Identificación"
   ]
  },
  {
   "cell_type": "markdown",
   "id": "8ceda3d3",
   "metadata": {},
   "source": [
    "###### Definir el número de desviaciones típicas"
   ]
  },
  {
   "cell_type": "code",
   "execution_count": 160,
   "id": "2b7419cb",
   "metadata": {},
   "outputs": [],
   "source": [
    "num_desv_tip = 4"
   ]
  },
  {
   "cell_type": "markdown",
   "id": "942da237",
   "metadata": {},
   "source": [
    "###### Función que devuelve los índices de los atípicos"
   ]
  },
  {
   "cell_type": "code",
   "execution_count": 161,
   "id": "8a81f494",
   "metadata": {},
   "outputs": [],
   "source": [
    "def atipicos_desv_tip(variable, num_desv_tip = 4):\n",
    "    #sacamos los nulos por ahora\n",
    "    variable = variable.dropna()\n",
    "    #calculamos los límites\n",
    "    media = np.mean(variable)\n",
    "    sd = np.std(variable)\n",
    "    umbral = sd * num_desv_tip\n",
    "    lim_inf = media - umbral\n",
    "    lim_sup = media + umbral\n",
    "    #encontramos los índices de los que están fuera de los límites\n",
    "    indices = [indice for indice,valor in variable.items() if valor < lim_inf or valor > lim_sup]\n",
    "    return(indices)"
   ]
  },
  {
   "cell_type": "markdown",
   "id": "768e7398",
   "metadata": {},
   "source": [
    "###### Función que cuenta el número de atípicos"
   ]
  },
  {
   "cell_type": "code",
   "execution_count": 162,
   "id": "5c8f4462",
   "metadata": {},
   "outputs": [],
   "source": [
    "def conteo_atipicos(df,variable, num_desv_tip = 4):\n",
    "    atipicos = atipicos_desv_tip(df[variable], num_desv_tip)\n",
    "    return(df.loc[atipicos,variable].value_counts())"
   ]
  },
  {
   "cell_type": "code",
   "execution_count": 163,
   "id": "2390f460",
   "metadata": {},
   "outputs": [
    {
     "name": "stdout",
     "output_type": "stream",
     "text": [
      "<class 'pandas.core.frame.DataFrame'>\n",
      "Int64Index: 129546 entries, 137387967 to 53664762\n",
      "Data columns (total 14 columns):\n",
      " #   Column                       Non-Null Count   Dtype  \n",
      "---  ------                       --------------   -----  \n",
      " 0   ingresos                     129546 non-null  float64\n",
      " 1   dti                          129546 non-null  float64\n",
      " 2   num_hipotecas                129546 non-null  Int64  \n",
      " 3   num_lineas_credito           129546 non-null  Int64  \n",
      " 4   porc_tarjetas_75p            129546 non-null  float64\n",
      " 5   porc_uso_revolving           129546 non-null  float64\n",
      " 6   num_cancelaciones_12meses    129546 non-null  Int64  \n",
      " 7   num_derogatorios             129546 non-null  Int64  \n",
      " 8   num_meses_desde_ult_retraso  129546 non-null  Int64  \n",
      " 9   principal                    129546 non-null  float64\n",
      " 10  tipo_interes                 129546 non-null  float64\n",
      " 11  imp_cuota                    129546 non-null  float64\n",
      " 12  imp_amortizado               129546 non-null  float64\n",
      " 13  imp_recuperado               129546 non-null  float64\n",
      "dtypes: Int64(5), float64(9)\n",
      "memory usage: 15.4 MB\n"
     ]
    }
   ],
   "source": [
    "num.info()"
   ]
  },
  {
   "cell_type": "markdown",
   "id": "5cd1e425",
   "metadata": {},
   "source": [
    "###### Variables a aplicar"
   ]
  },
  {
   "cell_type": "code",
   "execution_count": 164,
   "id": "cfbb3d88",
   "metadata": {},
   "outputs": [],
   "source": [
    "var_atipicos_dt = ['ingresos','principal','imp_cuota','imp_recuperado']"
   ]
  },
  {
   "cell_type": "markdown",
   "id": "ac400ced",
   "metadata": {},
   "source": [
    "###### Aplicar"
   ]
  },
  {
   "cell_type": "code",
   "execution_count": 165,
   "id": "c4b74e98",
   "metadata": {
    "scrolled": false
   },
   "outputs": [
    {
     "name": "stdout",
     "output_type": "stream",
     "text": [
      "\n",
      "ingresos:\n",
      "\n",
      "500,000.00    40\n",
      "450,000.00    33\n",
      "600,000.00    14\n",
      "650,000.00    14\n",
      "550,000.00    13\n",
      "              ..\n",
      "564,000.00     1\n",
      "634,000.00     1\n",
      "456,000.00     1\n",
      "710,000.00     1\n",
      "445,000.00     1\n",
      "Name: ingresos, Length: 143, dtype: int64\n",
      "\n",
      "principal:\n",
      "\n",
      "Series([], Name: principal, dtype: int64)\n",
      "\n",
      "imp_cuota:\n",
      "\n",
      "1,566.80    2\n",
      "1,607.80    1\n",
      "1,535.71    1\n",
      "Name: imp_cuota, dtype: int64\n",
      "\n",
      "imp_recuperado:\n",
      "\n",
      "4,000.00     4\n",
      "8,500.00     4\n",
      "3,500.00     4\n",
      "6,000.00     3\n",
      "4,400.00     3\n",
      "            ..\n",
      "5,408.26     1\n",
      "3,836.15     1\n",
      "4,299.77     1\n",
      "17,295.60    1\n",
      "3,500.75     1\n",
      "Name: imp_recuperado, Length: 1519, dtype: int64\n"
     ]
    }
   ],
   "source": [
    "for variable in var_atipicos_dt:\n",
    "    print('\\n' + variable + ':\\n')\n",
    "    print(conteo_atipicos(num,variable,num_desv_tip))"
   ]
  },
  {
   "cell_type": "code",
   "execution_count": 166,
   "id": "52d8fec0",
   "metadata": {},
   "outputs": [
    {
     "data": {
      "text/plain": [
       "count      129,546.00\n",
       "mean        79,956.71\n",
       "std         81,709.52\n",
       "min             25.00\n",
       "25%         48,000.00\n",
       "50%         67,000.00\n",
       "75%         95,000.00\n",
       "max     10,999,200.00\n",
       "Name: ingresos, dtype: float64"
      ]
     },
     "execution_count": 166,
     "metadata": {},
     "output_type": "execute_result"
    }
   ],
   "source": [
    "num.ingresos.describe()"
   ]
  },
  {
   "cell_type": "markdown",
   "id": "21bbf5c2",
   "metadata": {},
   "source": [
    "atipicos de ingresos --> Eliminamos registros con ingresos menores a 12.000 y mayores a 300.000"
   ]
  },
  {
   "cell_type": "code",
   "execution_count": 167,
   "id": "9019eacc",
   "metadata": {
    "scrolled": true
   },
   "outputs": [],
   "source": [
    "a_dejar = num.loc[~((num.ingresos < 12000) | (num.ingresos > 300000))].index\n",
    "num = num.loc[a_dejar]\n",
    "cat = cat.loc[cat.index.isin(a_dejar)]"
   ]
  },
  {
   "cell_type": "markdown",
   "id": "caba5276",
   "metadata": {},
   "source": [
    "### Por winsorización manual para una variable"
   ]
  },
  {
   "cell_type": "markdown",
   "id": "963a3881",
   "metadata": {},
   "source": [
    "##### Identificación"
   ]
  },
  {
   "cell_type": "markdown",
   "id": "af41a20d",
   "metadata": {},
   "source": [
    "###### Variable a analizar"
   ]
  },
  {
   "cell_type": "code",
   "execution_count": 168,
   "id": "f90db9dc",
   "metadata": {},
   "outputs": [],
   "source": [
    "variable = ['porc_uso_revolving']"
   ]
  },
  {
   "cell_type": "markdown",
   "id": "e0332345",
   "metadata": {},
   "source": [
    "###### Comprobar el mínimo y máximo actual"
   ]
  },
  {
   "cell_type": "code",
   "execution_count": 169,
   "id": "64d5394b",
   "metadata": {},
   "outputs": [
    {
     "data": {
      "text/html": [
       "<div>\n",
       "<style scoped>\n",
       "    .dataframe tbody tr th:only-of-type {\n",
       "        vertical-align: middle;\n",
       "    }\n",
       "\n",
       "    .dataframe tbody tr th {\n",
       "        vertical-align: top;\n",
       "    }\n",
       "\n",
       "    .dataframe thead th {\n",
       "        text-align: right;\n",
       "    }\n",
       "</style>\n",
       "<table border=\"1\" class=\"dataframe\">\n",
       "  <thead>\n",
       "    <tr style=\"text-align: right;\">\n",
       "      <th></th>\n",
       "      <th>porc_uso_revolving</th>\n",
       "    </tr>\n",
       "  </thead>\n",
       "  <tbody>\n",
       "    <tr>\n",
       "      <th>min</th>\n",
       "      <td>0.00</td>\n",
       "    </tr>\n",
       "    <tr>\n",
       "      <th>max</th>\n",
       "      <td>366.60</td>\n",
       "    </tr>\n",
       "  </tbody>\n",
       "</table>\n",
       "</div>"
      ],
      "text/plain": [
       "     porc_uso_revolving\n",
       "min                0.00\n",
       "max              366.60"
      ]
     },
     "execution_count": 169,
     "metadata": {},
     "output_type": "execute_result"
    }
   ],
   "source": [
    "num[variable].describe().loc[['min','max']]"
   ]
  },
  {
   "cell_type": "markdown",
   "id": "28d07312",
   "metadata": {},
   "source": [
    "##### Corrección"
   ]
  },
  {
   "cell_type": "markdown",
   "id": "fbea3a26",
   "metadata": {},
   "source": [
    "###### Definir el mínimo y máximo tolerable."
   ]
  },
  {
   "cell_type": "code",
   "execution_count": 170,
   "id": "c8b2d8dc",
   "metadata": {},
   "outputs": [],
   "source": [
    "minimo = 0\n",
    "maximo = 100"
   ]
  },
  {
   "cell_type": "markdown",
   "id": "be19a3d1",
   "metadata": {},
   "source": [
    "###### Aplicar"
   ]
  },
  {
   "cell_type": "code",
   "execution_count": 171,
   "id": "a607d0dd",
   "metadata": {
    "scrolled": false
   },
   "outputs": [],
   "source": [
    "num[variable] = num[variable].clip(minimo,maximo)"
   ]
  },
  {
   "cell_type": "code",
   "execution_count": 172,
   "id": "c04b8da8",
   "metadata": {},
   "outputs": [
    {
     "data": {
      "text/html": [
       "<div>\n",
       "<style scoped>\n",
       "    .dataframe tbody tr th:only-of-type {\n",
       "        vertical-align: middle;\n",
       "    }\n",
       "\n",
       "    .dataframe tbody tr th {\n",
       "        vertical-align: top;\n",
       "    }\n",
       "\n",
       "    .dataframe thead th {\n",
       "        text-align: right;\n",
       "    }\n",
       "</style>\n",
       "<table border=\"1\" class=\"dataframe\">\n",
       "  <thead>\n",
       "    <tr style=\"text-align: right;\">\n",
       "      <th></th>\n",
       "      <th>count</th>\n",
       "      <th>mean</th>\n",
       "      <th>std</th>\n",
       "      <th>min</th>\n",
       "      <th>25%</th>\n",
       "      <th>50%</th>\n",
       "      <th>75%</th>\n",
       "      <th>max</th>\n",
       "    </tr>\n",
       "  </thead>\n",
       "  <tbody>\n",
       "    <tr>\n",
       "      <th>ingresos</th>\n",
       "      <td>128,566.00</td>\n",
       "      <td>76,988.95</td>\n",
       "      <td>42,281.93</td>\n",
       "      <td>12,000.00</td>\n",
       "      <td>48,000.00</td>\n",
       "      <td>67,000.00</td>\n",
       "      <td>95,000.00</td>\n",
       "      <td>300,000.00</td>\n",
       "    </tr>\n",
       "    <tr>\n",
       "      <th>dti</th>\n",
       "      <td>128,566.00</td>\n",
       "      <td>18.51</td>\n",
       "      <td>9.24</td>\n",
       "      <td>-1.00</td>\n",
       "      <td>11.98</td>\n",
       "      <td>17.74</td>\n",
       "      <td>24.32</td>\n",
       "      <td>181.88</td>\n",
       "    </tr>\n",
       "    <tr>\n",
       "      <th>num_hipotecas</th>\n",
       "      <td>128,566.00</td>\n",
       "      <td>1.51</td>\n",
       "      <td>1.89</td>\n",
       "      <td>0.00</td>\n",
       "      <td>0.00</td>\n",
       "      <td>1.00</td>\n",
       "      <td>2.00</td>\n",
       "      <td>27.00</td>\n",
       "    </tr>\n",
       "    <tr>\n",
       "      <th>num_lineas_credito</th>\n",
       "      <td>128,566.00</td>\n",
       "      <td>11.73</td>\n",
       "      <td>5.66</td>\n",
       "      <td>1.00</td>\n",
       "      <td>8.00</td>\n",
       "      <td>11.00</td>\n",
       "      <td>15.00</td>\n",
       "      <td>84.00</td>\n",
       "    </tr>\n",
       "    <tr>\n",
       "      <th>porc_tarjetas_75p</th>\n",
       "      <td>128,566.00</td>\n",
       "      <td>41.38</td>\n",
       "      <td>36.35</td>\n",
       "      <td>0.00</td>\n",
       "      <td>0.00</td>\n",
       "      <td>33.30</td>\n",
       "      <td>66.70</td>\n",
       "      <td>100.00</td>\n",
       "    </tr>\n",
       "    <tr>\n",
       "      <th>porc_uso_revolving</th>\n",
       "      <td>128,566.00</td>\n",
       "      <td>50.70</td>\n",
       "      <td>24.57</td>\n",
       "      <td>0.00</td>\n",
       "      <td>32.10</td>\n",
       "      <td>50.80</td>\n",
       "      <td>69.70</td>\n",
       "      <td>100.00</td>\n",
       "    </tr>\n",
       "    <tr>\n",
       "      <th>num_cancelaciones_12meses</th>\n",
       "      <td>128,566.00</td>\n",
       "      <td>0.01</td>\n",
       "      <td>0.10</td>\n",
       "      <td>0.00</td>\n",
       "      <td>0.00</td>\n",
       "      <td>0.00</td>\n",
       "      <td>0.00</td>\n",
       "      <td>5.00</td>\n",
       "    </tr>\n",
       "    <tr>\n",
       "      <th>num_derogatorios</th>\n",
       "      <td>128,566.00</td>\n",
       "      <td>0.19</td>\n",
       "      <td>0.57</td>\n",
       "      <td>0.00</td>\n",
       "      <td>0.00</td>\n",
       "      <td>0.00</td>\n",
       "      <td>0.00</td>\n",
       "      <td>46.00</td>\n",
       "    </tr>\n",
       "    <tr>\n",
       "      <th>num_meses_desde_ult_retraso</th>\n",
       "      <td>128,566.00</td>\n",
       "      <td>16.80</td>\n",
       "      <td>22.94</td>\n",
       "      <td>0.00</td>\n",
       "      <td>0.00</td>\n",
       "      <td>0.00</td>\n",
       "      <td>30.00</td>\n",
       "      <td>145.00</td>\n",
       "    </tr>\n",
       "    <tr>\n",
       "      <th>principal</th>\n",
       "      <td>128,566.00</td>\n",
       "      <td>15,176.20</td>\n",
       "      <td>9,151.71</td>\n",
       "      <td>500.00</td>\n",
       "      <td>8,000.00</td>\n",
       "      <td>13,000.00</td>\n",
       "      <td>20,000.00</td>\n",
       "      <td>40,000.00</td>\n",
       "    </tr>\n",
       "    <tr>\n",
       "      <th>tipo_interes</th>\n",
       "      <td>128,566.00</td>\n",
       "      <td>13.10</td>\n",
       "      <td>4.83</td>\n",
       "      <td>5.31</td>\n",
       "      <td>9.49</td>\n",
       "      <td>12.62</td>\n",
       "      <td>15.99</td>\n",
       "      <td>30.99</td>\n",
       "    </tr>\n",
       "    <tr>\n",
       "      <th>imp_cuota</th>\n",
       "      <td>128,566.00</td>\n",
       "      <td>449.26</td>\n",
       "      <td>266.11</td>\n",
       "      <td>7.61</td>\n",
       "      <td>256.01</td>\n",
       "      <td>382.87</td>\n",
       "      <td>595.52</td>\n",
       "      <td>1,607.80</td>\n",
       "    </tr>\n",
       "    <tr>\n",
       "      <th>imp_amortizado</th>\n",
       "      <td>128,566.00</td>\n",
       "      <td>9,696.10</td>\n",
       "      <td>8,332.28</td>\n",
       "      <td>0.00</td>\n",
       "      <td>3,164.33</td>\n",
       "      <td>7,200.00</td>\n",
       "      <td>14,000.00</td>\n",
       "      <td>40,000.00</td>\n",
       "    </tr>\n",
       "    <tr>\n",
       "      <th>imp_recuperado</th>\n",
       "      <td>128,566.00</td>\n",
       "      <td>148.50</td>\n",
       "      <td>768.61</td>\n",
       "      <td>0.00</td>\n",
       "      <td>0.00</td>\n",
       "      <td>0.00</td>\n",
       "      <td>0.00</td>\n",
       "      <td>33,666.34</td>\n",
       "    </tr>\n",
       "  </tbody>\n",
       "</table>\n",
       "</div>"
      ],
      "text/plain": [
       "                                 count      mean       std       min  \\\n",
       "ingresos                    128,566.00 76,988.95 42,281.93 12,000.00   \n",
       "dti                         128,566.00     18.51      9.24     -1.00   \n",
       "num_hipotecas               128,566.00      1.51      1.89      0.00   \n",
       "num_lineas_credito          128,566.00     11.73      5.66      1.00   \n",
       "porc_tarjetas_75p           128,566.00     41.38     36.35      0.00   \n",
       "porc_uso_revolving          128,566.00     50.70     24.57      0.00   \n",
       "num_cancelaciones_12meses   128,566.00      0.01      0.10      0.00   \n",
       "num_derogatorios            128,566.00      0.19      0.57      0.00   \n",
       "num_meses_desde_ult_retraso 128,566.00     16.80     22.94      0.00   \n",
       "principal                   128,566.00 15,176.20  9,151.71    500.00   \n",
       "tipo_interes                128,566.00     13.10      4.83      5.31   \n",
       "imp_cuota                   128,566.00    449.26    266.11      7.61   \n",
       "imp_amortizado              128,566.00  9,696.10  8,332.28      0.00   \n",
       "imp_recuperado              128,566.00    148.50    768.61      0.00   \n",
       "\n",
       "                                  25%       50%       75%        max  \n",
       "ingresos                    48,000.00 67,000.00 95,000.00 300,000.00  \n",
       "dti                             11.98     17.74     24.32     181.88  \n",
       "num_hipotecas                    0.00      1.00      2.00      27.00  \n",
       "num_lineas_credito               8.00     11.00     15.00      84.00  \n",
       "porc_tarjetas_75p                0.00     33.30     66.70     100.00  \n",
       "porc_uso_revolving              32.10     50.80     69.70     100.00  \n",
       "num_cancelaciones_12meses        0.00      0.00      0.00       5.00  \n",
       "num_derogatorios                 0.00      0.00      0.00      46.00  \n",
       "num_meses_desde_ult_retraso      0.00      0.00     30.00     145.00  \n",
       "principal                    8,000.00 13,000.00 20,000.00  40,000.00  \n",
       "tipo_interes                     9.49     12.62     15.99      30.99  \n",
       "imp_cuota                      256.01    382.87    595.52   1,607.80  \n",
       "imp_amortizado               3,164.33  7,200.00 14,000.00  40,000.00  \n",
       "imp_recuperado                   0.00      0.00      0.00  33,666.34  "
      ]
     },
     "execution_count": 172,
     "metadata": {},
     "output_type": "execute_result"
    }
   ],
   "source": [
    "num.describe().T"
   ]
  },
  {
   "cell_type": "markdown",
   "id": "0f6b1e4a",
   "metadata": {},
   "source": [
    "## GUARDAR DATASETS TRAS CALIDAD DE DATOS"
   ]
  },
  {
   "cell_type": "markdown",
   "id": "1e211b09",
   "metadata": {},
   "source": [
    "Guarda los avances en df, cat y num con un sufijo para poder guardar o recuperar avances del proyecto.\n",
    "\n",
    "En formato pickle para no perder las modificaciones de metadatos."
   ]
  },
  {
   "cell_type": "markdown",
   "id": "abb12eef",
   "metadata": {},
   "source": [
    "### Definir los nombres de los archivos"
   ]
  },
  {
   "cell_type": "code",
   "execution_count": 173,
   "id": "f83c6f26",
   "metadata": {},
   "outputs": [],
   "source": [
    "ruta_trabajo = ruta_proyecto + '/02_Datos/03_Trabajo/' + 'trabajo_resultado_calidad.pickle'\n",
    "ruta_cat = ruta_proyecto + '/02_Datos/03_Trabajo/' + 'cat_resultado_calidad.pickle'\n",
    "ruta_num = ruta_proyecto + '/02_Datos/03_Trabajo/' + 'num_resultado_calidad.pickle'"
   ]
  },
  {
   "cell_type": "markdown",
   "id": "1699f284",
   "metadata": {},
   "source": [
    "### Guardar los archivos"
   ]
  },
  {
   "cell_type": "code",
   "execution_count": 174,
   "id": "6731887a",
   "metadata": {},
   "outputs": [],
   "source": [
    "df.to_pickle(ruta_trabajo)\n",
    "cat.to_pickle(ruta_cat)\n",
    "num.to_pickle(ruta_num)"
   ]
  }
 ],
 "metadata": {
  "kernelspec": {
   "display_name": "Python 3 (ipykernel)",
   "language": "python",
   "name": "python3"
  },
  "language_info": {
   "codemirror_mode": {
    "name": "ipython",
    "version": 3
   },
   "file_extension": ".py",
   "mimetype": "text/x-python",
   "name": "python",
   "nbconvert_exporter": "python",
   "pygments_lexer": "ipython3",
   "version": "3.10.4"
  },
  "toc": {
   "base_numbering": 1,
   "nav_menu": {},
   "number_sections": true,
   "sideBar": true,
   "skip_h1_title": false,
   "title_cell": "Table of Contents",
   "title_sidebar": "Contents",
   "toc_cell": false,
   "toc_position": {
    "height": "calc(100% - 180px)",
    "left": "10px",
    "top": "150px",
    "width": "219.466px"
   },
   "toc_section_display": true,
   "toc_window_display": true
  },
  "varInspector": {
   "cols": {
    "lenName": 16,
    "lenType": 16,
    "lenVar": 40
   },
   "kernels_config": {
    "python": {
     "delete_cmd_postfix": "",
     "delete_cmd_prefix": "del ",
     "library": "var_list.py",
     "varRefreshCmd": "print(var_dic_list())"
    },
    "r": {
     "delete_cmd_postfix": ") ",
     "delete_cmd_prefix": "rm(",
     "library": "var_list.r",
     "varRefreshCmd": "cat(var_dic_list()) "
    }
   },
   "position": {
    "height": "546.85px",
    "left": "680.75px",
    "right": "20px",
    "top": "118px",
    "width": "350px"
   },
   "types_to_exclude": [
    "module",
    "function",
    "builtin_function_or_method",
    "instance",
    "_Feature"
   ],
   "window_display": false
  }
 },
 "nbformat": 4,
 "nbformat_minor": 5
}
