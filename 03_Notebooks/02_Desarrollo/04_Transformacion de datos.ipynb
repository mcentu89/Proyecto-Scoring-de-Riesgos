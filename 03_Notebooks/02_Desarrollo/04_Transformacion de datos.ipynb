{
 "cells": [
  {
   "cell_type": "markdown",
   "id": "d31dea65",
   "metadata": {},
   "source": [
    "# TRANSFORMACIÓN DE DATOS"
   ]
  },
  {
   "cell_type": "markdown",
   "id": "swiss-fault",
   "metadata": {},
   "source": [
    "## IMPORTAR PAQUETES"
   ]
  },
  {
   "cell_type": "code",
   "execution_count": 1,
   "id": "adjacent-toddler",
   "metadata": {},
   "outputs": [],
   "source": [
    "import numpy as np\n",
    "import pandas as pd\n",
    "import matplotlib.pyplot as plt\n",
    "%matplotlib inline\n",
    "\n",
    "from sklearn.preprocessing import OneHotEncoder\n",
    "from sklearn.preprocessing import OrdinalEncoder\n",
    "\n",
    "from sklearn.preprocessing import KBinsDiscretizer\n",
    "from sklearn.preprocessing import Binarizer\n",
    "\n",
    "from sklearn.feature_extraction.text import TfidfVectorizer\n",
    "from sklearn.preprocessing import MinMaxScaler\n",
    "\n",
    "#Automcompletar rápido\n",
    "%config IPCompleter.greedy=True"
   ]
  },
  {
   "cell_type": "markdown",
   "id": "graduate-compensation",
   "metadata": {},
   "source": [
    "## IMPORTAR LOS DATOS"
   ]
  },
  {
   "cell_type": "markdown",
   "id": "3a5b94ef",
   "metadata": {},
   "source": [
    "1.- Indicamos la ruta del proyecto."
   ]
  },
  {
   "cell_type": "code",
   "execution_count": 2,
   "id": "f9d2de58",
   "metadata": {},
   "outputs": [],
   "source": [
    "ruta_proyecto = r'C:\\Users\\mcent\\OneDrive\\Escritorio\\PROYECTOS ML\\SCORING_DE_RIESGOS'"
   ]
  },
  {
   "cell_type": "markdown",
   "id": "c3363765",
   "metadata": {},
   "source": [
    "2.- Nombramos los ficheros de datos."
   ]
  },
  {
   "cell_type": "code",
   "execution_count": 3,
   "id": "a9e2e04a",
   "metadata": {},
   "outputs": [],
   "source": [
    "nombre_cat = 'cat_resultado_eda.pickle'\n",
    "nombre_num = 'num_resultado_eda.pickle'"
   ]
  },
  {
   "cell_type": "markdown",
   "id": "b9825018",
   "metadata": {},
   "source": [
    "3.- Cargamos los datos."
   ]
  },
  {
   "cell_type": "code",
   "execution_count": 4,
   "id": "cab6ebcd",
   "metadata": {},
   "outputs": [],
   "source": [
    "cat = pd.read_pickle(ruta_proyecto + '/02_Datos/03_Trabajo/' + nombre_cat)\n",
    "num = pd.read_pickle(ruta_proyecto + '/02_Datos/03_Trabajo/' + nombre_num)"
   ]
  },
  {
   "cell_type": "markdown",
   "id": "a81d5087",
   "metadata": {},
   "source": [
    "Recordamos lo que habíamos identificado en fases anteriores y lo organizamos por tipo de acción.\n",
    "\n",
    "**Modificar con pandas/numpy:**\n",
    "\n",
    "* Crear la target a partir de estado\n",
    "* Discretizar num_meses_desde_ult_retraso\n",
    "* En vivienda juntar NONE y OTHER\n",
    "* En finalidad juntar renewable_energy, educational y vacation en 'otros'\n",
    "\n",
    "**Modificar con scikit learn:**\n",
    "\n",
    "* La variable descripcion podríamos trabajarla con un TF-IDF Vectorizer\n",
    "* Convertir num_derogatorios a binaria"
   ]
  },
  {
   "cell_type": "markdown",
   "id": "38f7e44c",
   "metadata": {},
   "source": [
    "## CREACIÓN Y TRANSFORMACIÓN DE VARIABLES CON PANDAS"
   ]
  },
  {
   "cell_type": "markdown",
   "id": "7c224fba",
   "metadata": {},
   "source": [
    "### CREAMOS LAS VARIABLES TARGETS PARA LOS 3 MODELOS"
   ]
  },
  {
   "cell_type": "code",
   "execution_count": 5,
   "id": "a86eb458",
   "metadata": {
    "scrolled": true
   },
   "outputs": [
    {
     "data": {
      "text/plain": [
       "Fully Paid            59389\n",
       "Current               48476\n",
       "Charged Off           14560\n",
       "Late (31-120 days)     1203\n",
       "In Grace Period         484\n",
       "Late (16-30 days)       240\n",
       "Default                   1\n",
       "Name: estado, dtype: int64"
      ]
     },
     "execution_count": 5,
     "metadata": {},
     "output_type": "execute_result"
    }
   ],
   "source": [
    "cat.estado.value_counts()"
   ]
  },
  {
   "cell_type": "markdown",
   "id": "8b4812bd",
   "metadata": {},
   "source": [
    "#### PD - Probability of Default"
   ]
  },
  {
   "cell_type": "markdown",
   "id": "59cf6314",
   "metadata": {},
   "source": [
    "Asignamos valor 1 para aquellos estados considerados default y 0 para los que no"
   ]
  },
  {
   "cell_type": "code",
   "execution_count": 160,
   "id": "3088192b",
   "metadata": {
    "scrolled": false
   },
   "outputs": [
    {
     "data": {
      "text/html": [
       "<div>\n",
       "<style scoped>\n",
       "    .dataframe tbody tr th:only-of-type {\n",
       "        vertical-align: middle;\n",
       "    }\n",
       "\n",
       "    .dataframe tbody tr th {\n",
       "        vertical-align: top;\n",
       "    }\n",
       "\n",
       "    .dataframe thead th {\n",
       "        text-align: right;\n",
       "    }\n",
       "</style>\n",
       "<table border=\"1\" class=\"dataframe\">\n",
       "  <thead>\n",
       "    <tr style=\"text-align: right;\">\n",
       "      <th></th>\n",
       "      <th>empleo</th>\n",
       "      <th>antiguedad_empleo</th>\n",
       "      <th>ingresos_verificados</th>\n",
       "      <th>rating</th>\n",
       "      <th>vivienda</th>\n",
       "      <th>descripcion</th>\n",
       "      <th>finalidad</th>\n",
       "      <th>num_cuotas</th>\n",
       "      <th>estado</th>\n",
       "      <th>pd</th>\n",
       "    </tr>\n",
       "    <tr>\n",
       "      <th>id_cliente</th>\n",
       "      <th></th>\n",
       "      <th></th>\n",
       "      <th></th>\n",
       "      <th></th>\n",
       "      <th></th>\n",
       "      <th></th>\n",
       "      <th></th>\n",
       "      <th></th>\n",
       "      <th></th>\n",
       "      <th></th>\n",
       "    </tr>\n",
       "  </thead>\n",
       "  <tbody>\n",
       "    <tr>\n",
       "      <th>137387967</th>\n",
       "      <td>Hvac technician</td>\n",
       "      <td>3 years</td>\n",
       "      <td>Source Verified</td>\n",
       "      <td>A</td>\n",
       "      <td>MORTGAGE</td>\n",
       "      <td>Sin informacion</td>\n",
       "      <td>debt_consolidation</td>\n",
       "      <td>36 months</td>\n",
       "      <td>Current</td>\n",
       "      <td>0</td>\n",
       "    </tr>\n",
       "    <tr>\n",
       "      <th>4798121</th>\n",
       "      <td>Target Promotions and Marketing,Inc</td>\n",
       "      <td>10+ years</td>\n",
       "      <td>Not Verified</td>\n",
       "      <td>D</td>\n",
       "      <td>RENT</td>\n",
       "      <td>Sin informacion</td>\n",
       "      <td>debt_consolidation</td>\n",
       "      <td>36 months</td>\n",
       "      <td>Charged Off</td>\n",
       "      <td>1</td>\n",
       "    </tr>\n",
       "    <tr>\n",
       "      <th>46641215</th>\n",
       "      <td>Banker</td>\n",
       "      <td>5 years</td>\n",
       "      <td>Verified</td>\n",
       "      <td>A</td>\n",
       "      <td>RENT</td>\n",
       "      <td>Sin informacion</td>\n",
       "      <td>debt_consolidation</td>\n",
       "      <td>36 months</td>\n",
       "      <td>Fully Paid</td>\n",
       "      <td>0</td>\n",
       "    </tr>\n",
       "    <tr>\n",
       "      <th>87998444</th>\n",
       "      <td>executive director</td>\n",
       "      <td>9 years</td>\n",
       "      <td>Source Verified</td>\n",
       "      <td>B</td>\n",
       "      <td>MORTGAGE</td>\n",
       "      <td>Sin informacion</td>\n",
       "      <td>credit_card</td>\n",
       "      <td>60 months</td>\n",
       "      <td>Current</td>\n",
       "      <td>0</td>\n",
       "    </tr>\n",
       "    <tr>\n",
       "      <th>132883631</th>\n",
       "      <td>Subsea Technician</td>\n",
       "      <td>7 years</td>\n",
       "      <td>Source Verified</td>\n",
       "      <td>B</td>\n",
       "      <td>MORTGAGE</td>\n",
       "      <td>Sin informacion</td>\n",
       "      <td>debt_consolidation</td>\n",
       "      <td>36 months</td>\n",
       "      <td>Fully Paid</td>\n",
       "      <td>0</td>\n",
       "    </tr>\n",
       "    <tr>\n",
       "      <th>...</th>\n",
       "      <td>...</td>\n",
       "      <td>...</td>\n",
       "      <td>...</td>\n",
       "      <td>...</td>\n",
       "      <td>...</td>\n",
       "      <td>...</td>\n",
       "      <td>...</td>\n",
       "      <td>...</td>\n",
       "      <td>...</td>\n",
       "      <td>...</td>\n",
       "    </tr>\n",
       "    <tr>\n",
       "      <th>51856888</th>\n",
       "      <td>Executive Assistant</td>\n",
       "      <td>3 years</td>\n",
       "      <td>Source Verified</td>\n",
       "      <td>B</td>\n",
       "      <td>RENT</td>\n",
       "      <td>Sin informacion</td>\n",
       "      <td>credit_card</td>\n",
       "      <td>36 months</td>\n",
       "      <td>Fully Paid</td>\n",
       "      <td>0</td>\n",
       "    </tr>\n",
       "    <tr>\n",
       "      <th>144538772</th>\n",
       "      <td>Immigration Senior Paralegal</td>\n",
       "      <td>7 years</td>\n",
       "      <td>Not Verified</td>\n",
       "      <td>B</td>\n",
       "      <td>MORTGAGE</td>\n",
       "      <td>Sin informacion</td>\n",
       "      <td>credit_card</td>\n",
       "      <td>36 months</td>\n",
       "      <td>Current</td>\n",
       "      <td>0</td>\n",
       "    </tr>\n",
       "    <tr>\n",
       "      <th>73222117</th>\n",
       "      <td>Executive Assistant</td>\n",
       "      <td>10+ years</td>\n",
       "      <td>Verified</td>\n",
       "      <td>B</td>\n",
       "      <td>RENT</td>\n",
       "      <td>Sin informacion</td>\n",
       "      <td>debt_consolidation</td>\n",
       "      <td>36 months</td>\n",
       "      <td>Fully Paid</td>\n",
       "      <td>0</td>\n",
       "    </tr>\n",
       "    <tr>\n",
       "      <th>129396054</th>\n",
       "      <td>Field Manager</td>\n",
       "      <td>10+ years</td>\n",
       "      <td>Source Verified</td>\n",
       "      <td>D</td>\n",
       "      <td>OWN</td>\n",
       "      <td>Sin informacion</td>\n",
       "      <td>debt_consolidation</td>\n",
       "      <td>60 months</td>\n",
       "      <td>Current</td>\n",
       "      <td>0</td>\n",
       "    </tr>\n",
       "    <tr>\n",
       "      <th>53664762</th>\n",
       "      <td>Attorney</td>\n",
       "      <td>8 years</td>\n",
       "      <td>Source Verified</td>\n",
       "      <td>E</td>\n",
       "      <td>RENT</td>\n",
       "      <td>Sin informacion</td>\n",
       "      <td>small_business</td>\n",
       "      <td>60 months</td>\n",
       "      <td>Charged Off</td>\n",
       "      <td>1</td>\n",
       "    </tr>\n",
       "  </tbody>\n",
       "</table>\n",
       "<p>124353 rows × 10 columns</p>\n",
       "</div>"
      ],
      "text/plain": [
       "                                         empleo antiguedad_empleo  \\\n",
       "id_cliente                                                          \n",
       "137387967                      Hvac technician            3 years   \n",
       "4798121     Target Promotions and Marketing,Inc         10+ years   \n",
       "46641215                                 Banker           5 years   \n",
       "87998444                     executive director           9 years   \n",
       "132883631                     Subsea Technician           7 years   \n",
       "...                                         ...               ...   \n",
       "51856888                    Executive Assistant           3 years   \n",
       "144538772          Immigration Senior Paralegal           7 years   \n",
       "73222117                    Executive Assistant         10+ years   \n",
       "129396054                         Field Manager         10+ years   \n",
       "53664762                               Attorney           8 years   \n",
       "\n",
       "           ingresos_verificados rating  vivienda      descripcion  \\\n",
       "id_cliente                                                          \n",
       "137387967       Source Verified      A  MORTGAGE  Sin informacion   \n",
       "4798121            Not Verified      D      RENT  Sin informacion   \n",
       "46641215               Verified      A      RENT  Sin informacion   \n",
       "87998444        Source Verified      B  MORTGAGE  Sin informacion   \n",
       "132883631       Source Verified      B  MORTGAGE  Sin informacion   \n",
       "...                         ...    ...       ...              ...   \n",
       "51856888        Source Verified      B      RENT  Sin informacion   \n",
       "144538772          Not Verified      B  MORTGAGE  Sin informacion   \n",
       "73222117               Verified      B      RENT  Sin informacion   \n",
       "129396054       Source Verified      D       OWN  Sin informacion   \n",
       "53664762        Source Verified      E      RENT  Sin informacion   \n",
       "\n",
       "                     finalidad  num_cuotas       estado  pd  \n",
       "id_cliente                                                   \n",
       "137387967   debt_consolidation   36 months      Current   0  \n",
       "4798121     debt_consolidation   36 months  Charged Off   1  \n",
       "46641215    debt_consolidation   36 months   Fully Paid   0  \n",
       "87998444           credit_card   60 months      Current   0  \n",
       "132883631   debt_consolidation   36 months   Fully Paid   0  \n",
       "...                        ...         ...          ...  ..  \n",
       "51856888           credit_card   36 months   Fully Paid   0  \n",
       "144538772          credit_card   36 months      Current   0  \n",
       "73222117    debt_consolidation   36 months   Fully Paid   0  \n",
       "129396054   debt_consolidation   60 months      Current   0  \n",
       "53664762        small_business   60 months  Charged Off   1  \n",
       "\n",
       "[124353 rows x 10 columns]"
      ]
     },
     "execution_count": 160,
     "metadata": {},
     "output_type": "execute_result"
    }
   ],
   "source": [
    "cat['pd'] = np.where(cat.estado.isin(['Charged Off','Does not meet the credit policy. Status:Charged Off','Default']), 1, 0)\n",
    "cat"
   ]
  },
  {
   "cell_type": "code",
   "execution_count": 161,
   "id": "26524bc5",
   "metadata": {},
   "outputs": [],
   "source": [
    "cat.drop(columns='estado',inplace=True)"
   ]
  },
  {
   "cell_type": "markdown",
   "id": "3feb277b",
   "metadata": {},
   "source": [
    "#### EAD "
   ]
  },
  {
   "cell_type": "markdown",
   "id": "7f422830",
   "metadata": {},
   "source": [
    "Será el porcentaje del principal que no había sido amortizado.\n",
    "\n",
    "Por tanto: pendiente / principal\n",
    "\n",
    "Primero tenemos que construir el pendiente como el principal menos el amortizado."
   ]
  },
  {
   "cell_type": "code",
   "execution_count": null,
   "id": "27e36b65",
   "metadata": {},
   "outputs": [],
   "source": [
    "num['pendiente'] = num['principal'] - num['imp_amortizado']"
   ]
  },
  {
   "cell_type": "code",
   "execution_count": 163,
   "id": "d473d95a",
   "metadata": {},
   "outputs": [
    {
     "data": {
      "text/html": [
       "<div>\n",
       "<style scoped>\n",
       "    .dataframe tbody tr th:only-of-type {\n",
       "        vertical-align: middle;\n",
       "    }\n",
       "\n",
       "    .dataframe tbody tr th {\n",
       "        vertical-align: top;\n",
       "    }\n",
       "\n",
       "    .dataframe thead th {\n",
       "        text-align: right;\n",
       "    }\n",
       "</style>\n",
       "<table border=\"1\" class=\"dataframe\">\n",
       "  <thead>\n",
       "    <tr style=\"text-align: right;\">\n",
       "      <th></th>\n",
       "      <th>imp_recuperado</th>\n",
       "      <th>imp_amortizado</th>\n",
       "      <th>principal</th>\n",
       "    </tr>\n",
       "    <tr>\n",
       "      <th>id_cliente</th>\n",
       "      <th></th>\n",
       "      <th></th>\n",
       "      <th></th>\n",
       "    </tr>\n",
       "  </thead>\n",
       "  <tbody>\n",
       "    <tr>\n",
       "      <th>137387967</th>\n",
       "      <td>0.00</td>\n",
       "      <td>2669.06</td>\n",
       "      <td>15000.0</td>\n",
       "    </tr>\n",
       "    <tr>\n",
       "      <th>4798121</th>\n",
       "      <td>0.00</td>\n",
       "      <td>6362.96</td>\n",
       "      <td>10000.0</td>\n",
       "    </tr>\n",
       "    <tr>\n",
       "      <th>46641215</th>\n",
       "      <td>0.00</td>\n",
       "      <td>24000.00</td>\n",
       "      <td>24000.0</td>\n",
       "    </tr>\n",
       "    <tr>\n",
       "      <th>87998444</th>\n",
       "      <td>0.00</td>\n",
       "      <td>12443.00</td>\n",
       "      <td>27000.0</td>\n",
       "    </tr>\n",
       "    <tr>\n",
       "      <th>132883631</th>\n",
       "      <td>0.00</td>\n",
       "      <td>22000.00</td>\n",
       "      <td>22000.0</td>\n",
       "    </tr>\n",
       "    <tr>\n",
       "      <th>...</th>\n",
       "      <td>...</td>\n",
       "      <td>...</td>\n",
       "      <td>...</td>\n",
       "    </tr>\n",
       "    <tr>\n",
       "      <th>51856888</th>\n",
       "      <td>0.00</td>\n",
       "      <td>5000.00</td>\n",
       "      <td>5000.0</td>\n",
       "    </tr>\n",
       "    <tr>\n",
       "      <th>144538772</th>\n",
       "      <td>0.00</td>\n",
       "      <td>1763.67</td>\n",
       "      <td>25000.0</td>\n",
       "    </tr>\n",
       "    <tr>\n",
       "      <th>73222117</th>\n",
       "      <td>0.00</td>\n",
       "      <td>3000.00</td>\n",
       "      <td>3000.0</td>\n",
       "    </tr>\n",
       "    <tr>\n",
       "      <th>129396054</th>\n",
       "      <td>0.00</td>\n",
       "      <td>1975.94</td>\n",
       "      <td>14400.0</td>\n",
       "    </tr>\n",
       "    <tr>\n",
       "      <th>53664762</th>\n",
       "      <td>2750.88</td>\n",
       "      <td>2964.44</td>\n",
       "      <td>30050.0</td>\n",
       "    </tr>\n",
       "  </tbody>\n",
       "</table>\n",
       "<p>124353 rows × 3 columns</p>\n",
       "</div>"
      ],
      "text/plain": [
       "            imp_recuperado  imp_amortizado  principal\n",
       "id_cliente                                           \n",
       "137387967             0.00         2669.06    15000.0\n",
       "4798121               0.00         6362.96    10000.0\n",
       "46641215              0.00        24000.00    24000.0\n",
       "87998444              0.00        12443.00    27000.0\n",
       "132883631             0.00        22000.00    22000.0\n",
       "...                    ...             ...        ...\n",
       "51856888              0.00         5000.00     5000.0\n",
       "144538772             0.00         1763.67    25000.0\n",
       "73222117              0.00         3000.00     3000.0\n",
       "129396054             0.00         1975.94    14400.0\n",
       "53664762           2750.88         2964.44    30050.0\n",
       "\n",
       "[124353 rows x 3 columns]"
      ]
     },
     "execution_count": 163,
     "metadata": {},
     "output_type": "execute_result"
    }
   ],
   "source": [
    "temp = pd.concat([cat,num], axis = 1)\n",
    "temp[['imp_recuperado','imp_amortizado','principal']]"
   ]
  },
  {
   "cell_type": "code",
   "execution_count": 164,
   "id": "e40c47ff",
   "metadata": {},
   "outputs": [],
   "source": [
    "num['ead'] = (num.pendiente/num.principal)"
   ]
  },
  {
   "cell_type": "markdown",
   "id": "38a4b1bb",
   "metadata": {},
   "source": [
    "#### LG - Loss Given Default"
   ]
  },
  {
   "cell_type": "markdown",
   "id": "423ad372",
   "metadata": {},
   "source": [
    "Será el porcentaje del pendiente que NO se recupera en caso de impago.\n",
    "\n",
    "Por tanto: 1 - (imp_recuperado / pendiente)"
   ]
  },
  {
   "cell_type": "code",
   "execution_count": 165,
   "id": "b78f5da9",
   "metadata": {},
   "outputs": [],
   "source": [
    "num['lg'] = (1 - num.imp_recuperado/num.pendiente)"
   ]
  },
  {
   "cell_type": "code",
   "execution_count": 166,
   "id": "e07fb582",
   "metadata": {},
   "outputs": [],
   "source": [
    "num.lg.fillna(0,inplace=True)"
   ]
  },
  {
   "cell_type": "markdown",
   "id": "5c9bc95b",
   "metadata": {},
   "source": [
    "**ANALIZAMOS LA CANTIDAD DE 1 EN NUESTRAS TARGETS**"
   ]
  },
  {
   "cell_type": "code",
   "execution_count": 167,
   "id": "28fccf09",
   "metadata": {},
   "outputs": [
    {
     "data": {
      "text/html": [
       "<div>\n",
       "<style scoped>\n",
       "    .dataframe tbody tr th:only-of-type {\n",
       "        vertical-align: middle;\n",
       "    }\n",
       "\n",
       "    .dataframe tbody tr th {\n",
       "        vertical-align: top;\n",
       "    }\n",
       "\n",
       "    .dataframe thead th {\n",
       "        text-align: right;\n",
       "    }\n",
       "</style>\n",
       "<table border=\"1\" class=\"dataframe\">\n",
       "  <thead>\n",
       "    <tr style=\"text-align: right;\">\n",
       "      <th></th>\n",
       "      <th>count</th>\n",
       "      <th>mean</th>\n",
       "      <th>std</th>\n",
       "      <th>min</th>\n",
       "      <th>25%</th>\n",
       "      <th>50%</th>\n",
       "      <th>75%</th>\n",
       "      <th>max</th>\n",
       "    </tr>\n",
       "  </thead>\n",
       "  <tbody>\n",
       "    <tr>\n",
       "      <th>ead</th>\n",
       "      <td>124353.0</td>\n",
       "      <td>0.335029</td>\n",
       "      <td>0.367483</td>\n",
       "      <td>-0.000001</td>\n",
       "      <td>0.0</td>\n",
       "      <td>0.126608</td>\n",
       "      <td>0.719281</td>\n",
       "      <td>1.0</td>\n",
       "    </tr>\n",
       "    <tr>\n",
       "      <th>lg</th>\n",
       "      <td>124353.0</td>\n",
       "      <td>0.507436</td>\n",
       "      <td>0.490303</td>\n",
       "      <td>-0.264347</td>\n",
       "      <td>0.0</td>\n",
       "      <td>0.845639</td>\n",
       "      <td>1.000000</td>\n",
       "      <td>1.0</td>\n",
       "    </tr>\n",
       "  </tbody>\n",
       "</table>\n",
       "</div>"
      ],
      "text/plain": [
       "        count      mean       std       min  25%       50%       75%  max\n",
       "ead  124353.0  0.335029  0.367483 -0.000001  0.0  0.126608  0.719281  1.0\n",
       "lg   124353.0  0.507436  0.490303 -0.264347  0.0  0.845639  1.000000  1.0"
      ]
     },
     "execution_count": 167,
     "metadata": {},
     "output_type": "execute_result"
    }
   ],
   "source": [
    "num[['ead','lg']].describe().T"
   ]
  },
  {
   "cell_type": "markdown",
   "id": "7ad4a00d",
   "metadata": {},
   "source": [
    "**MODELIZAMOS PARA LLEVAR A 0 LOS VALORES NEGATIVOS**"
   ]
  },
  {
   "cell_type": "code",
   "execution_count": 168,
   "id": "dab66335",
   "metadata": {
    "scrolled": true
   },
   "outputs": [
    {
     "data": {
      "text/html": [
       "<div>\n",
       "<style scoped>\n",
       "    .dataframe tbody tr th:only-of-type {\n",
       "        vertical-align: middle;\n",
       "    }\n",
       "\n",
       "    .dataframe tbody tr th {\n",
       "        vertical-align: top;\n",
       "    }\n",
       "\n",
       "    .dataframe thead th {\n",
       "        text-align: right;\n",
       "    }\n",
       "</style>\n",
       "<table border=\"1\" class=\"dataframe\">\n",
       "  <thead>\n",
       "    <tr style=\"text-align: right;\">\n",
       "      <th></th>\n",
       "      <th>count</th>\n",
       "      <th>mean</th>\n",
       "      <th>std</th>\n",
       "      <th>min</th>\n",
       "      <th>25%</th>\n",
       "      <th>50%</th>\n",
       "      <th>75%</th>\n",
       "      <th>max</th>\n",
       "    </tr>\n",
       "  </thead>\n",
       "  <tbody>\n",
       "    <tr>\n",
       "      <th>ead</th>\n",
       "      <td>124353.0</td>\n",
       "      <td>0.335029</td>\n",
       "      <td>0.367483</td>\n",
       "      <td>0.0</td>\n",
       "      <td>0.0</td>\n",
       "      <td>0.126608</td>\n",
       "      <td>0.719281</td>\n",
       "      <td>1.0</td>\n",
       "    </tr>\n",
       "    <tr>\n",
       "      <th>lg</th>\n",
       "      <td>124353.0</td>\n",
       "      <td>0.507459</td>\n",
       "      <td>0.490277</td>\n",
       "      <td>0.0</td>\n",
       "      <td>0.0</td>\n",
       "      <td>0.845639</td>\n",
       "      <td>1.000000</td>\n",
       "      <td>1.0</td>\n",
       "    </tr>\n",
       "  </tbody>\n",
       "</table>\n",
       "</div>"
      ],
      "text/plain": [
       "        count      mean       std  min  25%       50%       75%  max\n",
       "ead  124353.0  0.335029  0.367483  0.0  0.0  0.126608  0.719281  1.0\n",
       "lg   124353.0  0.507459  0.490277  0.0  0.0  0.845639  1.000000  1.0"
      ]
     },
     "execution_count": 168,
     "metadata": {},
     "output_type": "execute_result"
    }
   ],
   "source": [
    "num['ead'] = np.where(num.ead < 0, 0, num.ead)\n",
    "num['lg'] = np.where(num.lg < 0, 0, num.lg)\n",
    "num[['ead','lg']].describe().T"
   ]
  },
  {
   "cell_type": "markdown",
   "id": "9790d322",
   "metadata": {},
   "source": [
    "## RESTO DE VARIABLES"
   ]
  },
  {
   "cell_type": "code",
   "execution_count": 169,
   "id": "f8d9eb87",
   "metadata": {
    "scrolled": true
   },
   "outputs": [
    {
     "name": "stdout",
     "output_type": "stream",
     "text": [
      "<class 'pandas.core.frame.DataFrame'>\n",
      "Int64Index: 124353 entries, 137387967 to 53664762\n",
      "Data columns (total 9 columns):\n",
      " #   Column                Non-Null Count   Dtype \n",
      "---  ------                --------------   ----- \n",
      " 0   empleo                124353 non-null  object\n",
      " 1   antiguedad_empleo     124353 non-null  object\n",
      " 2   ingresos_verificados  124353 non-null  object\n",
      " 3   rating                124353 non-null  object\n",
      " 4   vivienda              124353 non-null  object\n",
      " 5   descripcion           124353 non-null  object\n",
      " 6   finalidad             124353 non-null  object\n",
      " 7   num_cuotas            124353 non-null  object\n",
      " 8   pd                    124353 non-null  int32 \n",
      "dtypes: int32(1), object(8)\n",
      "memory usage: 9.0+ MB\n"
     ]
    }
   ],
   "source": [
    "cat.info()"
   ]
  },
  {
   "cell_type": "markdown",
   "id": "e3bc24cf",
   "metadata": {},
   "source": [
    "**Analizamos num_meses_ult_retraso**"
   ]
  },
  {
   "cell_type": "code",
   "execution_count": 170,
   "id": "49350dee",
   "metadata": {
    "scrolled": false
   },
   "outputs": [
    {
     "data": {
      "image/png": "[encoded data removed]",
      "text/plain": [
       "<Figure size 640x480 with 1 Axes>"
      ]
     },
     "metadata": {},
     "output_type": "display_data"
    }
   ],
   "source": [
    "temp = num[['num_meses_desde_ult_retraso']].copy()\n",
    "temp['num_meses_desde_ult_retraso_tramos'] = pd.cut(temp.num_meses_desde_ult_retraso, 20)\n",
    "temp['target'] = cat['pd']\n",
    "\n",
    "temp.groupby('num_meses_desde_ult_retraso_tramos').target.mean().plot.bar();"
   ]
  },
  {
   "cell_type": "markdown",
   "id": "369e2c5c",
   "metadata": {},
   "source": [
    "La distribución de esta variable no genera mucha confianza. Al ser una variable de comportamiento, la descartamos."
   ]
  },
  {
   "cell_type": "code",
   "execution_count": 171,
   "id": "7e6894ee",
   "metadata": {},
   "outputs": [],
   "source": [
    "num.drop(columns='num_meses_desde_ult_retraso',inplace=True)"
   ]
  },
  {
   "cell_type": "markdown",
   "id": "7d9473f0",
   "metadata": {},
   "source": [
    "**Imputamos finalidad y vivienda**"
   ]
  },
  {
   "cell_type": "code",
   "execution_count": 172,
   "id": "64e0fa62",
   "metadata": {},
   "outputs": [],
   "source": [
    "cat['finalidad'] = cat.finalidad.replace(['house','renewable_energy','educational','wedding'],'other')\n",
    "cat['vivienda'] = cat.vivienda.replace(['NONE','ANY','OTHER'],'MORTGAGE')"
   ]
  },
  {
   "cell_type": "code",
   "execution_count": 173,
   "id": "8fcfb874",
   "metadata": {
    "scrolled": false
   },
   "outputs": [
    {
     "data": {
      "text/plain": [
       "debt_consolidation    71193\n",
       "credit_card           28443\n",
       "other                  8367\n",
       "home_improvement       7985\n",
       "major_purchase         2752\n",
       "medical                1439\n",
       "small_business         1293\n",
       "car                    1166\n",
       "vacation                868\n",
       "moving                  847\n",
       "Name: finalidad, dtype: int64"
      ]
     },
     "execution_count": 173,
     "metadata": {},
     "output_type": "execute_result"
    }
   ],
   "source": [
    "cat.finalidad.value_counts()"
   ]
  },
  {
   "cell_type": "code",
   "execution_count": 174,
   "id": "702c2326",
   "metadata": {},
   "outputs": [
    {
     "data": {
      "text/plain": [
       "MORTGAGE    61498\n",
       "RENT        49875\n",
       "OWN         12980\n",
       "Name: vivienda, dtype: int64"
      ]
     },
     "execution_count": 174,
     "metadata": {},
     "output_type": "execute_result"
    }
   ],
   "source": [
    "cat.vivienda.value_counts()"
   ]
  },
  {
   "cell_type": "markdown",
   "id": "84e5ca29",
   "metadata": {},
   "source": [
    "**Imputamos dti**"
   ]
  },
  {
   "cell_type": "code",
   "execution_count": 175,
   "id": "b39cb2f0",
   "metadata": {},
   "outputs": [],
   "source": [
    "variable = ['dti']\n",
    "minimo = 0\n",
    "maximo = 100\n",
    "num[variable] = num[variable].clip(minimo,maximo)"
   ]
  },
  {
   "cell_type": "markdown",
   "id": "70aaa683",
   "metadata": {},
   "source": [
    "**Eliminamos empleo ya que presenta gran variabilidad y, se considera más importante los ingresos y la antiguedad**\n",
    "\n",
    "**También eliminamos resto de variables que ya no usaremos**"
   ]
  },
  {
   "cell_type": "code",
   "execution_count": 176,
   "id": "ff0fc5ec",
   "metadata": {},
   "outputs": [],
   "source": [
    "cat.drop(columns=['empleo'], inplace= True)\n",
    "num.drop(columns=['imp_recuperado','imp_amortizado','pendiente'], inplace = True)"
   ]
  },
  {
   "cell_type": "markdown",
   "id": "47cd0aeb",
   "metadata": {},
   "source": [
    "## TRANSFORMACIÓN DE CATEGÓRICAS"
   ]
  },
  {
   "cell_type": "markdown",
   "id": "da9b786a",
   "metadata": {},
   "source": [
    "#### Variables a aplicar OHE"
   ]
  },
  {
   "cell_type": "code",
   "execution_count": 177,
   "id": "8cdb6363",
   "metadata": {},
   "outputs": [
    {
     "data": {
      "text/plain": [
       "['antiguedad_empleo',\n",
       " 'ingresos_verificados',\n",
       " 'rating',\n",
       " 'vivienda',\n",
       " 'descripcion',\n",
       " 'finalidad',\n",
       " 'num_cuotas',\n",
       " 'pd']"
      ]
     },
     "execution_count": 177,
     "metadata": {},
     "output_type": "execute_result"
    }
   ],
   "source": [
    "cat.columns.to_list()"
   ]
  },
  {
   "cell_type": "code",
   "execution_count": 178,
   "id": "6e36cf47",
   "metadata": {},
   "outputs": [],
   "source": [
    "var_ohe = ['ingresos_verificados',\n",
    " 'vivienda',\n",
    " 'finalidad',\n",
    " 'num_cuotas']"
   ]
  },
  {
   "cell_type": "markdown",
   "id": "db8d4634",
   "metadata": {},
   "source": [
    "#### Instanciar"
   ]
  },
  {
   "cell_type": "code",
   "execution_count": 179,
   "id": "e75c2ee4",
   "metadata": {},
   "outputs": [],
   "source": [
    "ohe = OneHotEncoder(sparse = False, handle_unknown='ignore')"
   ]
  },
  {
   "cell_type": "markdown",
   "id": "26c9f58f",
   "metadata": {},
   "source": [
    "#### Entrenar y aplicar"
   ]
  },
  {
   "cell_type": "code",
   "execution_count": 180,
   "id": "4162d5a7",
   "metadata": {},
   "outputs": [],
   "source": [
    "cat_ohe = ohe.fit_transform(cat[var_ohe])"
   ]
  },
  {
   "cell_type": "markdown",
   "id": "c9131f15",
   "metadata": {},
   "source": [
    "#### Guardar como dataframe"
   ]
  },
  {
   "cell_type": "code",
   "execution_count": 181,
   "id": "783255d7",
   "metadata": {},
   "outputs": [],
   "source": [
    "cat_ohe = pd.DataFrame(cat_ohe, columns = ohe.get_feature_names_out())"
   ]
  },
  {
   "cell_type": "markdown",
   "id": "5e7c941a",
   "metadata": {},
   "source": [
    "### Ordinal Encoding"
   ]
  },
  {
   "cell_type": "markdown",
   "id": "c49c4a51",
   "metadata": {},
   "source": [
    "#### Variables a aplicar OE"
   ]
  },
  {
   "cell_type": "code",
   "execution_count": 182,
   "id": "88289cab",
   "metadata": {},
   "outputs": [
    {
     "data": {
      "text/plain": [
       "array(['3 years', '10+ years', '5 years', '9 years', '7 years', '8 years',\n",
       "       '4 years', '< 1 year', '1 year', '6 years', '2 years'],\n",
       "      dtype=object)"
      ]
     },
     "execution_count": 182,
     "metadata": {},
     "output_type": "execute_result"
    }
   ],
   "source": [
    "cat.antiguedad_empleo.unique()"
   ]
  },
  {
   "cell_type": "code",
   "execution_count": 184,
   "id": "8a09974e",
   "metadata": {},
   "outputs": [],
   "source": [
    "var_oe = ['rating','antiguedad_empleo']"
   ]
  },
  {
   "cell_type": "markdown",
   "id": "6922c091",
   "metadata": {},
   "source": [
    "#### Orden de los valores de las variables"
   ]
  },
  {
   "cell_type": "code",
   "execution_count": 185,
   "id": "428dfe69",
   "metadata": {},
   "outputs": [],
   "source": [
    "#Orden de la primera variable\n",
    "orden_rating = ['G','F','E','D','C','B','A']\n",
    "orden_antiguedad_empleo = ['< 1 year', '1 year','2 years','3 years','4 years',\n",
    "                           '5 years', '6 years', '7 years', '8 years', '9 years', '10+ years']"
   ]
  },
  {
   "cell_type": "markdown",
   "id": "3b38879c",
   "metadata": {},
   "source": [
    "#### Instanciar"
   ]
  },
  {
   "cell_type": "code",
   "execution_count": 186,
   "id": "4fe57c80",
   "metadata": {},
   "outputs": [],
   "source": [
    "oe = OrdinalEncoder(categories = [orden_rating,orden_antiguedad_empleo],\n",
    "                    handle_unknown = 'use_encoded_value',\n",
    "                    unknown_value = 11)"
   ]
  },
  {
   "cell_type": "markdown",
   "id": "0aeff907",
   "metadata": {},
   "source": [
    "#### Entrenar y aplicar"
   ]
  },
  {
   "cell_type": "code",
   "execution_count": 187,
   "id": "dbeafa81",
   "metadata": {},
   "outputs": [],
   "source": [
    "cat_oe = oe.fit_transform(cat[var_oe])"
   ]
  },
  {
   "cell_type": "markdown",
   "id": "df479d84",
   "metadata": {},
   "source": [
    "#### Guardar como dataframe"
   ]
  },
  {
   "cell_type": "code",
   "execution_count": 188,
   "id": "bd1db401",
   "metadata": {},
   "outputs": [],
   "source": [
    "#Añadir sufijos a los nombres\n",
    "nombres_oe = [variable + '_oe' for variable in var_oe]\n",
    "\n",
    "#Guardar como dataframe\n",
    "cat_oe = pd.DataFrame(cat_oe, columns = nombres_oe)"
   ]
  },
  {
   "cell_type": "markdown",
   "id": "5c054785",
   "metadata": {
    "heading_collapsed": true
   },
   "source": [
    "### Fechas y Textos"
   ]
  },
  {
   "cell_type": "code",
   "execution_count": 189,
   "id": "0a6a1424",
   "metadata": {
    "hidden": true
   },
   "outputs": [],
   "source": [
    "stop = pd.read_csv(r'C:\\Users\\mcent\\OneDrive\\Escritorio\\PROYECTOS ML\\SCORING_DE_RIESGOS\\01_Documentos\\stop_words_english.txt', names= ['terminos'])"
   ]
  },
  {
   "cell_type": "code",
   "execution_count": 190,
   "id": "2440d286",
   "metadata": {
    "hidden": true
   },
   "outputs": [],
   "source": [
    "def quitar_tildes(palabra):\n",
    "    #Definimos la versión con tildes y símbolos y la sin\n",
    "    con = 'áéíóúüñÁÉÍÓÚÜÑ'\n",
    "    sin = 'aeiouunAEIOUUN'\n",
    "    #Creamos un traductor\n",
    "    traductor = str.maketrans(con,sin)\n",
    "    #Aplicamos el traductor y devolvemos la palabra limpia\n",
    "    return(palabra.translate(traductor))"
   ]
  },
  {
   "cell_type": "code",
   "execution_count": 191,
   "id": "6665cc54",
   "metadata": {
    "hidden": true
   },
   "outputs": [],
   "source": [
    "stop['limpias'] = stop.terminos.transform(quitar_tildes)"
   ]
  },
  {
   "cell_type": "markdown",
   "id": "a82718cf",
   "metadata": {
    "hidden": true
   },
   "source": [
    "Aplicamos tf-fidVectorizer"
   ]
  },
  {
   "cell_type": "code",
   "execution_count": 192,
   "id": "dbb721e5",
   "metadata": {
    "hidden": true
   },
   "outputs": [
    {
     "name": "stderr",
     "output_type": "stream",
     "text": [
      "C:\\Users\\mcent\\miniconda3\\envs\\riesgos\\lib\\site-packages\\sklearn\\feature_extraction\\text.py:404: UserWarning: Your stop_words may be inconsistent with your preprocessing. Tokenizing the stop words generated tokens ['ain', 'al', 'couldn', 'daren', 'didn', 'doesn', 'hadn', 'hasn', 'haven', 'isn', 'itse', 'll', 'mayn', 'mightn', 'mon', 'mustn', 'myse', 'needn', 'oughtn', 'shan', 'shouldn', 've', 'wasn', 'weren', 'won', 'wouldn'] not in stop_words.\n",
      "  warnings.warn(\n"
     ]
    }
   ],
   "source": [
    "from sklearn.feature_extraction.text import TfidfVectorizer\n",
    "\n",
    "#Instanciamos\n",
    "tfidf = TfidfVectorizer(strip_accents = 'unicode',\n",
    "                     stop_words = stop.limpias.to_list(),\n",
    "                     max_df = 0.7,\n",
    "                     min_df = 50,\n",
    "                     ngram_range= (1,3))\n",
    "\n",
    "#Entrenamos\n",
    "tfidf.fit(cat.descripcion)\n",
    "\n",
    "#Aplicamos\n",
    "caracteristicas = tfidf.transform(cat.descripcion)"
   ]
  },
  {
   "cell_type": "code",
   "execution_count": 125,
   "id": "39397706",
   "metadata": {
    "hidden": true
   },
   "outputs": [
    {
     "data": {
      "text/plain": [
       "{'borrower': 144,\n",
       " '11': 36,\n",
       " '14': 71,\n",
       " '12': 39,\n",
       " 'credit': 212,\n",
       " 'card': 173,\n",
       " 'debt': 229,\n",
       " 'loan': 284,\n",
       " 'order': 313,\n",
       " 'pay': 316,\n",
       " 'consolidating': 204,\n",
       " 'payment': 330,\n",
       " 'cards': 180,\n",
       " 'br': 157,\n",
       " 'wedding': 374,\n",
       " 'months': 310,\n",
       " 'goal': 258,\n",
       " 'higher': 269,\n",
       " 'personal': 337,\n",
       " 'consolidate': 197,\n",
       " 'payments': 333,\n",
       " 'month': 304,\n",
       " 'borrower 11': 155,\n",
       " '14 12': 72,\n",
       " 'credit card': 213,\n",
       " 'card debt': 178,\n",
       " 'cards loan': 184,\n",
       " 'payment br': 331,\n",
       " 'br br': 166,\n",
       " 'br borrower': 158,\n",
       " 'loan pay': 292,\n",
       " 'pay higher': 325,\n",
       " 'personal loan': 338,\n",
       " 'loan credit': 289,\n",
       " 'credit cards': 219,\n",
       " 'consolidate debt': 202,\n",
       " 'payment month': 332,\n",
       " 'month br': 305,\n",
       " 'credit card debt': 218,\n",
       " 'br br borrower': 167,\n",
       " '07': 23,\n",
       " '23': 107,\n",
       " '13': 52,\n",
       " 'balance': 138,\n",
       " 'score': 362,\n",
       " 'purchase': 340,\n",
       " 'years': 378,\n",
       " 'borrower 07': 151,\n",
       " '23 13': 109,\n",
       " '13 consolidate': 55,\n",
       " 'consolidate credit': 199,\n",
       " 'credit score': 226,\n",
       " 'years br': 379,\n",
       " '13 consolidate credit': 56,\n",
       " 'consolidate credit card': 200,\n",
       " '18': 92,\n",
       " 'faster': 248,\n",
       " 'rate': 344,\n",
       " 'borrower 12': 156,\n",
       " '18 13': 94,\n",
       " 'debt pay': 237,\n",
       " '13 consolidate debt': 57,\n",
       " '27': 119,\n",
       " 'amp': 136,\n",
       " 'accounts': 135,\n",
       " 'fixed': 252,\n",
       " 'family': 247,\n",
       " 'income': 276,\n",
       " 'time': 370,\n",
       " 'balances': 139,\n",
       " 'medical': 299,\n",
       " 'account': 134,\n",
       " 'debit': 228,\n",
       " '27 12': 120,\n",
       " '12 consolidate': 42,\n",
       " '08': 27,\n",
       " '28': 122,\n",
       " 'school': 361,\n",
       " 'start': 368,\n",
       " 'borrower 08': 152,\n",
       " '28 13': 124,\n",
       " '13 loan': 63,\n",
       " 'pay credit': 319,\n",
       " '13 loan pay': 65,\n",
       " 'loan pay credit': 293,\n",
       " 'pay credit cards': 321,\n",
       " '05': 16,\n",
       " '01': 2,\n",
       " 'bills': 141,\n",
       " 'borrower 05': 149,\n",
       " '01 13': 4,\n",
       " 'medical bills': 300,\n",
       " 'cards payment': 187,\n",
       " 'bills br': 142,\n",
       " 'credit cards payment': 225,\n",
       " 'eliminate': 242,\n",
       " 'monthly': 306,\n",
       " 'monthly payments': 309,\n",
       " 'loan br': 285,\n",
       " '09': 30,\n",
       " 'borrower 09': 153,\n",
       " '09 12': 31,\n",
       " '12 13': 41,\n",
       " '10': 33,\n",
       " 'paying': 327,\n",
       " 'borrower 10': 154,\n",
       " 'paying credit': 328,\n",
       " 'cards br': 181,\n",
       " 'paying credit cards': 329,\n",
       " 'credit cards br': 220,\n",
       " '04': 13,\n",
       " 'student': 369,\n",
       " 'easy': 241,\n",
       " 'working': 376,\n",
       " 'current': 227,\n",
       " 'making': 298,\n",
       " 'work': 375,\n",
       " '04 12': 14,\n",
       " 'outstanding': 314,\n",
       " 'loans': 295,\n",
       " 'save': 357,\n",
       " 'money': 303,\n",
       " '11 13': 38,\n",
       " 'loan consolidate': 286,\n",
       " 'save money': 358,\n",
       " 'monthly payment': 307,\n",
       " 'loans br': 296,\n",
       " '13 loan consolidate': 64,\n",
       " 'loan consolidate debt': 288,\n",
       " '06': 19,\n",
       " 'rates': 348,\n",
       " 'borrower 06': 150,\n",
       " '12 loan': 47,\n",
       " 'rates br': 349,\n",
       " '12 loan pay': 49,\n",
       " '02': 5,\n",
       " '17': 88,\n",
       " 'consolidation': 206,\n",
       " 'borrower 02': 146,\n",
       " '17 14': 91,\n",
       " '14 debt': 77,\n",
       " 'debt consolidation': 231,\n",
       " 'consolidation credit': 209,\n",
       " '14 debt consolidation': 78,\n",
       " '04 13': 15,\n",
       " '13 pay': 66,\n",
       " '13 pay credit': 67,\n",
       " '30': 128,\n",
       " 'small': 364,\n",
       " '30 13': 130,\n",
       " '19': 95,\n",
       " 'future': 257,\n",
       " 'free': 253,\n",
       " 'lending': 280,\n",
       " 'club': 191,\n",
       " 'consideration': 195,\n",
       " '19 12': 96,\n",
       " 'debt free': 233,\n",
       " 'free years': 255,\n",
       " 'lending club': 281,\n",
       " 'club loan': 192,\n",
       " 'consideration br': 196,\n",
       " 'lending club loan': 282,\n",
       " 'refinance': 351,\n",
       " 'revolving': 354,\n",
       " 'reduce': 350,\n",
       " '08 13': 29,\n",
       " '13 12': 53,\n",
       " 'life': 283,\n",
       " '06 12': 20,\n",
       " 'card bills': 175,\n",
       " 'br borrower 08': 164,\n",
       " 'credit card bills': 215,\n",
       " '31': 131,\n",
       " '31 13': 133,\n",
       " 'pay br': 318,\n",
       " '22': 104,\n",
       " '22 13': 106,\n",
       " '13 debt': 61,\n",
       " 'consolidation br': 207,\n",
       " '13 debt consolidation': 62,\n",
       " 'debt consolidation br': 232,\n",
       " '25': 113,\n",
       " 'paid': 315,\n",
       " '25 13': 115,\n",
       " '13 paying': 69,\n",
       " '21': 101,\n",
       " 'single': 363,\n",
       " '21 13': 103,\n",
       " 'consolidate credit cards': 201,\n",
       " '16': 85,\n",
       " '16 13': 87,\n",
       " 'pay credit card': 320,\n",
       " 'late': 279,\n",
       " 'higher credit': 270,\n",
       " 'payments br': 334,\n",
       " '03': 9,\n",
       " 'good': 259,\n",
       " 'car': 171,\n",
       " 'repairs': 353,\n",
       " '03 12': 10,\n",
       " '12 pay': 50,\n",
       " 'credit cards loan': 222,\n",
       " '10 12': 34,\n",
       " '20': 98,\n",
       " '20 12': 99,\n",
       " '12 debt': 45,\n",
       " '12 debt consolidation': 46,\n",
       " '15': 82,\n",
       " 'year': 377,\n",
       " '15 12': 83,\n",
       " 'missed': 302,\n",
       " 'high': 262,\n",
       " 'pay debt': 322,\n",
       " 'rate br': 345,\n",
       " 'kitchen': 278,\n",
       " '15 13': 84,\n",
       " 'refinancing': 352,\n",
       " '06 14': 22,\n",
       " 'time br': 371,\n",
       " 'financial': 251,\n",
       " '11 12': 37,\n",
       " '12 12': 40,\n",
       " 'debt br': 230,\n",
       " '12 consolidate credit': 43,\n",
       " '02 13': 7,\n",
       " '13 credit': 58,\n",
       " '13 credit card': 59,\n",
       " 'card debt br': 179,\n",
       " 'borrower 01': 145,\n",
       " '09 13': 32,\n",
       " '000': 1,\n",
       " '24': 110,\n",
       " '23 12': 108,\n",
       " '24 12': 111,\n",
       " 'br borrower 10': 165,\n",
       " 'payoff': 335,\n",
       " 'payoff credit': 336,\n",
       " '16 12': 86,\n",
       " 'consolidation br br': 208,\n",
       " 'minimum': 301,\n",
       " 'card br': 176,\n",
       " 'card consolidation': 177,\n",
       " 'credit card consolidation': 217,\n",
       " 'br borrower 06': 162,\n",
       " 'close': 190,\n",
       " '31 12': 132,\n",
       " '12 loan consolidate': 48,\n",
       " 'expenses': 246,\n",
       " '00': 0,\n",
       " 'mortgage': 311,\n",
       " 'borrower 04': 148,\n",
       " '27 13': 121,\n",
       " 'cards high': 183,\n",
       " 'high rates': 268,\n",
       " 'credit cards high': 221,\n",
       " 'plan': 339,\n",
       " '07 12': 24,\n",
       " 'high credit': 263,\n",
       " 'free br': 254,\n",
       " 'high credit cards': 265,\n",
       " 'debt free br': 234,\n",
       " '14 pay': 80,\n",
       " 'pay high': 323,\n",
       " 'pay high credit': 324,\n",
       " '17 13': 90,\n",
       " '29': 125,\n",
       " '29 13': 127,\n",
       " 'finances': 250,\n",
       " '14 loan': 79,\n",
       " 'cards monthly': 185,\n",
       " 'credit cards monthly': 223,\n",
       " 'pay bills': 317,\n",
       " 'existing': 245,\n",
       " 'great': 260,\n",
       " 'bank': 140,\n",
       " 'needed': 312,\n",
       " '30 12': 129,\n",
       " 'br borrower 07': 163,\n",
       " '17 12': 89,\n",
       " '02 12': 6,\n",
       " '05 13': 18,\n",
       " 'cards br br': 182,\n",
       " '10 13': 35,\n",
       " '21 12': 102,\n",
       " 'hard': 261,\n",
       " 'borrower 03': 147,\n",
       " '20 13': 100,\n",
       " '26': 116,\n",
       " '26 12': 117,\n",
       " 'couple': 211,\n",
       " 'cards pay': 186,\n",
       " 'pay loan': 326,\n",
       " 'credit cards pay': 224,\n",
       " '19 13': 97,\n",
       " 'easier': 240,\n",
       " '03 14': 12,\n",
       " '14 14': 74,\n",
       " '07 14': 26,\n",
       " '14 consolidate': 75,\n",
       " 'debts': 239,\n",
       " 'purpose': 341,\n",
       " 'purpose loan': 342,\n",
       " 'loan debt': 290,\n",
       " 'loan debt consolidation': 291,\n",
       " 'track': 372,\n",
       " 'job': 277,\n",
       " 'consolidate high': 203,\n",
       " 'consolidating credit': 205,\n",
       " 'debt payment': 238,\n",
       " 'funds': 256,\n",
       " '13 payoff': 70,\n",
       " 'debt monthly': 236,\n",
       " '03 13': 11,\n",
       " '13 credit cards': 60,\n",
       " '02 14': 8,\n",
       " 'br borrower 02': 160,\n",
       " '12 credit': 44,\n",
       " 'rid': 355,\n",
       " 'house': 273,\n",
       " '07 13': 25,\n",
       " 'consolidation loan': 210,\n",
       " '14 pay credit': 81,\n",
       " '13 13': 54,\n",
       " 'loan consolidate credit': 287,\n",
       " 'improvements': 275,\n",
       " 'car loan': 172,\n",
       " 'high credit card': 264,\n",
       " 'faster br': 249,\n",
       " 'college': 193,\n",
       " '29 12': 126,\n",
       " 'loan pay high': 294,\n",
       " 'cash': 188,\n",
       " '24 13': 112,\n",
       " 'credit card br': 216,\n",
       " 'improvement': 274,\n",
       " 'apr': 137,\n",
       " 'sooner': 365,\n",
       " '12 pay credit': 51,\n",
       " 'employed': 243,\n",
       " '26 13': 118,\n",
       " 'buy': 170,\n",
       " '05 12': 17,\n",
       " 'roof': 356,\n",
       " '13 pay high': 68,\n",
       " 'higher rate': 271,\n",
       " 'company': 194,\n",
       " 'stable': 366,\n",
       " '01 12': 3,\n",
       " 'high rate': 266,\n",
       " 'business': 169,\n",
       " '14 credit': 76,\n",
       " '18 12': 93,\n",
       " '28 12': 123,\n",
       " 'cc': 189,\n",
       " '22 12': 105,\n",
       " 'lot': 297,\n",
       " '14 13': 73,\n",
       " 'card balances': 174,\n",
       " 'credit card balances': 214,\n",
       " 'savings': 360,\n",
       " 'excellent': 244,\n",
       " 'history': 272,\n",
       " 'monthly payment br': 308,\n",
       " '06 13': 21,\n",
       " 'saving': 359,\n",
       " 've': 373,\n",
       " 'br borrower 01': 159,\n",
       " '08 12': 28,\n",
       " 'rate credit': 346,\n",
       " 'high rate credit': 267,\n",
       " 'rate credit cards': 347,\n",
       " 'bills time': 143,\n",
       " 'br borrower 03': 161,\n",
       " 'quicker': 343,\n",
       " 'consolidate bills': 198,\n",
       " 'debt loan': 235,\n",
       " 'budget': 168,\n",
       " '25 12': 114,\n",
       " 'stable job': 367}"
      ]
     },
     "execution_count": 125,
     "metadata": {},
     "output_type": "execute_result"
    }
   ],
   "source": [
    "tfidf.vocabulary_"
   ]
  },
  {
   "cell_type": "markdown",
   "id": "ec6bd31a",
   "metadata": {},
   "source": [
    "## TRANSFORMACIÓN DE NUMÉRICAS"
   ]
  },
  {
   "cell_type": "markdown",
   "id": "b5a4b948",
   "metadata": {},
   "source": [
    "### Binarizar variables"
   ]
  },
  {
   "cell_type": "markdown",
   "id": "3208cfd8",
   "metadata": {},
   "source": [
    "#### Variables a binarizar"
   ]
  },
  {
   "cell_type": "code",
   "execution_count": 193,
   "id": "02d14f27",
   "metadata": {},
   "outputs": [
    {
     "name": "stdout",
     "output_type": "stream",
     "text": [
      "<class 'pandas.core.frame.DataFrame'>\n",
      "Int64Index: 124353 entries, 137387967 to 53664762\n",
      "Data columns (total 13 columns):\n",
      " #   Column                     Non-Null Count   Dtype  \n",
      "---  ------                     --------------   -----  \n",
      " 0   ingresos                   124353 non-null  float64\n",
      " 1   dti                        124353 non-null  float64\n",
      " 2   num_hipotecas              124353 non-null  Int64  \n",
      " 3   num_lineas_credito         124353 non-null  Int64  \n",
      " 4   porc_tarjetas_75p          124353 non-null  float64\n",
      " 5   porc_uso_revolving         124353 non-null  float64\n",
      " 6   num_cancelaciones_12meses  124353 non-null  Int64  \n",
      " 7   num_derogatorios           124353 non-null  Int64  \n",
      " 8   principal                  124353 non-null  float64\n",
      " 9   tipo_interes               124353 non-null  float64\n",
      " 10  imp_cuota                  124353 non-null  float64\n",
      " 11  ead                        124353 non-null  float64\n",
      " 12  lg                         124353 non-null  float64\n",
      "dtypes: Int64(4), float64(9)\n",
      "memory usage: 13.8 MB\n"
     ]
    }
   ],
   "source": [
    "num.info()"
   ]
  },
  {
   "cell_type": "code",
   "execution_count": 194,
   "id": "a79b897c",
   "metadata": {},
   "outputs": [],
   "source": [
    "var_bin = ['num_derogatorios']"
   ]
  },
  {
   "cell_type": "markdown",
   "id": "9247e51a",
   "metadata": {},
   "source": [
    "#### Instanciar"
   ]
  },
  {
   "cell_type": "code",
   "execution_count": 195,
   "id": "2bcf7c5f",
   "metadata": {},
   "outputs": [],
   "source": [
    "bin = Binarizer(threshold=0) # THRESHOLD Es el umbral, ya que él 75% de los derogatoriso son 0, le damos ese valor."
   ]
  },
  {
   "cell_type": "markdown",
   "id": "b4c17941",
   "metadata": {},
   "source": [
    "#### Entrenar y aplicar"
   ]
  },
  {
   "cell_type": "code",
   "execution_count": 196,
   "id": "087568ab",
   "metadata": {},
   "outputs": [],
   "source": [
    "num_bin = bin.fit_transform(num[var_bin])"
   ]
  },
  {
   "cell_type": "markdown",
   "id": "52401fa6",
   "metadata": {},
   "source": [
    "#### Guardar como dataframe"
   ]
  },
  {
   "cell_type": "code",
   "execution_count": 197,
   "id": "990bab10",
   "metadata": {},
   "outputs": [],
   "source": [
    "#Añadir sufijos a los nombres\n",
    "nombres_bin = [variable + '_bin' for variable in var_bin]\n",
    "\n",
    "#Guardar como dataframe\n",
    "num_bin = pd.DataFrame(num_bin,columns = nombres_bin)"
   ]
  },
  {
   "cell_type": "markdown",
   "id": "5f9ffae2",
   "metadata": {},
   "source": [
    "## REESCALAR VARIABLES"
   ]
  },
  {
   "cell_type": "markdown",
   "id": "c25c29ca",
   "metadata": {},
   "source": [
    "**VARIABLES A REESCALAR**"
   ]
  },
  {
   "cell_type": "code",
   "execution_count": 198,
   "id": "b72fefce",
   "metadata": {},
   "outputs": [],
   "source": [
    "num_escalar = num[['ingresos',\n",
    " 'dti',\n",
    " 'num_hipotecas',\n",
    " 'num_lineas_credito',\n",
    " 'porc_tarjetas_75p',\n",
    " 'porc_uso_revolving',\n",
    " 'num_cancelaciones_12meses',\n",
    " 'principal',\n",
    " 'tipo_interes',\n",
    " 'imp_cuota']].reset_index(drop = True)"
   ]
  },
  {
   "cell_type": "code",
   "execution_count": 199,
   "id": "67986e73",
   "metadata": {
    "scrolled": false
   },
   "outputs": [
    {
     "data": {
      "text/html": [
       "<div>\n",
       "<style scoped>\n",
       "    .dataframe tbody tr th:only-of-type {\n",
       "        vertical-align: middle;\n",
       "    }\n",
       "\n",
       "    .dataframe tbody tr th {\n",
       "        vertical-align: top;\n",
       "    }\n",
       "\n",
       "    .dataframe thead th {\n",
       "        text-align: right;\n",
       "    }\n",
       "</style>\n",
       "<table border=\"1\" class=\"dataframe\">\n",
       "  <thead>\n",
       "    <tr style=\"text-align: right;\">\n",
       "      <th></th>\n",
       "      <th>ingresos</th>\n",
       "      <th>dti</th>\n",
       "      <th>num_hipotecas</th>\n",
       "      <th>num_lineas_credito</th>\n",
       "      <th>porc_tarjetas_75p</th>\n",
       "      <th>porc_uso_revolving</th>\n",
       "      <th>num_cancelaciones_12meses</th>\n",
       "      <th>principal</th>\n",
       "      <th>tipo_interes</th>\n",
       "      <th>imp_cuota</th>\n",
       "      <th>rating_oe</th>\n",
       "      <th>antiguedad_empleo_oe</th>\n",
       "    </tr>\n",
       "  </thead>\n",
       "  <tbody>\n",
       "    <tr>\n",
       "      <th>0</th>\n",
       "      <td>54000.0</td>\n",
       "      <td>19.31</td>\n",
       "      <td>2</td>\n",
       "      <td>10</td>\n",
       "      <td>33.3</td>\n",
       "      <td>45.2</td>\n",
       "      <td>0</td>\n",
       "      <td>15000.0</td>\n",
       "      <td>7.21</td>\n",
       "      <td>464.60</td>\n",
       "      <td>6.0</td>\n",
       "      <td>3.0</td>\n",
       "    </tr>\n",
       "    <tr>\n",
       "      <th>1</th>\n",
       "      <td>65000.0</td>\n",
       "      <td>25.40</td>\n",
       "      <td>1</td>\n",
       "      <td>15</td>\n",
       "      <td>85.7</td>\n",
       "      <td>86.2</td>\n",
       "      <td>0</td>\n",
       "      <td>10000.0</td>\n",
       "      <td>17.77</td>\n",
       "      <td>360.38</td>\n",
       "      <td>3.0</td>\n",
       "      <td>10.0</td>\n",
       "    </tr>\n",
       "    <tr>\n",
       "      <th>2</th>\n",
       "      <td>135000.0</td>\n",
       "      <td>14.68</td>\n",
       "      <td>0</td>\n",
       "      <td>19</td>\n",
       "      <td>0.0</td>\n",
       "      <td>16.3</td>\n",
       "      <td>0</td>\n",
       "      <td>24000.0</td>\n",
       "      <td>6.39</td>\n",
       "      <td>734.38</td>\n",
       "      <td>6.0</td>\n",
       "      <td>5.0</td>\n",
       "    </tr>\n",
       "    <tr>\n",
       "      <th>3</th>\n",
       "      <td>188000.0</td>\n",
       "      <td>11.69</td>\n",
       "      <td>3</td>\n",
       "      <td>15</td>\n",
       "      <td>0.0</td>\n",
       "      <td>3.3</td>\n",
       "      <td>0</td>\n",
       "      <td>27000.0</td>\n",
       "      <td>8.99</td>\n",
       "      <td>560.35</td>\n",
       "      <td>5.0</td>\n",
       "      <td>9.0</td>\n",
       "    </tr>\n",
       "    <tr>\n",
       "      <th>4</th>\n",
       "      <td>125000.0</td>\n",
       "      <td>9.00</td>\n",
       "      <td>1</td>\n",
       "      <td>6</td>\n",
       "      <td>33.3</td>\n",
       "      <td>69.9</td>\n",
       "      <td>0</td>\n",
       "      <td>22000.0</td>\n",
       "      <td>10.90</td>\n",
       "      <td>719.22</td>\n",
       "      <td>5.0</td>\n",
       "      <td>7.0</td>\n",
       "    </tr>\n",
       "    <tr>\n",
       "      <th>...</th>\n",
       "      <td>...</td>\n",
       "      <td>...</td>\n",
       "      <td>...</td>\n",
       "      <td>...</td>\n",
       "      <td>...</td>\n",
       "      <td>...</td>\n",
       "      <td>...</td>\n",
       "      <td>...</td>\n",
       "      <td>...</td>\n",
       "      <td>...</td>\n",
       "      <td>...</td>\n",
       "      <td>...</td>\n",
       "    </tr>\n",
       "    <tr>\n",
       "      <th>124348</th>\n",
       "      <td>55000.0</td>\n",
       "      <td>18.33</td>\n",
       "      <td>2</td>\n",
       "      <td>9</td>\n",
       "      <td>60.0</td>\n",
       "      <td>46.7</td>\n",
       "      <td>0</td>\n",
       "      <td>5000.0</td>\n",
       "      <td>9.99</td>\n",
       "      <td>161.32</td>\n",
       "      <td>5.0</td>\n",
       "      <td>3.0</td>\n",
       "    </tr>\n",
       "    <tr>\n",
       "      <th>124349</th>\n",
       "      <td>200000.0</td>\n",
       "      <td>5.57</td>\n",
       "      <td>2</td>\n",
       "      <td>11</td>\n",
       "      <td>75.0</td>\n",
       "      <td>64.7</td>\n",
       "      <td>0</td>\n",
       "      <td>25000.0</td>\n",
       "      <td>11.80</td>\n",
       "      <td>827.98</td>\n",
       "      <td>5.0</td>\n",
       "      <td>7.0</td>\n",
       "    </tr>\n",
       "    <tr>\n",
       "      <th>124350</th>\n",
       "      <td>85000.0</td>\n",
       "      <td>33.05</td>\n",
       "      <td>1</td>\n",
       "      <td>25</td>\n",
       "      <td>90.0</td>\n",
       "      <td>76.0</td>\n",
       "      <td>1</td>\n",
       "      <td>3000.0</td>\n",
       "      <td>9.75</td>\n",
       "      <td>96.45</td>\n",
       "      <td>5.0</td>\n",
       "      <td>10.0</td>\n",
       "    </tr>\n",
       "    <tr>\n",
       "      <th>124351</th>\n",
       "      <td>55000.0</td>\n",
       "      <td>15.36</td>\n",
       "      <td>1</td>\n",
       "      <td>7</td>\n",
       "      <td>75.0</td>\n",
       "      <td>81.7</td>\n",
       "      <td>0</td>\n",
       "      <td>14400.0</td>\n",
       "      <td>17.47</td>\n",
       "      <td>361.53</td>\n",
       "      <td>3.0</td>\n",
       "      <td>10.0</td>\n",
       "    </tr>\n",
       "    <tr>\n",
       "      <th>124352</th>\n",
       "      <td>168000.0</td>\n",
       "      <td>4.69</td>\n",
       "      <td>0</td>\n",
       "      <td>8</td>\n",
       "      <td>0.0</td>\n",
       "      <td>52.4</td>\n",
       "      <td>0</td>\n",
       "      <td>30050.0</td>\n",
       "      <td>18.25</td>\n",
       "      <td>767.17</td>\n",
       "      <td>2.0</td>\n",
       "      <td>8.0</td>\n",
       "    </tr>\n",
       "  </tbody>\n",
       "</table>\n",
       "<p>124353 rows × 12 columns</p>\n",
       "</div>"
      ],
      "text/plain": [
       "        ingresos    dti  num_hipotecas  num_lineas_credito  porc_tarjetas_75p  \\\n",
       "0        54000.0  19.31              2                  10               33.3   \n",
       "1        65000.0  25.40              1                  15               85.7   \n",
       "2       135000.0  14.68              0                  19                0.0   \n",
       "3       188000.0  11.69              3                  15                0.0   \n",
       "4       125000.0   9.00              1                   6               33.3   \n",
       "...          ...    ...            ...                 ...                ...   \n",
       "124348   55000.0  18.33              2                   9               60.0   \n",
       "124349  200000.0   5.57              2                  11               75.0   \n",
       "124350   85000.0  33.05              1                  25               90.0   \n",
       "124351   55000.0  15.36              1                   7               75.0   \n",
       "124352  168000.0   4.69              0                   8                0.0   \n",
       "\n",
       "        porc_uso_revolving  num_cancelaciones_12meses  principal  \\\n",
       "0                     45.2                          0    15000.0   \n",
       "1                     86.2                          0    10000.0   \n",
       "2                     16.3                          0    24000.0   \n",
       "3                      3.3                          0    27000.0   \n",
       "4                     69.9                          0    22000.0   \n",
       "...                    ...                        ...        ...   \n",
       "124348                46.7                          0     5000.0   \n",
       "124349                64.7                          0    25000.0   \n",
       "124350                76.0                          1     3000.0   \n",
       "124351                81.7                          0    14400.0   \n",
       "124352                52.4                          0    30050.0   \n",
       "\n",
       "        tipo_interes  imp_cuota  rating_oe  antiguedad_empleo_oe  \n",
       "0               7.21     464.60        6.0                   3.0  \n",
       "1              17.77     360.38        3.0                  10.0  \n",
       "2               6.39     734.38        6.0                   5.0  \n",
       "3               8.99     560.35        5.0                   9.0  \n",
       "4              10.90     719.22        5.0                   7.0  \n",
       "...              ...        ...        ...                   ...  \n",
       "124348          9.99     161.32        5.0                   3.0  \n",
       "124349         11.80     827.98        5.0                   7.0  \n",
       "124350          9.75      96.45        5.0                  10.0  \n",
       "124351         17.47     361.53        3.0                  10.0  \n",
       "124352         18.25     767.17        2.0                   8.0  \n",
       "\n",
       "[124353 rows x 12 columns]"
      ]
     },
     "execution_count": 199,
     "metadata": {},
     "output_type": "execute_result"
    }
   ],
   "source": [
    "df_res = pd.concat([num_escalar,cat_oe], axis = 1)\n",
    "df_res"
   ]
  },
  {
   "cell_type": "markdown",
   "id": "fbc62831",
   "metadata": {},
   "source": [
    "### Con Min-Max"
   ]
  },
  {
   "cell_type": "markdown",
   "id": "de92d3fe",
   "metadata": {},
   "source": [
    "#### Variables a reescalar con Min-Max"
   ]
  },
  {
   "cell_type": "code",
   "execution_count": 200,
   "id": "4c9e40ba",
   "metadata": {},
   "outputs": [],
   "source": [
    "var_mms = df_res.columns"
   ]
  },
  {
   "cell_type": "markdown",
   "id": "b0b18ca7",
   "metadata": {},
   "source": [
    "#### Instanciar"
   ]
  },
  {
   "cell_type": "code",
   "execution_count": 201,
   "id": "44a71f10",
   "metadata": {},
   "outputs": [],
   "source": [
    "mms = MinMaxScaler()"
   ]
  },
  {
   "cell_type": "markdown",
   "id": "57f8f537",
   "metadata": {},
   "source": [
    "#### Entrenar y aplicar"
   ]
  },
  {
   "cell_type": "code",
   "execution_count": 202,
   "id": "b45d4fa8",
   "metadata": {},
   "outputs": [],
   "source": [
    "df_mms = mms.fit_transform(df_res[var_mms])"
   ]
  },
  {
   "cell_type": "markdown",
   "id": "aea83d81",
   "metadata": {},
   "source": [
    "#### Guardar como dataframe"
   ]
  },
  {
   "cell_type": "code",
   "execution_count": 203,
   "id": "d5ba3f86",
   "metadata": {},
   "outputs": [],
   "source": [
    "#Añadir sufijos a los nombres\n",
    "nombres_mms = [variable + '_mms' for variable in var_mms]\n",
    "\n",
    "#Guardar como dataframe\n",
    "df_mms = pd.DataFrame(df_mms,columns = nombres_mms)"
   ]
  },
  {
   "cell_type": "markdown",
   "id": "87434e0c",
   "metadata": {},
   "source": [
    "## UNIFICAR DATASETS TRANSFORMADOS"
   ]
  },
  {
   "cell_type": "code",
   "execution_count": 228,
   "id": "a61b13e2",
   "metadata": {},
   "outputs": [],
   "source": [
    "pd.options.display.max_columns = 6"
   ]
  },
  {
   "cell_type": "markdown",
   "id": "2b90d8a5",
   "metadata": {},
   "source": [
    "### Creación de lista de dataframes a unir para modelo PD"
   ]
  },
  {
   "cell_type": "code",
   "execution_count": 211,
   "id": "1267b86e",
   "metadata": {},
   "outputs": [],
   "source": [
    "incluir_pd = [cat_ohe, df_mms,num_bin,cat.reset_index()[['id_cliente','pd']]]"
   ]
  },
  {
   "cell_type": "code",
   "execution_count": 212,
   "id": "1a0f6ea0",
   "metadata": {},
   "outputs": [],
   "source": [
    "df_pd = pd.concat(incluir_pd, axis = 1)"
   ]
  },
  {
   "cell_type": "code",
   "execution_count": 213,
   "id": "0dac96e1",
   "metadata": {},
   "outputs": [],
   "source": [
    "df_pd.set_index('id_cliente', inplace= True)"
   ]
  },
  {
   "cell_type": "code",
   "execution_count": 229,
   "id": "b6b836a2",
   "metadata": {},
   "outputs": [
    {
     "data": {
      "text/html": [
       "<div>\n",
       "<style scoped>\n",
       "    .dataframe tbody tr th:only-of-type {\n",
       "        vertical-align: middle;\n",
       "    }\n",
       "\n",
       "    .dataframe tbody tr th {\n",
       "        vertical-align: top;\n",
       "    }\n",
       "\n",
       "    .dataframe thead th {\n",
       "        text-align: right;\n",
       "    }\n",
       "</style>\n",
       "<table border=\"1\" class=\"dataframe\">\n",
       "  <thead>\n",
       "    <tr style=\"text-align: right;\">\n",
       "      <th></th>\n",
       "      <th>ingresos_verificados_Not Verified</th>\n",
       "      <th>ingresos_verificados_Source Verified</th>\n",
       "      <th>ingresos_verificados_Verified</th>\n",
       "      <th>...</th>\n",
       "      <th>antiguedad_empleo_oe_mms</th>\n",
       "      <th>num_derogatorios_bin</th>\n",
       "      <th>pd</th>\n",
       "    </tr>\n",
       "    <tr>\n",
       "      <th>id_cliente</th>\n",
       "      <th></th>\n",
       "      <th></th>\n",
       "      <th></th>\n",
       "      <th></th>\n",
       "      <th></th>\n",
       "      <th></th>\n",
       "      <th></th>\n",
       "    </tr>\n",
       "  </thead>\n",
       "  <tbody>\n",
       "    <tr>\n",
       "      <th>137387967</th>\n",
       "      <td>0.0</td>\n",
       "      <td>1.0</td>\n",
       "      <td>0.0</td>\n",
       "      <td>...</td>\n",
       "      <td>0.3</td>\n",
       "      <td>0.0</td>\n",
       "      <td>0</td>\n",
       "    </tr>\n",
       "    <tr>\n",
       "      <th>4798121</th>\n",
       "      <td>1.0</td>\n",
       "      <td>0.0</td>\n",
       "      <td>0.0</td>\n",
       "      <td>...</td>\n",
       "      <td>1.0</td>\n",
       "      <td>0.0</td>\n",
       "      <td>1</td>\n",
       "    </tr>\n",
       "    <tr>\n",
       "      <th>46641215</th>\n",
       "      <td>0.0</td>\n",
       "      <td>0.0</td>\n",
       "      <td>1.0</td>\n",
       "      <td>...</td>\n",
       "      <td>0.5</td>\n",
       "      <td>0.0</td>\n",
       "      <td>0</td>\n",
       "    </tr>\n",
       "    <tr>\n",
       "      <th>87998444</th>\n",
       "      <td>0.0</td>\n",
       "      <td>1.0</td>\n",
       "      <td>0.0</td>\n",
       "      <td>...</td>\n",
       "      <td>0.9</td>\n",
       "      <td>0.0</td>\n",
       "      <td>0</td>\n",
       "    </tr>\n",
       "    <tr>\n",
       "      <th>132883631</th>\n",
       "      <td>0.0</td>\n",
       "      <td>1.0</td>\n",
       "      <td>0.0</td>\n",
       "      <td>...</td>\n",
       "      <td>0.7</td>\n",
       "      <td>0.0</td>\n",
       "      <td>0</td>\n",
       "    </tr>\n",
       "    <tr>\n",
       "      <th>...</th>\n",
       "      <td>...</td>\n",
       "      <td>...</td>\n",
       "      <td>...</td>\n",
       "      <td>...</td>\n",
       "      <td>...</td>\n",
       "      <td>...</td>\n",
       "      <td>...</td>\n",
       "    </tr>\n",
       "    <tr>\n",
       "      <th>51856888</th>\n",
       "      <td>0.0</td>\n",
       "      <td>1.0</td>\n",
       "      <td>0.0</td>\n",
       "      <td>...</td>\n",
       "      <td>0.3</td>\n",
       "      <td>0.0</td>\n",
       "      <td>0</td>\n",
       "    </tr>\n",
       "    <tr>\n",
       "      <th>144538772</th>\n",
       "      <td>1.0</td>\n",
       "      <td>0.0</td>\n",
       "      <td>0.0</td>\n",
       "      <td>...</td>\n",
       "      <td>0.7</td>\n",
       "      <td>0.0</td>\n",
       "      <td>0</td>\n",
       "    </tr>\n",
       "    <tr>\n",
       "      <th>73222117</th>\n",
       "      <td>0.0</td>\n",
       "      <td>0.0</td>\n",
       "      <td>1.0</td>\n",
       "      <td>...</td>\n",
       "      <td>1.0</td>\n",
       "      <td>0.0</td>\n",
       "      <td>0</td>\n",
       "    </tr>\n",
       "    <tr>\n",
       "      <th>129396054</th>\n",
       "      <td>0.0</td>\n",
       "      <td>1.0</td>\n",
       "      <td>0.0</td>\n",
       "      <td>...</td>\n",
       "      <td>1.0</td>\n",
       "      <td>0.0</td>\n",
       "      <td>0</td>\n",
       "    </tr>\n",
       "    <tr>\n",
       "      <th>53664762</th>\n",
       "      <td>0.0</td>\n",
       "      <td>1.0</td>\n",
       "      <td>0.0</td>\n",
       "      <td>...</td>\n",
       "      <td>0.8</td>\n",
       "      <td>1.0</td>\n",
       "      <td>1</td>\n",
       "    </tr>\n",
       "  </tbody>\n",
       "</table>\n",
       "<p>124353 rows × 32 columns</p>\n",
       "</div>"
      ],
      "text/plain": [
       "            ingresos_verificados_Not Verified  \\\n",
       "id_cliente                                      \n",
       "137387967                                 0.0   \n",
       "4798121                                   1.0   \n",
       "46641215                                  0.0   \n",
       "87998444                                  0.0   \n",
       "132883631                                 0.0   \n",
       "...                                       ...   \n",
       "51856888                                  0.0   \n",
       "144538772                                 1.0   \n",
       "73222117                                  0.0   \n",
       "129396054                                 0.0   \n",
       "53664762                                  0.0   \n",
       "\n",
       "            ingresos_verificados_Source Verified  \\\n",
       "id_cliente                                         \n",
       "137387967                                    1.0   \n",
       "4798121                                      0.0   \n",
       "46641215                                     0.0   \n",
       "87998444                                     1.0   \n",
       "132883631                                    1.0   \n",
       "...                                          ...   \n",
       "51856888                                     1.0   \n",
       "144538772                                    0.0   \n",
       "73222117                                     0.0   \n",
       "129396054                                    1.0   \n",
       "53664762                                     1.0   \n",
       "\n",
       "            ingresos_verificados_Verified  ...  antiguedad_empleo_oe_mms  \\\n",
       "id_cliente                                 ...                             \n",
       "137387967                             0.0  ...                       0.3   \n",
       "4798121                               0.0  ...                       1.0   \n",
       "46641215                              1.0  ...                       0.5   \n",
       "87998444                              0.0  ...                       0.9   \n",
       "132883631                             0.0  ...                       0.7   \n",
       "...                                   ...  ...                       ...   \n",
       "51856888                              0.0  ...                       0.3   \n",
       "144538772                             0.0  ...                       0.7   \n",
       "73222117                              1.0  ...                       1.0   \n",
       "129396054                             0.0  ...                       1.0   \n",
       "53664762                              0.0  ...                       0.8   \n",
       "\n",
       "            num_derogatorios_bin  pd  \n",
       "id_cliente                            \n",
       "137387967                    0.0   0  \n",
       "4798121                      0.0   1  \n",
       "46641215                     0.0   0  \n",
       "87998444                     0.0   0  \n",
       "132883631                    0.0   0  \n",
       "...                          ...  ..  \n",
       "51856888                     0.0   0  \n",
       "144538772                    0.0   0  \n",
       "73222117                     0.0   0  \n",
       "129396054                    0.0   0  \n",
       "53664762                     1.0   1  \n",
       "\n",
       "[124353 rows x 32 columns]"
      ]
     },
     "execution_count": 229,
     "metadata": {},
     "output_type": "execute_result"
    }
   ],
   "source": [
    "df_pd"
   ]
  },
  {
   "cell_type": "markdown",
   "id": "b22a00a1",
   "metadata": {},
   "source": [
    "### Creación de lista de dataframes a unir para modelo EAD"
   ]
  },
  {
   "cell_type": "code",
   "execution_count": 214,
   "id": "8ce46ec0",
   "metadata": {},
   "outputs": [],
   "source": [
    "incluir_ead = [cat_ohe, num_bin, df_mms,num.reset_index()[['id_cliente','ead']]]"
   ]
  },
  {
   "cell_type": "code",
   "execution_count": 215,
   "id": "7880f18b",
   "metadata": {},
   "outputs": [],
   "source": [
    "df_ead = pd.concat(incluir_ead, axis = 1)"
   ]
  },
  {
   "cell_type": "code",
   "execution_count": 216,
   "id": "a6f32ab1",
   "metadata": {},
   "outputs": [],
   "source": [
    "df_ead.set_index('id_cliente', inplace= True)"
   ]
  },
  {
   "cell_type": "code",
   "execution_count": 230,
   "id": "c65c21ad",
   "metadata": {},
   "outputs": [
    {
     "data": {
      "text/html": [
       "<div>\n",
       "<style scoped>\n",
       "    .dataframe tbody tr th:only-of-type {\n",
       "        vertical-align: middle;\n",
       "    }\n",
       "\n",
       "    .dataframe tbody tr th {\n",
       "        vertical-align: top;\n",
       "    }\n",
       "\n",
       "    .dataframe thead th {\n",
       "        text-align: right;\n",
       "    }\n",
       "</style>\n",
       "<table border=\"1\" class=\"dataframe\">\n",
       "  <thead>\n",
       "    <tr style=\"text-align: right;\">\n",
       "      <th></th>\n",
       "      <th>ingresos_verificados_Not Verified</th>\n",
       "      <th>ingresos_verificados_Source Verified</th>\n",
       "      <th>ingresos_verificados_Verified</th>\n",
       "      <th>...</th>\n",
       "      <th>rating_oe_mms</th>\n",
       "      <th>antiguedad_empleo_oe_mms</th>\n",
       "      <th>ead</th>\n",
       "    </tr>\n",
       "    <tr>\n",
       "      <th>id_cliente</th>\n",
       "      <th></th>\n",
       "      <th></th>\n",
       "      <th></th>\n",
       "      <th></th>\n",
       "      <th></th>\n",
       "      <th></th>\n",
       "      <th></th>\n",
       "    </tr>\n",
       "  </thead>\n",
       "  <tbody>\n",
       "    <tr>\n",
       "      <th>137387967</th>\n",
       "      <td>0.0</td>\n",
       "      <td>1.0</td>\n",
       "      <td>0.0</td>\n",
       "      <td>...</td>\n",
       "      <td>1.000000</td>\n",
       "      <td>0.3</td>\n",
       "      <td>0.822063</td>\n",
       "    </tr>\n",
       "    <tr>\n",
       "      <th>4798121</th>\n",
       "      <td>1.0</td>\n",
       "      <td>0.0</td>\n",
       "      <td>0.0</td>\n",
       "      <td>...</td>\n",
       "      <td>0.500000</td>\n",
       "      <td>1.0</td>\n",
       "      <td>0.363704</td>\n",
       "    </tr>\n",
       "    <tr>\n",
       "      <th>46641215</th>\n",
       "      <td>0.0</td>\n",
       "      <td>0.0</td>\n",
       "      <td>1.0</td>\n",
       "      <td>...</td>\n",
       "      <td>1.000000</td>\n",
       "      <td>0.5</td>\n",
       "      <td>0.000000</td>\n",
       "    </tr>\n",
       "    <tr>\n",
       "      <th>87998444</th>\n",
       "      <td>0.0</td>\n",
       "      <td>1.0</td>\n",
       "      <td>0.0</td>\n",
       "      <td>...</td>\n",
       "      <td>0.833333</td>\n",
       "      <td>0.9</td>\n",
       "      <td>0.539148</td>\n",
       "    </tr>\n",
       "    <tr>\n",
       "      <th>132883631</th>\n",
       "      <td>0.0</td>\n",
       "      <td>1.0</td>\n",
       "      <td>0.0</td>\n",
       "      <td>...</td>\n",
       "      <td>0.833333</td>\n",
       "      <td>0.7</td>\n",
       "      <td>0.000000</td>\n",
       "    </tr>\n",
       "    <tr>\n",
       "      <th>...</th>\n",
       "      <td>...</td>\n",
       "      <td>...</td>\n",
       "      <td>...</td>\n",
       "      <td>...</td>\n",
       "      <td>...</td>\n",
       "      <td>...</td>\n",
       "      <td>...</td>\n",
       "    </tr>\n",
       "    <tr>\n",
       "      <th>51856888</th>\n",
       "      <td>0.0</td>\n",
       "      <td>1.0</td>\n",
       "      <td>0.0</td>\n",
       "      <td>...</td>\n",
       "      <td>0.833333</td>\n",
       "      <td>0.3</td>\n",
       "      <td>0.000000</td>\n",
       "    </tr>\n",
       "    <tr>\n",
       "      <th>144538772</th>\n",
       "      <td>1.0</td>\n",
       "      <td>0.0</td>\n",
       "      <td>0.0</td>\n",
       "      <td>...</td>\n",
       "      <td>0.833333</td>\n",
       "      <td>0.7</td>\n",
       "      <td>0.929453</td>\n",
       "    </tr>\n",
       "    <tr>\n",
       "      <th>73222117</th>\n",
       "      <td>0.0</td>\n",
       "      <td>0.0</td>\n",
       "      <td>1.0</td>\n",
       "      <td>...</td>\n",
       "      <td>0.833333</td>\n",
       "      <td>1.0</td>\n",
       "      <td>0.000000</td>\n",
       "    </tr>\n",
       "    <tr>\n",
       "      <th>129396054</th>\n",
       "      <td>0.0</td>\n",
       "      <td>1.0</td>\n",
       "      <td>0.0</td>\n",
       "      <td>...</td>\n",
       "      <td>0.500000</td>\n",
       "      <td>1.0</td>\n",
       "      <td>0.862782</td>\n",
       "    </tr>\n",
       "    <tr>\n",
       "      <th>53664762</th>\n",
       "      <td>0.0</td>\n",
       "      <td>1.0</td>\n",
       "      <td>0.0</td>\n",
       "      <td>...</td>\n",
       "      <td>0.333333</td>\n",
       "      <td>0.8</td>\n",
       "      <td>0.901350</td>\n",
       "    </tr>\n",
       "  </tbody>\n",
       "</table>\n",
       "<p>124353 rows × 32 columns</p>\n",
       "</div>"
      ],
      "text/plain": [
       "            ingresos_verificados_Not Verified  \\\n",
       "id_cliente                                      \n",
       "137387967                                 0.0   \n",
       "4798121                                   1.0   \n",
       "46641215                                  0.0   \n",
       "87998444                                  0.0   \n",
       "132883631                                 0.0   \n",
       "...                                       ...   \n",
       "51856888                                  0.0   \n",
       "144538772                                 1.0   \n",
       "73222117                                  0.0   \n",
       "129396054                                 0.0   \n",
       "53664762                                  0.0   \n",
       "\n",
       "            ingresos_verificados_Source Verified  \\\n",
       "id_cliente                                         \n",
       "137387967                                    1.0   \n",
       "4798121                                      0.0   \n",
       "46641215                                     0.0   \n",
       "87998444                                     1.0   \n",
       "132883631                                    1.0   \n",
       "...                                          ...   \n",
       "51856888                                     1.0   \n",
       "144538772                                    0.0   \n",
       "73222117                                     0.0   \n",
       "129396054                                    1.0   \n",
       "53664762                                     1.0   \n",
       "\n",
       "            ingresos_verificados_Verified  ...  rating_oe_mms  \\\n",
       "id_cliente                                 ...                  \n",
       "137387967                             0.0  ...       1.000000   \n",
       "4798121                               0.0  ...       0.500000   \n",
       "46641215                              1.0  ...       1.000000   \n",
       "87998444                              0.0  ...       0.833333   \n",
       "132883631                             0.0  ...       0.833333   \n",
       "...                                   ...  ...            ...   \n",
       "51856888                              0.0  ...       0.833333   \n",
       "144538772                             0.0  ...       0.833333   \n",
       "73222117                              1.0  ...       0.833333   \n",
       "129396054                             0.0  ...       0.500000   \n",
       "53664762                              0.0  ...       0.333333   \n",
       "\n",
       "            antiguedad_empleo_oe_mms       ead  \n",
       "id_cliente                                      \n",
       "137387967                        0.3  0.822063  \n",
       "4798121                          1.0  0.363704  \n",
       "46641215                         0.5  0.000000  \n",
       "87998444                         0.9  0.539148  \n",
       "132883631                        0.7  0.000000  \n",
       "...                              ...       ...  \n",
       "51856888                         0.3  0.000000  \n",
       "144538772                        0.7  0.929453  \n",
       "73222117                         1.0  0.000000  \n",
       "129396054                        1.0  0.862782  \n",
       "53664762                         0.8  0.901350  \n",
       "\n",
       "[124353 rows x 32 columns]"
      ]
     },
     "execution_count": 230,
     "metadata": {},
     "output_type": "execute_result"
    }
   ],
   "source": [
    "df_ead"
   ]
  },
  {
   "cell_type": "markdown",
   "id": "9e1b951a",
   "metadata": {},
   "source": [
    "### Creación de lista de dataframes a unir para modelo LG"
   ]
  },
  {
   "cell_type": "code",
   "execution_count": 217,
   "id": "9b78cd9a",
   "metadata": {},
   "outputs": [],
   "source": [
    "incluir_lg= [cat_ohe,cat_oe,num_bin, df_mms,num.reset_index()[['id_cliente','lg']]]"
   ]
  },
  {
   "cell_type": "code",
   "execution_count": 218,
   "id": "5f1af943",
   "metadata": {},
   "outputs": [],
   "source": [
    "df_lg = pd.concat(incluir_lg, axis = 1)"
   ]
  },
  {
   "cell_type": "code",
   "execution_count": 219,
   "id": "78a9c25d",
   "metadata": {},
   "outputs": [],
   "source": [
    "df_lg.set_index('id_cliente', inplace= True)"
   ]
  },
  {
   "cell_type": "code",
   "execution_count": 231,
   "id": "aa95911f",
   "metadata": {
    "scrolled": true
   },
   "outputs": [
    {
     "data": {
      "text/html": [
       "<div>\n",
       "<style scoped>\n",
       "    .dataframe tbody tr th:only-of-type {\n",
       "        vertical-align: middle;\n",
       "    }\n",
       "\n",
       "    .dataframe tbody tr th {\n",
       "        vertical-align: top;\n",
       "    }\n",
       "\n",
       "    .dataframe thead th {\n",
       "        text-align: right;\n",
       "    }\n",
       "</style>\n",
       "<table border=\"1\" class=\"dataframe\">\n",
       "  <thead>\n",
       "    <tr style=\"text-align: right;\">\n",
       "      <th></th>\n",
       "      <th>ingresos_verificados_Not Verified</th>\n",
       "      <th>ingresos_verificados_Source Verified</th>\n",
       "      <th>ingresos_verificados_Verified</th>\n",
       "      <th>...</th>\n",
       "      <th>rating_oe_mms</th>\n",
       "      <th>antiguedad_empleo_oe_mms</th>\n",
       "      <th>lg</th>\n",
       "    </tr>\n",
       "    <tr>\n",
       "      <th>id_cliente</th>\n",
       "      <th></th>\n",
       "      <th></th>\n",
       "      <th></th>\n",
       "      <th></th>\n",
       "      <th></th>\n",
       "      <th></th>\n",
       "      <th></th>\n",
       "    </tr>\n",
       "  </thead>\n",
       "  <tbody>\n",
       "    <tr>\n",
       "      <th>137387967</th>\n",
       "      <td>0.0</td>\n",
       "      <td>1.0</td>\n",
       "      <td>0.0</td>\n",
       "      <td>...</td>\n",
       "      <td>1.000000</td>\n",
       "      <td>0.3</td>\n",
       "      <td>1.000000</td>\n",
       "    </tr>\n",
       "    <tr>\n",
       "      <th>4798121</th>\n",
       "      <td>1.0</td>\n",
       "      <td>0.0</td>\n",
       "      <td>0.0</td>\n",
       "      <td>...</td>\n",
       "      <td>0.500000</td>\n",
       "      <td>1.0</td>\n",
       "      <td>1.000000</td>\n",
       "    </tr>\n",
       "    <tr>\n",
       "      <th>46641215</th>\n",
       "      <td>0.0</td>\n",
       "      <td>0.0</td>\n",
       "      <td>1.0</td>\n",
       "      <td>...</td>\n",
       "      <td>1.000000</td>\n",
       "      <td>0.5</td>\n",
       "      <td>0.000000</td>\n",
       "    </tr>\n",
       "    <tr>\n",
       "      <th>87998444</th>\n",
       "      <td>0.0</td>\n",
       "      <td>1.0</td>\n",
       "      <td>0.0</td>\n",
       "      <td>...</td>\n",
       "      <td>0.833333</td>\n",
       "      <td>0.9</td>\n",
       "      <td>1.000000</td>\n",
       "    </tr>\n",
       "    <tr>\n",
       "      <th>132883631</th>\n",
       "      <td>0.0</td>\n",
       "      <td>1.0</td>\n",
       "      <td>0.0</td>\n",
       "      <td>...</td>\n",
       "      <td>0.833333</td>\n",
       "      <td>0.7</td>\n",
       "      <td>0.000000</td>\n",
       "    </tr>\n",
       "    <tr>\n",
       "      <th>...</th>\n",
       "      <td>...</td>\n",
       "      <td>...</td>\n",
       "      <td>...</td>\n",
       "      <td>...</td>\n",
       "      <td>...</td>\n",
       "      <td>...</td>\n",
       "      <td>...</td>\n",
       "    </tr>\n",
       "    <tr>\n",
       "      <th>51856888</th>\n",
       "      <td>0.0</td>\n",
       "      <td>1.0</td>\n",
       "      <td>0.0</td>\n",
       "      <td>...</td>\n",
       "      <td>0.833333</td>\n",
       "      <td>0.3</td>\n",
       "      <td>0.000000</td>\n",
       "    </tr>\n",
       "    <tr>\n",
       "      <th>144538772</th>\n",
       "      <td>1.0</td>\n",
       "      <td>0.0</td>\n",
       "      <td>0.0</td>\n",
       "      <td>...</td>\n",
       "      <td>0.833333</td>\n",
       "      <td>0.7</td>\n",
       "      <td>1.000000</td>\n",
       "    </tr>\n",
       "    <tr>\n",
       "      <th>73222117</th>\n",
       "      <td>0.0</td>\n",
       "      <td>0.0</td>\n",
       "      <td>1.0</td>\n",
       "      <td>...</td>\n",
       "      <td>0.833333</td>\n",
       "      <td>1.0</td>\n",
       "      <td>0.000000</td>\n",
       "    </tr>\n",
       "    <tr>\n",
       "      <th>129396054</th>\n",
       "      <td>0.0</td>\n",
       "      <td>1.0</td>\n",
       "      <td>0.0</td>\n",
       "      <td>...</td>\n",
       "      <td>0.500000</td>\n",
       "      <td>1.0</td>\n",
       "      <td>1.000000</td>\n",
       "    </tr>\n",
       "    <tr>\n",
       "      <th>53664762</th>\n",
       "      <td>0.0</td>\n",
       "      <td>1.0</td>\n",
       "      <td>0.0</td>\n",
       "      <td>...</td>\n",
       "      <td>0.333333</td>\n",
       "      <td>0.8</td>\n",
       "      <td>0.898437</td>\n",
       "    </tr>\n",
       "  </tbody>\n",
       "</table>\n",
       "<p>124353 rows × 34 columns</p>\n",
       "</div>"
      ],
      "text/plain": [
       "            ingresos_verificados_Not Verified  \\\n",
       "id_cliente                                      \n",
       "137387967                                 0.0   \n",
       "4798121                                   1.0   \n",
       "46641215                                  0.0   \n",
       "87998444                                  0.0   \n",
       "132883631                                 0.0   \n",
       "...                                       ...   \n",
       "51856888                                  0.0   \n",
       "144538772                                 1.0   \n",
       "73222117                                  0.0   \n",
       "129396054                                 0.0   \n",
       "53664762                                  0.0   \n",
       "\n",
       "            ingresos_verificados_Source Verified  \\\n",
       "id_cliente                                         \n",
       "137387967                                    1.0   \n",
       "4798121                                      0.0   \n",
       "46641215                                     0.0   \n",
       "87998444                                     1.0   \n",
       "132883631                                    1.0   \n",
       "...                                          ...   \n",
       "51856888                                     1.0   \n",
       "144538772                                    0.0   \n",
       "73222117                                     0.0   \n",
       "129396054                                    1.0   \n",
       "53664762                                     1.0   \n",
       "\n",
       "            ingresos_verificados_Verified  ...  rating_oe_mms  \\\n",
       "id_cliente                                 ...                  \n",
       "137387967                             0.0  ...       1.000000   \n",
       "4798121                               0.0  ...       0.500000   \n",
       "46641215                              1.0  ...       1.000000   \n",
       "87998444                              0.0  ...       0.833333   \n",
       "132883631                             0.0  ...       0.833333   \n",
       "...                                   ...  ...            ...   \n",
       "51856888                              0.0  ...       0.833333   \n",
       "144538772                             0.0  ...       0.833333   \n",
       "73222117                              1.0  ...       0.833333   \n",
       "129396054                             0.0  ...       0.500000   \n",
       "53664762                              0.0  ...       0.333333   \n",
       "\n",
       "            antiguedad_empleo_oe_mms        lg  \n",
       "id_cliente                                      \n",
       "137387967                        0.3  1.000000  \n",
       "4798121                          1.0  1.000000  \n",
       "46641215                         0.5  0.000000  \n",
       "87998444                         0.9  1.000000  \n",
       "132883631                        0.7  0.000000  \n",
       "...                              ...       ...  \n",
       "51856888                         0.3  0.000000  \n",
       "144538772                        0.7  1.000000  \n",
       "73222117                         1.0  0.000000  \n",
       "129396054                        1.0  1.000000  \n",
       "53664762                         0.8  0.898437  \n",
       "\n",
       "[124353 rows x 34 columns]"
      ]
     },
     "execution_count": 231,
     "metadata": {},
     "output_type": "execute_result"
    }
   ],
   "source": [
    "df_lg"
   ]
  },
  {
   "cell_type": "code",
   "execution_count": 232,
   "id": "fa8d6cb8",
   "metadata": {},
   "outputs": [
    {
     "name": "stdout",
     "output_type": "stream",
     "text": [
      "<class 'pandas.core.frame.DataFrame'>\n",
      "Int64Index: 124353 entries, 137387967 to 53664762\n",
      "Data columns (total 32 columns):\n",
      " #   Column                                Non-Null Count   Dtype  \n",
      "---  ------                                --------------   -----  \n",
      " 0   ingresos_verificados_Not Verified     124353 non-null  float64\n",
      " 1   ingresos_verificados_Source Verified  124353 non-null  float64\n",
      " 2   ingresos_verificados_Verified         124353 non-null  float64\n",
      " 3   vivienda_MORTGAGE                     124353 non-null  float64\n",
      " 4   vivienda_OWN                          124353 non-null  float64\n",
      " 5   vivienda_RENT                         124353 non-null  float64\n",
      " 6   finalidad_car                         124353 non-null  float64\n",
      " 7   finalidad_credit_card                 124353 non-null  float64\n",
      " 8   finalidad_debt_consolidation          124353 non-null  float64\n",
      " 9   finalidad_home_improvement            124353 non-null  float64\n",
      " 10  finalidad_major_purchase              124353 non-null  float64\n",
      " 11  finalidad_medical                     124353 non-null  float64\n",
      " 12  finalidad_moving                      124353 non-null  float64\n",
      " 13  finalidad_other                       124353 non-null  float64\n",
      " 14  finalidad_small_business              124353 non-null  float64\n",
      " 15  finalidad_vacation                    124353 non-null  float64\n",
      " 16  num_cuotas_ 36 months                 124353 non-null  float64\n",
      " 17  num_cuotas_ 60 months                 124353 non-null  float64\n",
      " 18  ingresos_mms                          124353 non-null  float64\n",
      " 19  dti_mms                               124353 non-null  float64\n",
      " 20  num_hipotecas_mms                     124353 non-null  float64\n",
      " 21  num_lineas_credito_mms                124353 non-null  float64\n",
      " 22  porc_tarjetas_75p_mms                 124353 non-null  float64\n",
      " 23  porc_uso_revolving_mms                124353 non-null  float64\n",
      " 24  num_cancelaciones_12meses_mms         124353 non-null  float64\n",
      " 25  principal_mms                         124353 non-null  float64\n",
      " 26  tipo_interes_mms                      124353 non-null  float64\n",
      " 27  imp_cuota_mms                         124353 non-null  float64\n",
      " 28  rating_oe_mms                         124353 non-null  float64\n",
      " 29  antiguedad_empleo_oe_mms              124353 non-null  float64\n",
      " 30  num_derogatorios_bin                  124353 non-null  float64\n",
      " 31  pd                                    124353 non-null  int32  \n",
      "dtypes: float64(31), int32(1)\n",
      "memory usage: 30.8 MB\n"
     ]
    }
   ],
   "source": [
    "df_pd.info()"
   ]
  },
  {
   "cell_type": "markdown",
   "id": "9f098f8a",
   "metadata": {},
   "source": [
    "## GUARDAR DATASET TRAS TRANSFORMACIÓN DE DATOS"
   ]
  },
  {
   "cell_type": "markdown",
   "id": "7656ba95",
   "metadata": {},
   "source": [
    "En formato pickle para no perder las modificaciones de metadatos."
   ]
  },
  {
   "cell_type": "code",
   "execution_count": 220,
   "id": "782bf43c",
   "metadata": {},
   "outputs": [],
   "source": [
    "#Definir los nombres del archivo\n",
    "ruta_df_pd = ruta_proyecto + '/02_Datos/03_Trabajo/' + 'df_pd'\n",
    "ruta_df_ead = ruta_proyecto + '/02_Datos/03_Trabajo/' + 'df_ead'\n",
    "ruta_df_lg = ruta_proyecto + '/02_Datos/03_Trabajo/' + 'df_lg'"
   ]
  },
  {
   "cell_type": "code",
   "execution_count": 221,
   "id": "44c7dd60",
   "metadata": {},
   "outputs": [],
   "source": [
    "#Guardar los archivos\n",
    "df_pd.to_pickle(ruta_df_pd)\n",
    "df_ead.to_pickle(ruta_df_ead)\n",
    "df_lg.to_pickle(ruta_df_lg)"
   ]
  }
 ],
 "metadata": {
  "kernelspec": {
   "display_name": "Python 3 (ipykernel)",
   "language": "python",
   "name": "python3"
  },
  "language_info": {
   "codemirror_mode": {
    "name": "ipython",
    "version": 3
   },
   "file_extension": ".py",
   "mimetype": "text/x-python",
   "name": "python",
   "nbconvert_exporter": "python",
   "pygments_lexer": "ipython3",
   "version": "3.10.4"
  },
  "toc": {
   "base_numbering": 1,
   "nav_menu": {},
   "number_sections": true,
   "sideBar": true,
   "skip_h1_title": false,
   "title_cell": "Table of Contents",
   "title_sidebar": "Contents",
   "toc_cell": false,
   "toc_position": {
    "height": "calc(100% - 180px)",
    "left": "10px",
    "top": "150px",
    "width": "346.917px"
   },
   "toc_section_display": true,
   "toc_window_display": false
  },
  "varInspector": {
   "cols": {
    "lenName": 16,
    "lenType": 16,
    "lenVar": 40
   },
   "kernels_config": {
    "python": {
     "delete_cmd_postfix": "",
     "delete_cmd_prefix": "del ",
     "library": "var_list.py",
     "varRefreshCmd": "print(var_dic_list())"
    },
    "r": {
     "delete_cmd_postfix": ") ",
     "delete_cmd_prefix": "rm(",
     "library": "var_list.r",
     "varRefreshCmd": "cat(var_dic_list()) "
    }
   },
   "position": {
    "height": "546.849px",
    "left": "890.742px",
    "right": "20px",
    "top": "115.99px",
    "width": "350px"
   },
   "types_to_exclude": [
    "module",
    "function",
    "builtin_function_or_method",
    "instance",
    "_Feature"
   ],
   "window_display": false
  }
 },
 "nbformat": 4,
 "nbformat_minor": 5
}
