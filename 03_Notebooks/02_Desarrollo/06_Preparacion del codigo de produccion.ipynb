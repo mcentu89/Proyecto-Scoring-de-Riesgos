{
 "cells": [
  {
   "cell_type": "markdown",
   "id": "797ae63f",
   "metadata": {},
   "source": [
    "## IMPORTAR LAS LIBRERIAS"
   ]
  },
  {
   "cell_type": "markdown",
   "id": "64445de1",
   "metadata": {},
   "source": [
    "Actualizar a las que se usen finalmente en tu proyecto."
   ]
  },
  {
   "cell_type": "code",
   "execution_count": 147,
   "id": "ffe7be80",
   "metadata": {},
   "outputs": [],
   "source": [
    "import numpy as np\n",
    "import pandas as pd\n",
    "import cloudpickle\n",
    "\n",
    "#Automcompletar rápido\n",
    "%config IPCompleter.greedy=True\n",
    "\n",
    "from janitor import clean_names\n",
    "\n",
    "from sklearn.preprocessing import OrdinalEncoder\n",
    "from sklearn.preprocessing import OneHotEncoder\n",
    "from sklearn.preprocessing import Binarizer\n",
    "from sklearn.preprocessing import MinMaxScaler\n",
    "\n",
    "from sklearn.ensemble import HistGradientBoostingRegressor\n",
    "from sklearn.linear_model import LogisticRegression\n",
    "\n",
    "from sklearn.pipeline import Pipeline\n",
    "from sklearn.preprocessing import FunctionTransformer\n",
    "from sklearn.compose import make_column_transformer\n",
    "from sklearn.pipeline import make_pipeline"
   ]
  },
  {
   "cell_type": "markdown",
   "id": "5e12241c",
   "metadata": {},
   "source": [
    "## CARGAR LOS DATOS"
   ]
  },
  {
   "cell_type": "markdown",
   "id": "807b37d3",
   "metadata": {},
   "source": [
    "### Ruta del proyecto"
   ]
  },
  {
   "cell_type": "code",
   "execution_count": 148,
   "id": "5a6711f7",
   "metadata": {},
   "outputs": [],
   "source": [
    "ruta_proyecto = r'C:\\Users\\mcent\\OneDrive\\Escritorio\\PROYECTOS ML\\SCORING_DE_RIESGOS'"
   ]
  },
  {
   "cell_type": "markdown",
   "id": "89fe9a43",
   "metadata": {},
   "source": [
    "### Nombre del fichero de datos"
   ]
  },
  {
   "cell_type": "code",
   "execution_count": 149,
   "id": "25b345d7",
   "metadata": {},
   "outputs": [],
   "source": [
    "nombre_fichero_datos = 'prestamos.csv'"
   ]
  },
  {
   "cell_type": "markdown",
   "id": "765f82e1",
   "metadata": {},
   "source": [
    "### Cargar los datos"
   ]
  },
  {
   "cell_type": "code",
   "execution_count": 150,
   "id": "480494ff",
   "metadata": {},
   "outputs": [],
   "source": [
    "ruta_completa = ruta_proyecto + '/02_Datos/01_Originales/' + nombre_fichero_datos\n",
    "\n",
    "df = pd.read_csv(ruta_completa,index_col=0)"
   ]
  },
  {
   "cell_type": "markdown",
   "id": "454738c9",
   "metadata": {},
   "source": [
    "### Seleccionar solo las variables finales"
   ]
  },
  {
   "cell_type": "markdown",
   "id": "dec65eba",
   "metadata": {},
   "source": [
    "Se analizan los ficheros de df_pd, df_ead y df_lg para determinar las variables finales."
   ]
  },
  {
   "cell_type": "code",
   "execution_count": 151,
   "id": "22497063",
   "metadata": {},
   "outputs": [
    {
     "name": "stdout",
     "output_type": "stream",
     "text": [
      "<class 'pandas.core.frame.DataFrame'>\n",
      "Int64Index: 200000 entries, 137387967 to 94394801\n",
      "Data columns (total 24 columns):\n",
      " #   Column                       Non-Null Count   Dtype  \n",
      "---  ------                       --------------   -----  \n",
      " 0   empleo                       185300 non-null  object \n",
      " 1   antigüedad_empleo            187112 non-null  object \n",
      " 2   ingresos                     200000 non-null  float64\n",
      " 3   ingresos_verificados         200000 non-null  object \n",
      " 4   rating                       200000 non-null  object \n",
      " 5   dti                          199853 non-null  float64\n",
      " 6   vivienda                     200000 non-null  object \n",
      " 7   num_hipotecas                195595 non-null  float64\n",
      " 8   num_lineas_credito           199997 non-null  float64\n",
      " 9   porc_tarjetas_75p            193368 non-null  float64\n",
      " 10  porc_uso_revolving           199846 non-null  float64\n",
      " 11  num_cancelaciones_12meses    199988 non-null  float64\n",
      " 12  num_derogatorios             199997 non-null  float64\n",
      " 13  num_meses_desde_ult_retraso  97384 non-null   float64\n",
      " 14  id_prestamo                  0 non-null       float64\n",
      " 15  descripcion                  11113 non-null   object \n",
      " 16  finalidad                    200000 non-null  object \n",
      " 17  principal                    200000 non-null  float64\n",
      " 18  tipo_interes                 200000 non-null  float64\n",
      " 19  num_cuotas                   200000 non-null  object \n",
      " 20  imp_cuota                    200000 non-null  float64\n",
      " 21  imp_amortizado               200000 non-null  float64\n",
      " 22  estado                       200000 non-null  object \n",
      " 23  imp_recuperado               200000 non-null  float64\n",
      "dtypes: float64(15), object(9)\n",
      "memory usage: 38.1+ MB\n"
     ]
    }
   ],
   "source": [
    "df.info()"
   ]
  },
  {
   "cell_type": "markdown",
   "id": "9c127d9a",
   "metadata": {},
   "source": [
    "#### Apuntar (manualmente) la lista de variables finales sin extensiones"
   ]
  },
  {
   "cell_type": "code",
   "execution_count": 152,
   "id": "da477021",
   "metadata": {},
   "outputs": [],
   "source": [
    "variables_finales = ['ingresos_verificados',\n",
    "                     'vivienda',\n",
    "                     'finalidad',\n",
    "                     'num_cuotas',\n",
    "                     'antiguedad_empleo',\n",
    "                     'rating',\n",
    "                     'ingresos',\n",
    "                     'dti',\n",
    "                     'num_lineas_credito',\n",
    "                     'porc_uso_revolving',\n",
    "                     'principal',\n",
    "                     'tipo_interes',\n",
    "                     'imp_cuota',\n",
    "                     'num_derogatorios',\n",
    "                     'estado',\n",
    "                     'imp_amortizado',\n",
    "                     'imp_recuperado',\n",
    "                     'num_hipotecas']"
   ]
  },
  {
   "cell_type": "markdown",
   "id": "8aee393a",
   "metadata": {},
   "source": [
    "**Se eliminan número de hipotecas, porc_tarjetas_75p**"
   ]
  },
  {
   "cell_type": "markdown",
   "id": "f81f09bf",
   "metadata": {},
   "source": [
    "#### Crear la matriz de variables procesos (excel)"
   ]
  },
  {
   "cell_type": "markdown",
   "id": "735beb13",
   "metadata": {},
   "source": [
    "Ir a la plantilla de Excel \"Fase Producción Plantilla Procesos\" y crear la matriz de variables por procesos."
   ]
  },
  {
   "cell_type": "markdown",
   "id": "ee3f31a6",
   "metadata": {},
   "source": [
    "#### Actualizar las importaciones"
   ]
  },
  {
   "cell_type": "markdown",
   "id": "80c12eea",
   "metadata": {},
   "source": [
    "Ir arriba a la celda de importacion de paquetes y actualizarlos con los que finalmente vamos a usar."
   ]
  },
  {
   "cell_type": "markdown",
   "id": "fe5a706b",
   "metadata": {},
   "source": [
    "## ESTRUCTURA DE LOS DATASETS"
   ]
  },
  {
   "cell_type": "markdown",
   "id": "32cd09e5",
   "metadata": {},
   "source": [
    "### Corregir los nombres"
   ]
  },
  {
   "cell_type": "code",
   "execution_count": 153,
   "id": "f08e56d8",
   "metadata": {},
   "outputs": [],
   "source": [
    "df = clean_names(df)"
   ]
  },
  {
   "cell_type": "code",
   "execution_count": 154,
   "id": "70c28a63",
   "metadata": {},
   "outputs": [],
   "source": [
    "df = df[variables_finales]"
   ]
  },
  {
   "cell_type": "markdown",
   "id": "a9cd9497",
   "metadata": {},
   "source": [
    "### Eliminar registros"
   ]
  },
  {
   "cell_type": "code",
   "execution_count": 155,
   "id": "361fd5f0",
   "metadata": {},
   "outputs": [],
   "source": [
    "a_eliminar = ['porc_uso_revolving','dti','num_lineas_credito','num_derogatorios']\n",
    "\n",
    "def eliminar_registros(temp, a_eliminar):\n",
    "    for variable in a_eliminar:\n",
    "        indices = temp.loc[df[variable].isna()].index\n",
    "        temp.drop(indices, inplace= True)\n",
    "        \n",
    "eliminar_registros(df, a_eliminar)\n",
    "\n",
    "\n",
    "a_dejar = df.loc[~((df.ingresos < 12000) | (df.ingresos > 300000))].index\n",
    "df = df.loc[a_dejar]"
   ]
  },
  {
   "cell_type": "markdown",
   "id": "99bb2255",
   "metadata": {},
   "source": [
    "## CREAR EL PIPELINE"
   ]
  },
  {
   "cell_type": "markdown",
   "id": "6d6e8fca",
   "metadata": {},
   "source": [
    "### Instanciar calidad de datos"
   ]
  },
  {
   "cell_type": "markdown",
   "id": "06178080",
   "metadata": {},
   "source": [
    "#### Crear la función"
   ]
  },
  {
   "cell_type": "code",
   "execution_count": 156,
   "id": "98177b43",
   "metadata": {},
   "outputs": [],
   "source": [
    "def calidad_datos(temp):\n",
    "    \n",
    "    temp = temp.astype({'num_hipotecas':'Int64','num_lineas_credito':'Int64',\n",
    "                'num_derogatorios':'Int64'})\n",
    "    \n",
    "    temp['num_hipotecas'] = temp['num_hipotecas'].fillna(0)\n",
    "    \n",
    "    def imputar_moda(variable):\n",
    "        return(variable.fillna(variable.mode()[0]))\n",
    "    temp['antiguedad_empleo'] = imputar_moda(temp.antiguedad_empleo)\n",
    "    \n",
    "    \n",
    "    temp['finalidad'] = temp.finalidad.replace({'house':'other','renewable_energy':'other'})\n",
    "    temp['vivienda'] = temp.vivienda.replace({'NONE':'MORTGAGE','ANY':'MORTGAGE','OTHER':'MORTGAGE'})    \n",
    "    \n",
    "    minimo = 0\n",
    "    maximo = 100           \n",
    "    temp['dti'] = temp['dti'].clip(minimo,maximo)\n",
    "    temp['porc_uso_revolving'] = temp['porc_uso_revolving'].clip(minimo,maximo)   \n",
    "    \n",
    "    temp['num_hipotecas'] = temp['num_hipotecas'].fillna(0)\n",
    "    \n",
    "    return(temp)"
   ]
  },
  {
   "cell_type": "markdown",
   "id": "88e57147",
   "metadata": {},
   "source": [
    "### Instanciar Creacion de Variables"
   ]
  },
  {
   "cell_type": "markdown",
   "id": "89edfa08",
   "metadata": {},
   "source": [
    "Debido a que la creación de variables es diferentes para los 3 modelos, ya que hay tres targets, necesitamos construir 3 funciones."
   ]
  },
  {
   "cell_type": "markdown",
   "id": "4832accb",
   "metadata": {},
   "source": [
    "#### Creacion funciones PD - EAD - LG"
   ]
  },
  {
   "cell_type": "code",
   "execution_count": 157,
   "id": "87b99471",
   "metadata": {},
   "outputs": [],
   "source": [
    "def creacion_pd(df):\n",
    "    temp = df.copy()\n",
    "    \n",
    "    temp['pendiente'] = temp['principal'] - temp['imp_amortizado']\n",
    "    temp['pd'] = np.where(temp.estado.isin(['Charged Off','Does not meet the credit policy. Status:Charged Off','Default']), 1, 0)\n",
    "\n",
    "    #Eliminamos variables que ya no usaremos\n",
    "    temp.drop(columns=['imp_recuperado','imp_amortizado','pendiente','estado'], inplace = True)\n",
    "    \n",
    "    temp_x = temp.iloc[:,:-1]\n",
    "    temp_y = temp.iloc[:,-1]\n",
    "    \n",
    "    return (temp_x, temp_y)"
   ]
  },
  {
   "cell_type": "code",
   "execution_count": 158,
   "id": "216f5c21",
   "metadata": {},
   "outputs": [],
   "source": [
    "def creacion_ead(df):\n",
    "    temp = df.copy()\n",
    "    \n",
    "    temp['ead'] = (1- temp.imp_amortizado/temp.principal)\n",
    "    \n",
    "    #Eliminamos variables que ya no usaremos\n",
    "    temp.drop(columns=['imp_recuperado','imp_amortizado','estado'], inplace = True)\n",
    "    \n",
    "    temp_x = temp.iloc[:,:-1]\n",
    "    temp_y = temp.iloc[:,-1]\n",
    "    \n",
    "    return (temp_x, temp_y)"
   ]
  },
  {
   "cell_type": "code",
   "execution_count": 159,
   "id": "c3e87143",
   "metadata": {},
   "outputs": [],
   "source": [
    "def creacion_lg(df):\n",
    "    temp = df.copy()\n",
    "    \n",
    "    temp['pendiente'] = temp.principal - temp.imp_amortizado\n",
    "    temp['lg'] = (1 - temp.imp_recuperado/temp.pendiente)\n",
    "    temp['lg'].fillna(0,inplace=True)\n",
    "    \n",
    "    #Eliminamos variables que ya no usaremos\n",
    "    temp.drop(columns=['imp_recuperado','imp_amortizado','pendiente','estado'], inplace = True)\n",
    "    \n",
    "    temp_x = temp.iloc[:,:-1]\n",
    "    temp_y = temp.iloc[:,-1]\n",
    "    \n",
    "    return (temp_x, temp_y)"
   ]
  },
  {
   "cell_type": "markdown",
   "id": "90ab6bce",
   "metadata": {},
   "source": [
    "#### Creamos dataframes x e y"
   ]
  },
  {
   "cell_type": "code",
   "execution_count": 160,
   "id": "2740bc89",
   "metadata": {},
   "outputs": [],
   "source": [
    "x_pd, y_pd = creacion_pd(calidad_datos(df))\n",
    "\n",
    "x_ead, y_ead = creacion_ead(calidad_datos(df))\n",
    "\n",
    "x_lg, y_lg = creacion_lg(calidad_datos(df))"
   ]
  },
  {
   "cell_type": "markdown",
   "id": "118b9754",
   "metadata": {},
   "source": [
    "### Instanciar transformación de variables"
   ]
  },
  {
   "cell_type": "code",
   "execution_count": 135,
   "id": "ee711664",
   "metadata": {},
   "outputs": [],
   "source": [
    "## ONE HOT ENCODING\n",
    "var_ohe = ['ingresos_verificados','vivienda','finalidad','num_cuotas']\n",
    "ohe = OneHotEncoder(sparse = False, handle_unknown='ignore')\n",
    "\n",
    "\n",
    "## ORDINAL ENCODING\n",
    "var_oe = ['rating','antiguedad_empleo']\n",
    "orden_rating = ['G','F','E','D','C','B','A']\n",
    "orden_antiguedad_empleo = ['< 1 year', '1 year','2 years','3 years','4 years','5 years', '6 years', '7 years', '8 years', '9 years', '10+ years']\n",
    "\n",
    "oe = OrdinalEncoder(categories = [orden_rating,orden_antiguedad_empleo],\n",
    "                    handle_unknown = 'use_encoded_value',\n",
    "                    unknown_value = 11)\n",
    "\n",
    "#BINARIZACION\n",
    "var_bin = ['num_derogatorios']\n",
    "bin = Binarizer(threshold=0)\n",
    "\n",
    "#ESTANDARIZACION\n",
    "var_mms = ['ingresos','dti','num_hipotecas','num_lineas_credito','porc_uso_revolving','principal','tipo_interes','imp_cuota']\n",
    "mms = MinMaxScaler()"
   ]
  },
  {
   "cell_type": "markdown",
   "id": "eaf3f141",
   "metadata": {},
   "source": [
    "### Crear el pipe del preprocesamiento"
   ]
  },
  {
   "cell_type": "markdown",
   "id": "8d7b7821",
   "metadata": {},
   "source": [
    "#### Crear el column transformer"
   ]
  },
  {
   "cell_type": "code",
   "execution_count": 136,
   "id": "e577b34d",
   "metadata": {},
   "outputs": [],
   "source": [
    "ct = make_column_transformer(\n",
    "    (ohe, var_ohe),\n",
    "    (oe, var_oe),\n",
    "    (bin, var_bin),\n",
    "    (mms, var_mms),\n",
    "    remainder='passthrough')"
   ]
  },
  {
   "cell_type": "markdown",
   "id": "d4b08601",
   "metadata": {},
   "source": [
    "### Instanciar los modelos"
   ]
  },
  {
   "cell_type": "markdown",
   "id": "b64c9e60",
   "metadata": {},
   "source": [
    "#### Instanciar los algoritmos"
   ]
  },
  {
   "cell_type": "code",
   "execution_count": 137,
   "id": "8b2e752d",
   "metadata": {},
   "outputs": [],
   "source": [
    "modelo_pd = LogisticRegression(C=1, n_jobs=-1, penalty='l1', solver='saga')\n",
    "\n",
    "modelo_ead = HistGradientBoostingRegressor(learning_rate=0.1,\n",
    "                                           max_depth= 20, \n",
    "                                           max_iter=200, \n",
    "                                           l2_regularization=0.25, \n",
    "                                           min_samples_leaf=200, \n",
    "                                           scoring='neg_mean_absolute_percentage_error')\n",
    "\n",
    "modelo_lg = HistGradientBoostingRegressor(learning_rate=0.1,\n",
    "                                           max_depth= 20, \n",
    "                                           max_iter=200, \n",
    "                                           l2_regularization=0, \n",
    "                                           min_samples_leaf=200, \n",
    "                                           scoring='neg_mean_absolute_percentage_error')"
   ]
  },
  {
   "cell_type": "markdown",
   "id": "80f8e2f3",
   "metadata": {},
   "source": [
    "#### Crear los pipes finales de entrenamiento"
   ]
  },
  {
   "cell_type": "code",
   "execution_count": 138,
   "id": "0efb038b",
   "metadata": {},
   "outputs": [],
   "source": [
    "pipe_entrenamiento_pd = make_pipeline(ct,modelo_pd)\n",
    "pipe_entrenamiento_ead = make_pipeline(ct,modelo_ead)\n",
    "pipe_entrenamiento_lg = make_pipeline(ct,modelo_lg)"
   ]
  },
  {
   "cell_type": "markdown",
   "id": "cb0700d8",
   "metadata": {},
   "source": [
    "#### Guardar los pipes finales de entrenamiento"
   ]
  },
  {
   "cell_type": "code",
   "execution_count": 139,
   "id": "71715e9c",
   "metadata": {},
   "outputs": [],
   "source": [
    "nombre_pipe_entrenamiento_pd = 'pipe_entrenamiento_pd.pickle'\n",
    "nombre_pipe_entrenamiento_ead = 'pipe_entrenamiento_ead.pickle'\n",
    "nombre_pipe_entrenamiento_lg = 'pipe_entrenamiento_lg.pickle'\n",
    "\n",
    "ruta_pipe_entrenamiento_pd = ruta_proyecto + '/04_Modelos/' + nombre_pipe_entrenamiento_pd\n",
    "ruta_pipe_entrenamiento_ead = ruta_proyecto + '/04_Modelos/' + nombre_pipe_entrenamiento_ead\n",
    "ruta_pipe_entrenamiento_lg = ruta_proyecto + '/04_Modelos/' + nombre_pipe_entrenamiento_lg\n",
    "\n",
    "with open(ruta_pipe_entrenamiento_pd, mode='wb') as file:\n",
    "   cloudpickle.dump(pipe_entrenamiento_pd, file)\n",
    "with open(ruta_pipe_entrenamiento_ead, mode='wb') as file:\n",
    "   cloudpickle.dump(pipe_entrenamiento_ead, file)\n",
    "with open(ruta_pipe_entrenamiento_lg, mode='wb') as file:\n",
    "   cloudpickle.dump(pipe_entrenamiento_lg, file)"
   ]
  },
  {
   "cell_type": "markdown",
   "id": "2c7e5ed1",
   "metadata": {},
   "source": [
    "#### Entrenar los pipe final de ejecución"
   ]
  },
  {
   "cell_type": "code",
   "execution_count": 140,
   "id": "13ca2db6",
   "metadata": {},
   "outputs": [
    {
     "name": "stderr",
     "output_type": "stream",
     "text": [
      "C:\\Users\\mcent\\miniconda3\\envs\\riesgos\\lib\\site-packages\\sklearn\\linear_model\\_sag.py:350: ConvergenceWarning: The max_iter was reached which means the coef_ did not converge\n",
      "  warnings.warn(\n"
     ]
    }
   ],
   "source": [
    "pipe_ejecucion_pd = pipe_entrenamiento_pd.fit(x_pd,y_pd)\n",
    "pipe_ejecucion_ead = pipe_entrenamiento_ead.fit(x_ead,y_ead)\n",
    "pipe_ejecucion_lg = pipe_entrenamiento_lg.fit(x_lg,y_lg)"
   ]
  },
  {
   "cell_type": "markdown",
   "id": "52e506db",
   "metadata": {},
   "source": [
    "## GUARDAR EL PIPE"
   ]
  },
  {
   "cell_type": "markdown",
   "id": "86a5de63",
   "metadata": {},
   "source": [
    "### Nombre del pipe final de ejecución"
   ]
  },
  {
   "cell_type": "code",
   "execution_count": 141,
   "id": "967c6480",
   "metadata": {},
   "outputs": [],
   "source": [
    "nombre_pipe_ejecucion_pd = 'pipe_ejecucion_pd.pickle'\n",
    "nombre_pipe_ejecucion_ead = 'pipe_ejecucion_ead.pickle'\n",
    "nombre_pipe_ejecucion_lg = 'pipe_ejecucion_lg.pickle'"
   ]
  },
  {
   "cell_type": "markdown",
   "id": "afba8bc8",
   "metadata": {},
   "source": [
    "### Guardar el pipe final de ejecución"
   ]
  },
  {
   "cell_type": "code",
   "execution_count": 142,
   "id": "1dda8f25",
   "metadata": {},
   "outputs": [],
   "source": [
    "ruta_pipe_ejecucion_pd = ruta_proyecto + '/04_Modelos/' + nombre_pipe_ejecucion_pd\n",
    "\n",
    "with open(ruta_pipe_ejecucion_pd, mode='wb') as file:\n",
    "   cloudpickle.dump(pipe_ejecucion_pd, file)\n",
    "\n",
    "ruta_pipe_ejecucion_ead = ruta_proyecto + '/04_Modelos/' + nombre_pipe_ejecucion_ead\n",
    "\n",
    "with open(ruta_pipe_ejecucion_ead, mode='wb') as file:\n",
    "   cloudpickle.dump(pipe_ejecucion_ead, file)\n",
    "\n",
    "ruta_pipe_ejecucion_lg = ruta_proyecto + '/04_Modelos/' + nombre_pipe_ejecucion_lg\n",
    "\n",
    "with open(ruta_pipe_ejecucion_lg, mode='wb') as file:\n",
    "   cloudpickle.dump(pipe_ejecucion_lg, file)"
   ]
  }
 ],
 "metadata": {
  "kernelspec": {
   "display_name": "Python 3 (ipykernel)",
   "language": "python",
   "name": "python3"
  },
  "language_info": {
   "codemirror_mode": {
    "name": "ipython",
    "version": 3
   },
   "file_extension": ".py",
   "mimetype": "text/x-python",
   "name": "python",
   "nbconvert_exporter": "python",
   "pygments_lexer": "ipython3",
   "version": "3.10.4"
  },
  "toc": {
   "base_numbering": 1,
   "nav_menu": {},
   "number_sections": true,
   "sideBar": true,
   "skip_h1_title": false,
   "title_cell": "Table of Contents",
   "title_sidebar": "Contents",
   "toc_cell": false,
   "toc_position": {
    "height": "calc(100% - 180px)",
    "left": "10px",
    "top": "150px",
    "width": "383.367px"
   },
   "toc_section_display": true,
   "toc_window_display": true
  },
  "varInspector": {
   "cols": {
    "lenName": 16,
    "lenType": 16,
    "lenVar": 40
   },
   "kernels_config": {
    "python": {
     "delete_cmd_postfix": "",
     "delete_cmd_prefix": "del ",
     "library": "var_list.py",
     "varRefreshCmd": "print(var_dic_list())"
    },
    "r": {
     "delete_cmd_postfix": ") ",
     "delete_cmd_prefix": "rm(",
     "library": "var_list.r",
     "varRefreshCmd": "cat(var_dic_list()) "
    }
   },
   "types_to_exclude": [
    "module",
    "function",
    "builtin_function_or_method",
    "instance",
    "_Feature"
   ],
   "window_display": false
  }
 },
 "nbformat": 4,
 "nbformat_minor": 5
}
